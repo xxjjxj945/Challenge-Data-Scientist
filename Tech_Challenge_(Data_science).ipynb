{
  "nbformat": 4,
  "nbformat_minor": 0,
  "metadata": {
    "colab": {
      "provenance": []
    },
    "kernelspec": {
      "name": "python3",
      "display_name": "Python 3"
    },
    "language_info": {
      "name": "python"
    }
  },
  "cells": [
    {
      "cell_type": "markdown",
      "source": [
        "Ton ancien collègue Bernardo t'appelle. Il est très inquiet. Son ordinateur est cassé et il n'avait aucune sauvegarde.\n",
        " \n",
        "\n",
        "Il l'avait posé sur une table, et le vent l'a fait tombé. Il te l'a déjà dit 100 fois : le vent trop fort ne fait que du tort à son activité.\n",
        " \n",
        "\n",
        "Bernardo gère les stocks de 4 boutiques. Il avait l'habitude de prévoir les ventes des prochaines semaines pour commander ses nouveaux stocks.\n",
        "\n",
        "Il vient juste de retrouvé un ancien fichier, avec les volumes de ventes de l'année 2019 d'une seule boutique, mais il ne sait pas laquelle. Il se rappelle que tu es le Zorro de la data. Il t'appelle donc à la rescousse."
      ],
      "metadata": {
        "id": "tvP5l5_Eao_L"
      }
    },
    {
      "cell_type": "markdown",
      "source": [
        "**1. Analyse descriptive exploratoire (EDA)**\n",
        "Tu commenceras par explorer les données de vente (fichier ici), et tu mettras en avant notamment les saisonnalités, les produits et la complétude des données.\n",
        "\n",
        "\n",
        "\n"
      ],
      "metadata": {
        "id": "H_mrHoF2gKPX"
      }
    },
    {
      "cell_type": "code",
      "execution_count": null,
      "metadata": {
        "id": "eYPhMM40ZL9I"
      },
      "outputs": [],
      "source": [
        "import pandas as pd\n",
        "import numpy as np\n",
        "import seaborn as sns\n",
        "import matplotlib.pyplot as plt\n",
        "\n",
        "import datetime\n",
        "from datetime import datetime\n",
        "from datetime import timedelta\n",
        "\n",
        "from sklearn.model_selection import train_test_split\n",
        "from sklearn.linear_model import LinearRegression\n",
        "from sklearn.tree import DecisionTreeRegressor\n",
        "from sklearn.ensemble import RandomForestRegressor\n",
        "\n",
        "from sklearn.preprocessing import StandardScaler\n",
        "from sklearn.model_selection import cross_val_score\n",
        "from sklearn.model_selection import GridSearchCV\n",
        "from sklearn.model_selection import RandomizedSearchCV\n",
        "\n"
      ]
    },
    {
      "cell_type": "code",
      "source": [
        "df=pd.read_csv('https://raw.githubusercontent.com/murpi/wilddata/master/test/history.csv')\n",
        "df"
      ],
      "metadata": {
        "colab": {
          "base_uri": "https://localhost:8080/",
          "height": 423
        },
        "id": "P2eAe0BjZZpC",
        "outputId": "b95f0b1b-9418-4e6e-a7d8-b9f4bb1cd282"
      },
      "execution_count": null,
      "outputs": [
        {
          "output_type": "execute_result",
          "data": {
            "text/plain": [
              "           DATE ITEM  SALES\n",
              "0    02-01-2019    A    113\n",
              "1    03-01-2019    A    143\n",
              "2    04-01-2019    A    145\n",
              "3    05-01-2019    A    167\n",
              "4    06-01-2019    A    202\n",
              "..          ...  ...    ...\n",
              "515  25-12-2019    B     96\n",
              "516  26-12-2019    B     85\n",
              "517  27-12-2019    B     87\n",
              "518  28-12-2019    B     79\n",
              "519  29-12-2019    B     76\n",
              "\n",
              "[520 rows x 3 columns]"
            ],
            "text/html": [
              "\n",
              "  <div id=\"df-4ca783fb-e7bf-45c5-b5a1-f997e318431e\">\n",
              "    <div class=\"colab-df-container\">\n",
              "      <div>\n",
              "<style scoped>\n",
              "    .dataframe tbody tr th:only-of-type {\n",
              "        vertical-align: middle;\n",
              "    }\n",
              "\n",
              "    .dataframe tbody tr th {\n",
              "        vertical-align: top;\n",
              "    }\n",
              "\n",
              "    .dataframe thead th {\n",
              "        text-align: right;\n",
              "    }\n",
              "</style>\n",
              "<table border=\"1\" class=\"dataframe\">\n",
              "  <thead>\n",
              "    <tr style=\"text-align: right;\">\n",
              "      <th></th>\n",
              "      <th>DATE</th>\n",
              "      <th>ITEM</th>\n",
              "      <th>SALES</th>\n",
              "    </tr>\n",
              "  </thead>\n",
              "  <tbody>\n",
              "    <tr>\n",
              "      <th>0</th>\n",
              "      <td>02-01-2019</td>\n",
              "      <td>A</td>\n",
              "      <td>113</td>\n",
              "    </tr>\n",
              "    <tr>\n",
              "      <th>1</th>\n",
              "      <td>03-01-2019</td>\n",
              "      <td>A</td>\n",
              "      <td>143</td>\n",
              "    </tr>\n",
              "    <tr>\n",
              "      <th>2</th>\n",
              "      <td>04-01-2019</td>\n",
              "      <td>A</td>\n",
              "      <td>145</td>\n",
              "    </tr>\n",
              "    <tr>\n",
              "      <th>3</th>\n",
              "      <td>05-01-2019</td>\n",
              "      <td>A</td>\n",
              "      <td>167</td>\n",
              "    </tr>\n",
              "    <tr>\n",
              "      <th>4</th>\n",
              "      <td>06-01-2019</td>\n",
              "      <td>A</td>\n",
              "      <td>202</td>\n",
              "    </tr>\n",
              "    <tr>\n",
              "      <th>...</th>\n",
              "      <td>...</td>\n",
              "      <td>...</td>\n",
              "      <td>...</td>\n",
              "    </tr>\n",
              "    <tr>\n",
              "      <th>515</th>\n",
              "      <td>25-12-2019</td>\n",
              "      <td>B</td>\n",
              "      <td>96</td>\n",
              "    </tr>\n",
              "    <tr>\n",
              "      <th>516</th>\n",
              "      <td>26-12-2019</td>\n",
              "      <td>B</td>\n",
              "      <td>85</td>\n",
              "    </tr>\n",
              "    <tr>\n",
              "      <th>517</th>\n",
              "      <td>27-12-2019</td>\n",
              "      <td>B</td>\n",
              "      <td>87</td>\n",
              "    </tr>\n",
              "    <tr>\n",
              "      <th>518</th>\n",
              "      <td>28-12-2019</td>\n",
              "      <td>B</td>\n",
              "      <td>79</td>\n",
              "    </tr>\n",
              "    <tr>\n",
              "      <th>519</th>\n",
              "      <td>29-12-2019</td>\n",
              "      <td>B</td>\n",
              "      <td>76</td>\n",
              "    </tr>\n",
              "  </tbody>\n",
              "</table>\n",
              "<p>520 rows × 3 columns</p>\n",
              "</div>\n",
              "      <button class=\"colab-df-convert\" onclick=\"convertToInteractive('df-4ca783fb-e7bf-45c5-b5a1-f997e318431e')\"\n",
              "              title=\"Convert this dataframe to an interactive table.\"\n",
              "              style=\"display:none;\">\n",
              "        \n",
              "  <svg xmlns=\"http://www.w3.org/2000/svg\" height=\"24px\"viewBox=\"0 0 24 24\"\n",
              "       width=\"24px\">\n",
              "    <path d=\"M0 0h24v24H0V0z\" fill=\"none\"/>\n",
              "    <path d=\"M18.56 5.44l.94 2.06.94-2.06 2.06-.94-2.06-.94-.94-2.06-.94 2.06-2.06.94zm-11 1L8.5 8.5l.94-2.06 2.06-.94-2.06-.94L8.5 2.5l-.94 2.06-2.06.94zm10 10l.94 2.06.94-2.06 2.06-.94-2.06-.94-.94-2.06-.94 2.06-2.06.94z\"/><path d=\"M17.41 7.96l-1.37-1.37c-.4-.4-.92-.59-1.43-.59-.52 0-1.04.2-1.43.59L10.3 9.45l-7.72 7.72c-.78.78-.78 2.05 0 2.83L4 21.41c.39.39.9.59 1.41.59.51 0 1.02-.2 1.41-.59l7.78-7.78 2.81-2.81c.8-.78.8-2.07 0-2.86zM5.41 20L4 18.59l7.72-7.72 1.47 1.35L5.41 20z\"/>\n",
              "  </svg>\n",
              "      </button>\n",
              "      \n",
              "  <style>\n",
              "    .colab-df-container {\n",
              "      display:flex;\n",
              "      flex-wrap:wrap;\n",
              "      gap: 12px;\n",
              "    }\n",
              "\n",
              "    .colab-df-convert {\n",
              "      background-color: #E8F0FE;\n",
              "      border: none;\n",
              "      border-radius: 50%;\n",
              "      cursor: pointer;\n",
              "      display: none;\n",
              "      fill: #1967D2;\n",
              "      height: 32px;\n",
              "      padding: 0 0 0 0;\n",
              "      width: 32px;\n",
              "    }\n",
              "\n",
              "    .colab-df-convert:hover {\n",
              "      background-color: #E2EBFA;\n",
              "      box-shadow: 0px 1px 2px rgba(60, 64, 67, 0.3), 0px 1px 3px 1px rgba(60, 64, 67, 0.15);\n",
              "      fill: #174EA6;\n",
              "    }\n",
              "\n",
              "    [theme=dark] .colab-df-convert {\n",
              "      background-color: #3B4455;\n",
              "      fill: #D2E3FC;\n",
              "    }\n",
              "\n",
              "    [theme=dark] .colab-df-convert:hover {\n",
              "      background-color: #434B5C;\n",
              "      box-shadow: 0px 1px 3px 1px rgba(0, 0, 0, 0.15);\n",
              "      filter: drop-shadow(0px 1px 2px rgba(0, 0, 0, 0.3));\n",
              "      fill: #FFFFFF;\n",
              "    }\n",
              "  </style>\n",
              "\n",
              "      <script>\n",
              "        const buttonEl =\n",
              "          document.querySelector('#df-4ca783fb-e7bf-45c5-b5a1-f997e318431e button.colab-df-convert');\n",
              "        buttonEl.style.display =\n",
              "          google.colab.kernel.accessAllowed ? 'block' : 'none';\n",
              "\n",
              "        async function convertToInteractive(key) {\n",
              "          const element = document.querySelector('#df-4ca783fb-e7bf-45c5-b5a1-f997e318431e');\n",
              "          const dataTable =\n",
              "            await google.colab.kernel.invokeFunction('convertToInteractive',\n",
              "                                                     [key], {});\n",
              "          if (!dataTable) return;\n",
              "\n",
              "          const docLinkHtml = 'Like what you see? Visit the ' +\n",
              "            '<a target=\"_blank\" href=https://colab.research.google.com/notebooks/data_table.ipynb>data table notebook</a>'\n",
              "            + ' to learn more about interactive tables.';\n",
              "          element.innerHTML = '';\n",
              "          dataTable['output_type'] = 'display_data';\n",
              "          await google.colab.output.renderOutput(dataTable, element);\n",
              "          const docLink = document.createElement('div');\n",
              "          docLink.innerHTML = docLinkHtml;\n",
              "          element.appendChild(docLink);\n",
              "        }\n",
              "      </script>\n",
              "    </div>\n",
              "  </div>\n",
              "  "
            ]
          },
          "metadata": {},
          "execution_count": 2
        }
      ]
    },
    {
      "cell_type": "code",
      "source": [
        "df.info()"
      ],
      "metadata": {
        "colab": {
          "base_uri": "https://localhost:8080/"
        },
        "id": "w3Yyv0ceZhC8",
        "outputId": "5392d438-dec2-451f-ceda-37a114660e3c"
      },
      "execution_count": null,
      "outputs": [
        {
          "output_type": "stream",
          "name": "stdout",
          "text": [
            "<class 'pandas.core.frame.DataFrame'>\n",
            "RangeIndex: 520 entries, 0 to 519\n",
            "Data columns (total 3 columns):\n",
            " #   Column  Non-Null Count  Dtype \n",
            "---  ------  --------------  ----- \n",
            " 0   DATE    520 non-null    object\n",
            " 1   ITEM    520 non-null    object\n",
            " 2   SALES   520 non-null    int64 \n",
            "dtypes: int64(1), object(2)\n",
            "memory usage: 12.3+ KB\n"
          ]
        }
      ]
    },
    {
      "cell_type": "code",
      "source": [
        "#change 'DATE' column to datetime type\n",
        "df['DATE']=df['DATE'].apply(lambda x: datetime.strptime(x, '%d-%m-%Y'))\n"
      ],
      "metadata": {
        "id": "0JUNVsAf9238"
      },
      "execution_count": null,
      "outputs": []
    },
    {
      "cell_type": "code",
      "source": [
        "# Add a column 'MONTH'\n",
        "df['MONTH'] = pd.DatetimeIndex(df['DATE']).month"
      ],
      "metadata": {
        "id": "gGpqAW1Xlfvk"
      },
      "execution_count": null,
      "outputs": []
    },
    {
      "cell_type": "code",
      "source": [
        "# Add a column 'WEEKDAY'\n",
        "df['WEEKDAY'] = df['DATE'].dt.day_name()\n",
        "df['WEEKDAY']=df['WEEKDAY'].map({'Monday':1,'Tuesday':2,'Wednesday':3,'Thursday':4,'Friday':5,'Saturday':6,'Sunday':7})"
      ],
      "metadata": {
        "id": "VPeR5awUAupO"
      },
      "execution_count": null,
      "outputs": []
    },
    {
      "cell_type": "code",
      "source": [
        "# Add a column 'WEEK'\n",
        "df['WEEK'] = df['DATE'].dt.week"
      ],
      "metadata": {
        "colab": {
          "base_uri": "https://localhost:8080/"
        },
        "id": "T72iwGzdZ4eq",
        "outputId": "db187b4b-38c5-41b9-bb82-166dce01ca43"
      },
      "execution_count": null,
      "outputs": [
        {
          "output_type": "stream",
          "name": "stderr",
          "text": [
            "<ipython-input-7-e41d795d1db8>:2: FutureWarning: Series.dt.weekofyear and Series.dt.week have been deprecated.  Please use Series.dt.isocalendar().week instead.\n",
            "  df['WEEK'] = df['DATE'].dt.week\n"
          ]
        }
      ]
    },
    {
      "cell_type": "code",
      "source": [
        "df"
      ],
      "metadata": {
        "colab": {
          "base_uri": "https://localhost:8080/",
          "height": 423
        },
        "id": "Lwd0CfUAlp-8",
        "outputId": "cb96aa86-cc2c-4a4b-90f2-d04c81733493"
      },
      "execution_count": null,
      "outputs": [
        {
          "output_type": "execute_result",
          "data": {
            "text/plain": [
              "          DATE ITEM  SALES  MONTH  WEEKDAY  WEEK\n",
              "0   2019-01-02    A    113      1        3     1\n",
              "1   2019-01-03    A    143      1        4     1\n",
              "2   2019-01-04    A    145      1        5     1\n",
              "3   2019-01-05    A    167      1        6     1\n",
              "4   2019-01-06    A    202      1        7     1\n",
              "..         ...  ...    ...    ...      ...   ...\n",
              "515 2019-12-25    B     96     12        3    52\n",
              "516 2019-12-26    B     85     12        4    52\n",
              "517 2019-12-27    B     87     12        5    52\n",
              "518 2019-12-28    B     79     12        6    52\n",
              "519 2019-12-29    B     76     12        7    52\n",
              "\n",
              "[520 rows x 6 columns]"
            ],
            "text/html": [
              "\n",
              "  <div id=\"df-240ff2af-768a-469f-b077-75abbd61ef28\">\n",
              "    <div class=\"colab-df-container\">\n",
              "      <div>\n",
              "<style scoped>\n",
              "    .dataframe tbody tr th:only-of-type {\n",
              "        vertical-align: middle;\n",
              "    }\n",
              "\n",
              "    .dataframe tbody tr th {\n",
              "        vertical-align: top;\n",
              "    }\n",
              "\n",
              "    .dataframe thead th {\n",
              "        text-align: right;\n",
              "    }\n",
              "</style>\n",
              "<table border=\"1\" class=\"dataframe\">\n",
              "  <thead>\n",
              "    <tr style=\"text-align: right;\">\n",
              "      <th></th>\n",
              "      <th>DATE</th>\n",
              "      <th>ITEM</th>\n",
              "      <th>SALES</th>\n",
              "      <th>MONTH</th>\n",
              "      <th>WEEKDAY</th>\n",
              "      <th>WEEK</th>\n",
              "    </tr>\n",
              "  </thead>\n",
              "  <tbody>\n",
              "    <tr>\n",
              "      <th>0</th>\n",
              "      <td>2019-01-02</td>\n",
              "      <td>A</td>\n",
              "      <td>113</td>\n",
              "      <td>1</td>\n",
              "      <td>3</td>\n",
              "      <td>1</td>\n",
              "    </tr>\n",
              "    <tr>\n",
              "      <th>1</th>\n",
              "      <td>2019-01-03</td>\n",
              "      <td>A</td>\n",
              "      <td>143</td>\n",
              "      <td>1</td>\n",
              "      <td>4</td>\n",
              "      <td>1</td>\n",
              "    </tr>\n",
              "    <tr>\n",
              "      <th>2</th>\n",
              "      <td>2019-01-04</td>\n",
              "      <td>A</td>\n",
              "      <td>145</td>\n",
              "      <td>1</td>\n",
              "      <td>5</td>\n",
              "      <td>1</td>\n",
              "    </tr>\n",
              "    <tr>\n",
              "      <th>3</th>\n",
              "      <td>2019-01-05</td>\n",
              "      <td>A</td>\n",
              "      <td>167</td>\n",
              "      <td>1</td>\n",
              "      <td>6</td>\n",
              "      <td>1</td>\n",
              "    </tr>\n",
              "    <tr>\n",
              "      <th>4</th>\n",
              "      <td>2019-01-06</td>\n",
              "      <td>A</td>\n",
              "      <td>202</td>\n",
              "      <td>1</td>\n",
              "      <td>7</td>\n",
              "      <td>1</td>\n",
              "    </tr>\n",
              "    <tr>\n",
              "      <th>...</th>\n",
              "      <td>...</td>\n",
              "      <td>...</td>\n",
              "      <td>...</td>\n",
              "      <td>...</td>\n",
              "      <td>...</td>\n",
              "      <td>...</td>\n",
              "    </tr>\n",
              "    <tr>\n",
              "      <th>515</th>\n",
              "      <td>2019-12-25</td>\n",
              "      <td>B</td>\n",
              "      <td>96</td>\n",
              "      <td>12</td>\n",
              "      <td>3</td>\n",
              "      <td>52</td>\n",
              "    </tr>\n",
              "    <tr>\n",
              "      <th>516</th>\n",
              "      <td>2019-12-26</td>\n",
              "      <td>B</td>\n",
              "      <td>85</td>\n",
              "      <td>12</td>\n",
              "      <td>4</td>\n",
              "      <td>52</td>\n",
              "    </tr>\n",
              "    <tr>\n",
              "      <th>517</th>\n",
              "      <td>2019-12-27</td>\n",
              "      <td>B</td>\n",
              "      <td>87</td>\n",
              "      <td>12</td>\n",
              "      <td>5</td>\n",
              "      <td>52</td>\n",
              "    </tr>\n",
              "    <tr>\n",
              "      <th>518</th>\n",
              "      <td>2019-12-28</td>\n",
              "      <td>B</td>\n",
              "      <td>79</td>\n",
              "      <td>12</td>\n",
              "      <td>6</td>\n",
              "      <td>52</td>\n",
              "    </tr>\n",
              "    <tr>\n",
              "      <th>519</th>\n",
              "      <td>2019-12-29</td>\n",
              "      <td>B</td>\n",
              "      <td>76</td>\n",
              "      <td>12</td>\n",
              "      <td>7</td>\n",
              "      <td>52</td>\n",
              "    </tr>\n",
              "  </tbody>\n",
              "</table>\n",
              "<p>520 rows × 6 columns</p>\n",
              "</div>\n",
              "      <button class=\"colab-df-convert\" onclick=\"convertToInteractive('df-240ff2af-768a-469f-b077-75abbd61ef28')\"\n",
              "              title=\"Convert this dataframe to an interactive table.\"\n",
              "              style=\"display:none;\">\n",
              "        \n",
              "  <svg xmlns=\"http://www.w3.org/2000/svg\" height=\"24px\"viewBox=\"0 0 24 24\"\n",
              "       width=\"24px\">\n",
              "    <path d=\"M0 0h24v24H0V0z\" fill=\"none\"/>\n",
              "    <path d=\"M18.56 5.44l.94 2.06.94-2.06 2.06-.94-2.06-.94-.94-2.06-.94 2.06-2.06.94zm-11 1L8.5 8.5l.94-2.06 2.06-.94-2.06-.94L8.5 2.5l-.94 2.06-2.06.94zm10 10l.94 2.06.94-2.06 2.06-.94-2.06-.94-.94-2.06-.94 2.06-2.06.94z\"/><path d=\"M17.41 7.96l-1.37-1.37c-.4-.4-.92-.59-1.43-.59-.52 0-1.04.2-1.43.59L10.3 9.45l-7.72 7.72c-.78.78-.78 2.05 0 2.83L4 21.41c.39.39.9.59 1.41.59.51 0 1.02-.2 1.41-.59l7.78-7.78 2.81-2.81c.8-.78.8-2.07 0-2.86zM5.41 20L4 18.59l7.72-7.72 1.47 1.35L5.41 20z\"/>\n",
              "  </svg>\n",
              "      </button>\n",
              "      \n",
              "  <style>\n",
              "    .colab-df-container {\n",
              "      display:flex;\n",
              "      flex-wrap:wrap;\n",
              "      gap: 12px;\n",
              "    }\n",
              "\n",
              "    .colab-df-convert {\n",
              "      background-color: #E8F0FE;\n",
              "      border: none;\n",
              "      border-radius: 50%;\n",
              "      cursor: pointer;\n",
              "      display: none;\n",
              "      fill: #1967D2;\n",
              "      height: 32px;\n",
              "      padding: 0 0 0 0;\n",
              "      width: 32px;\n",
              "    }\n",
              "\n",
              "    .colab-df-convert:hover {\n",
              "      background-color: #E2EBFA;\n",
              "      box-shadow: 0px 1px 2px rgba(60, 64, 67, 0.3), 0px 1px 3px 1px rgba(60, 64, 67, 0.15);\n",
              "      fill: #174EA6;\n",
              "    }\n",
              "\n",
              "    [theme=dark] .colab-df-convert {\n",
              "      background-color: #3B4455;\n",
              "      fill: #D2E3FC;\n",
              "    }\n",
              "\n",
              "    [theme=dark] .colab-df-convert:hover {\n",
              "      background-color: #434B5C;\n",
              "      box-shadow: 0px 1px 3px 1px rgba(0, 0, 0, 0.15);\n",
              "      filter: drop-shadow(0px 1px 2px rgba(0, 0, 0, 0.3));\n",
              "      fill: #FFFFFF;\n",
              "    }\n",
              "  </style>\n",
              "\n",
              "      <script>\n",
              "        const buttonEl =\n",
              "          document.querySelector('#df-240ff2af-768a-469f-b077-75abbd61ef28 button.colab-df-convert');\n",
              "        buttonEl.style.display =\n",
              "          google.colab.kernel.accessAllowed ? 'block' : 'none';\n",
              "\n",
              "        async function convertToInteractive(key) {\n",
              "          const element = document.querySelector('#df-240ff2af-768a-469f-b077-75abbd61ef28');\n",
              "          const dataTable =\n",
              "            await google.colab.kernel.invokeFunction('convertToInteractive',\n",
              "                                                     [key], {});\n",
              "          if (!dataTable) return;\n",
              "\n",
              "          const docLinkHtml = 'Like what you see? Visit the ' +\n",
              "            '<a target=\"_blank\" href=https://colab.research.google.com/notebooks/data_table.ipynb>data table notebook</a>'\n",
              "            + ' to learn more about interactive tables.';\n",
              "          element.innerHTML = '';\n",
              "          dataTable['output_type'] = 'display_data';\n",
              "          await google.colab.output.renderOutput(dataTable, element);\n",
              "          const docLink = document.createElement('div');\n",
              "          docLink.innerHTML = docLinkHtml;\n",
              "          element.appendChild(docLink);\n",
              "        }\n",
              "      </script>\n",
              "    </div>\n",
              "  </div>\n",
              "  "
            ]
          },
          "metadata": {},
          "execution_count": 8
        }
      ]
    },
    {
      "cell_type": "code",
      "source": [
        "df.isna().sum()"
      ],
      "metadata": {
        "colab": {
          "base_uri": "https://localhost:8080/"
        },
        "id": "bvDztqX9FEs4",
        "outputId": "c6e5f0c0-d248-45d5-e552-a596cbdc159d"
      },
      "execution_count": null,
      "outputs": [
        {
          "output_type": "execute_result",
          "data": {
            "text/plain": [
              "DATE       0\n",
              "ITEM       0\n",
              "SALES      0\n",
              "MONTH      0\n",
              "WEEKDAY    0\n",
              "WEEK       0\n",
              "dtype: int64"
            ]
          },
          "metadata": {},
          "execution_count": 9
        }
      ]
    },
    {
      "cell_type": "code",
      "source": [
        "# 2 items\n",
        "df['ITEM'].value_counts()"
      ],
      "metadata": {
        "colab": {
          "base_uri": "https://localhost:8080/"
        },
        "id": "5uNiG1TT85_x",
        "outputId": "3e2fca35-720e-43c3-8de4-0e65ce3959d6"
      },
      "execution_count": null,
      "outputs": [
        {
          "output_type": "execute_result",
          "data": {
            "text/plain": [
              "A    260\n",
              "B    260\n",
              "Name: ITEM, dtype: int64"
            ]
          },
          "metadata": {},
          "execution_count": 10
        }
      ]
    },
    {
      "cell_type": "code",
      "source": [
        "# Monthly sales for 2 items\n",
        "df.groupby(by=\"MONTH\").sum()['SALES']"
      ],
      "metadata": {
        "colab": {
          "base_uri": "https://localhost:8080/"
        },
        "id": "TuruJIYBqrwP",
        "outputId": "0f759974-b1e4-4ba4-e39b-c82e39289f7f"
      },
      "execution_count": null,
      "outputs": [
        {
          "output_type": "execute_result",
          "data": {
            "text/plain": [
              "MONTH\n",
              "1     4036\n",
              "2     3663\n",
              "3     4059\n",
              "4     3627\n",
              "5     4403\n",
              "6     4778\n",
              "7     4905\n",
              "8     5277\n",
              "9     4432\n",
              "10    4248\n",
              "11    3975\n",
              "12    3665\n",
              "Name: SALES, dtype: int64"
            ]
          },
          "metadata": {},
          "execution_count": 11
        }
      ]
    },
    {
      "cell_type": "code",
      "source": [
        "# Closed on Monday and Tuesday\n",
        "df.groupby(by='WEEKDAY').sum().sort_values(by='SALES',ascending=False)['SALES']   "
      ],
      "metadata": {
        "colab": {
          "base_uri": "https://localhost:8080/"
        },
        "id": "F0wn54LPKdWF",
        "outputId": "529ea676-42e8-49d1-c4c0-d157d5a1b30a"
      },
      "execution_count": null,
      "outputs": [
        {
          "output_type": "execute_result",
          "data": {
            "text/plain": [
              "WEEKDAY\n",
              "5    10382\n",
              "6    10352\n",
              "4    10286\n",
              "3    10068\n",
              "7     9980\n",
              "Name: SALES, dtype: int64"
            ]
          },
          "metadata": {},
          "execution_count": 12
        }
      ]
    },
    {
      "cell_type": "code",
      "source": [
        "df['SALES'].describe()"
      ],
      "metadata": {
        "colab": {
          "base_uri": "https://localhost:8080/"
        },
        "id": "kGoFul9nh5Pp",
        "outputId": "605e9f3f-1eab-49cd-d1ed-d20fb0927d58"
      },
      "execution_count": null,
      "outputs": [
        {
          "output_type": "execute_result",
          "data": {
            "text/plain": [
              "count    520.000000\n",
              "mean      98.207692\n",
              "std       61.444707\n",
              "min        0.000000\n",
              "25%       48.000000\n",
              "50%       87.000000\n",
              "75%      143.000000\n",
              "max      282.000000\n",
              "Name: SALES, dtype: float64"
            ]
          },
          "metadata": {},
          "execution_count": 13
        }
      ]
    },
    {
      "cell_type": "code",
      "source": [
        "# Monthly sales per item\n",
        "df_item=df.pivot_table(columns= 'ITEM',  \n",
        "                       index = 'MONTH',     \n",
        "                       values = 'SALES', \n",
        "                       aggfunc = 'sum', )\n",
        "df_item\n",
        "\n"
      ],
      "metadata": {
        "id": "vD69LXiOjV_w",
        "colab": {
          "base_uri": "https://localhost:8080/",
          "height": 457
        },
        "outputId": "b0eb0921-7bbe-44b4-ccdf-ea25370fd8c8"
      },
      "execution_count": null,
      "outputs": [
        {
          "output_type": "execute_result",
          "data": {
            "text/plain": [
              "ITEM      A     B\n",
              "MONTH            \n",
              "1      3095   941\n",
              "2      1743  1920\n",
              "3      1875  2184\n",
              "4      1906  1721\n",
              "5      1644  2759\n",
              "6      1423  3355\n",
              "7       972  3933\n",
              "8      1058  4219\n",
              "9      1079  3353\n",
              "10     1722  2526\n",
              "11     3201   774\n",
              "12     2467  1198"
            ],
            "text/html": [
              "\n",
              "  <div id=\"df-b0a4b1c6-d143-4f55-95b8-65f81d92b2fc\">\n",
              "    <div class=\"colab-df-container\">\n",
              "      <div>\n",
              "<style scoped>\n",
              "    .dataframe tbody tr th:only-of-type {\n",
              "        vertical-align: middle;\n",
              "    }\n",
              "\n",
              "    .dataframe tbody tr th {\n",
              "        vertical-align: top;\n",
              "    }\n",
              "\n",
              "    .dataframe thead th {\n",
              "        text-align: right;\n",
              "    }\n",
              "</style>\n",
              "<table border=\"1\" class=\"dataframe\">\n",
              "  <thead>\n",
              "    <tr style=\"text-align: right;\">\n",
              "      <th>ITEM</th>\n",
              "      <th>A</th>\n",
              "      <th>B</th>\n",
              "    </tr>\n",
              "    <tr>\n",
              "      <th>MONTH</th>\n",
              "      <th></th>\n",
              "      <th></th>\n",
              "    </tr>\n",
              "  </thead>\n",
              "  <tbody>\n",
              "    <tr>\n",
              "      <th>1</th>\n",
              "      <td>3095</td>\n",
              "      <td>941</td>\n",
              "    </tr>\n",
              "    <tr>\n",
              "      <th>2</th>\n",
              "      <td>1743</td>\n",
              "      <td>1920</td>\n",
              "    </tr>\n",
              "    <tr>\n",
              "      <th>3</th>\n",
              "      <td>1875</td>\n",
              "      <td>2184</td>\n",
              "    </tr>\n",
              "    <tr>\n",
              "      <th>4</th>\n",
              "      <td>1906</td>\n",
              "      <td>1721</td>\n",
              "    </tr>\n",
              "    <tr>\n",
              "      <th>5</th>\n",
              "      <td>1644</td>\n",
              "      <td>2759</td>\n",
              "    </tr>\n",
              "    <tr>\n",
              "      <th>6</th>\n",
              "      <td>1423</td>\n",
              "      <td>3355</td>\n",
              "    </tr>\n",
              "    <tr>\n",
              "      <th>7</th>\n",
              "      <td>972</td>\n",
              "      <td>3933</td>\n",
              "    </tr>\n",
              "    <tr>\n",
              "      <th>8</th>\n",
              "      <td>1058</td>\n",
              "      <td>4219</td>\n",
              "    </tr>\n",
              "    <tr>\n",
              "      <th>9</th>\n",
              "      <td>1079</td>\n",
              "      <td>3353</td>\n",
              "    </tr>\n",
              "    <tr>\n",
              "      <th>10</th>\n",
              "      <td>1722</td>\n",
              "      <td>2526</td>\n",
              "    </tr>\n",
              "    <tr>\n",
              "      <th>11</th>\n",
              "      <td>3201</td>\n",
              "      <td>774</td>\n",
              "    </tr>\n",
              "    <tr>\n",
              "      <th>12</th>\n",
              "      <td>2467</td>\n",
              "      <td>1198</td>\n",
              "    </tr>\n",
              "  </tbody>\n",
              "</table>\n",
              "</div>\n",
              "      <button class=\"colab-df-convert\" onclick=\"convertToInteractive('df-b0a4b1c6-d143-4f55-95b8-65f81d92b2fc')\"\n",
              "              title=\"Convert this dataframe to an interactive table.\"\n",
              "              style=\"display:none;\">\n",
              "        \n",
              "  <svg xmlns=\"http://www.w3.org/2000/svg\" height=\"24px\"viewBox=\"0 0 24 24\"\n",
              "       width=\"24px\">\n",
              "    <path d=\"M0 0h24v24H0V0z\" fill=\"none\"/>\n",
              "    <path d=\"M18.56 5.44l.94 2.06.94-2.06 2.06-.94-2.06-.94-.94-2.06-.94 2.06-2.06.94zm-11 1L8.5 8.5l.94-2.06 2.06-.94-2.06-.94L8.5 2.5l-.94 2.06-2.06.94zm10 10l.94 2.06.94-2.06 2.06-.94-2.06-.94-.94-2.06-.94 2.06-2.06.94z\"/><path d=\"M17.41 7.96l-1.37-1.37c-.4-.4-.92-.59-1.43-.59-.52 0-1.04.2-1.43.59L10.3 9.45l-7.72 7.72c-.78.78-.78 2.05 0 2.83L4 21.41c.39.39.9.59 1.41.59.51 0 1.02-.2 1.41-.59l7.78-7.78 2.81-2.81c.8-.78.8-2.07 0-2.86zM5.41 20L4 18.59l7.72-7.72 1.47 1.35L5.41 20z\"/>\n",
              "  </svg>\n",
              "      </button>\n",
              "      \n",
              "  <style>\n",
              "    .colab-df-container {\n",
              "      display:flex;\n",
              "      flex-wrap:wrap;\n",
              "      gap: 12px;\n",
              "    }\n",
              "\n",
              "    .colab-df-convert {\n",
              "      background-color: #E8F0FE;\n",
              "      border: none;\n",
              "      border-radius: 50%;\n",
              "      cursor: pointer;\n",
              "      display: none;\n",
              "      fill: #1967D2;\n",
              "      height: 32px;\n",
              "      padding: 0 0 0 0;\n",
              "      width: 32px;\n",
              "    }\n",
              "\n",
              "    .colab-df-convert:hover {\n",
              "      background-color: #E2EBFA;\n",
              "      box-shadow: 0px 1px 2px rgba(60, 64, 67, 0.3), 0px 1px 3px 1px rgba(60, 64, 67, 0.15);\n",
              "      fill: #174EA6;\n",
              "    }\n",
              "\n",
              "    [theme=dark] .colab-df-convert {\n",
              "      background-color: #3B4455;\n",
              "      fill: #D2E3FC;\n",
              "    }\n",
              "\n",
              "    [theme=dark] .colab-df-convert:hover {\n",
              "      background-color: #434B5C;\n",
              "      box-shadow: 0px 1px 3px 1px rgba(0, 0, 0, 0.15);\n",
              "      filter: drop-shadow(0px 1px 2px rgba(0, 0, 0, 0.3));\n",
              "      fill: #FFFFFF;\n",
              "    }\n",
              "  </style>\n",
              "\n",
              "      <script>\n",
              "        const buttonEl =\n",
              "          document.querySelector('#df-b0a4b1c6-d143-4f55-95b8-65f81d92b2fc button.colab-df-convert');\n",
              "        buttonEl.style.display =\n",
              "          google.colab.kernel.accessAllowed ? 'block' : 'none';\n",
              "\n",
              "        async function convertToInteractive(key) {\n",
              "          const element = document.querySelector('#df-b0a4b1c6-d143-4f55-95b8-65f81d92b2fc');\n",
              "          const dataTable =\n",
              "            await google.colab.kernel.invokeFunction('convertToInteractive',\n",
              "                                                     [key], {});\n",
              "          if (!dataTable) return;\n",
              "\n",
              "          const docLinkHtml = 'Like what you see? Visit the ' +\n",
              "            '<a target=\"_blank\" href=https://colab.research.google.com/notebooks/data_table.ipynb>data table notebook</a>'\n",
              "            + ' to learn more about interactive tables.';\n",
              "          element.innerHTML = '';\n",
              "          dataTable['output_type'] = 'display_data';\n",
              "          await google.colab.output.renderOutput(dataTable, element);\n",
              "          const docLink = document.createElement('div');\n",
              "          docLink.innerHTML = docLinkHtml;\n",
              "          element.appendChild(docLink);\n",
              "        }\n",
              "      </script>\n",
              "    </div>\n",
              "  </div>\n",
              "  "
            ]
          },
          "metadata": {},
          "execution_count": 14
        }
      ]
    },
    {
      "cell_type": "code",
      "source": [
        "df_item.plot(kind='bar', figsize=(15,5),  title = 'SALES MONTHLY')     # The best sales of item B is in summer, for itme A is in winter. "
      ],
      "metadata": {
        "colab": {
          "base_uri": "https://localhost:8080/",
          "height": 370
        },
        "id": "cP6FLj4hj4G6",
        "outputId": "befebe73-7129-470b-a344-1fb113a950e4"
      },
      "execution_count": null,
      "outputs": [
        {
          "output_type": "execute_result",
          "data": {
            "text/plain": [
              "<matplotlib.axes._subplots.AxesSubplot at 0x7f14a116f6a0>"
            ]
          },
          "metadata": {},
          "execution_count": 15
        },
        {
          "output_type": "display_data",
          "data": {
            "text/plain": [
              "<Figure size 1080x360 with 1 Axes>"
            ],
            "image/png": "[encoded data removed]"
          },
          "metadata": {
            "needs_background": "light"
          }
        }
      ]
    },
    {
      "cell_type": "code",
      "source": [
        "df.to_csv('df_sales.csv')"
      ],
      "metadata": {
        "id": "YJdg3lC7GnCw"
      },
      "execution_count": null,
      "outputs": []
    },
    {
      "cell_type": "markdown",
      "source": [
        "**2. Trouver la boutique correspondante**\n",
        "Tu détermineras à quelle boutique correspond ce fichier de ventes. Pour cela, tu pourras t'aider de données météo. En effet, Bernardo nous a indiqué que les ventes sont corrélées à la météo.\n",
        "Les boutiques se situent à Bordeaux, Lille, Lyon et Marseille. Tu trouveras les historiques de météo ici pour Bordeaux, Lille, Lyon, et Marseille."
      ],
      "metadata": {
        "id": "-2_MjM-5t9QF"
      }
    },
    {
      "cell_type": "code",
      "source": [
        "df_weath_bordeaux=pd.read_csv('https://raw.githubusercontent.com/murpi/wilddata/master/test/bordeaux2019.csv', header = 3, parse_dates=['DATE'])\n",
        "df_weath_lille=pd.read_csv('https://raw.githubusercontent.com/murpi/wilddata/master/test/lille2019.csv', skiprows = 3, parse_dates=['DATE']) \n",
        "df_weath_lyon=pd.read_csv('https://raw.githubusercontent.com/murpi/wilddata/master/test/lyon2019.csv', skiprows = 3, parse_dates=['DATE']) \n",
        "df_weath_marseille=pd.read_csv('https://raw.githubusercontent.com/murpi/wilddata/master/test/marseille2019.csv', skiprows = 3, parse_dates=['DATE']) \n",
        "    \n"
      ],
      "metadata": {
        "id": "s-cN9sUG8FA9"
      },
      "execution_count": null,
      "outputs": []
    },
    {
      "cell_type": "code",
      "source": [
        "df_weath_bordeaux.info()\n"
      ],
      "metadata": {
        "colab": {
          "base_uri": "https://localhost:8080/"
        },
        "id": "mMh6eJQrt5s9",
        "outputId": "5feae9ca-df50-4098-c9ff-f0f056a31eb6"
      },
      "execution_count": null,
      "outputs": [
        {
          "output_type": "stream",
          "name": "stdout",
          "text": [
            "<class 'pandas.core.frame.DataFrame'>\n",
            "RangeIndex: 365 entries, 0 to 364\n",
            "Data columns (total 22 columns):\n",
            " #   Column                  Non-Null Count  Dtype         \n",
            "---  ------                  --------------  -----         \n",
            " 0   DATE                    365 non-null    datetime64[ns]\n",
            " 1   MAX_TEMPERATURE_C       365 non-null    int64         \n",
            " 2   MIN_TEMPERATURE_C       365 non-null    int64         \n",
            " 3   WINDSPEED_MAX_KMH       365 non-null    int64         \n",
            " 4   TEMPERATURE_MORNING_C   365 non-null    int64         \n",
            " 5   TEMPERATURE_NOON_C      365 non-null    int64         \n",
            " 6   TEMPERATURE_EVENING_C   365 non-null    int64         \n",
            " 7   PRECIP_TOTAL_DAY_MM     365 non-null    float64       \n",
            " 8   HUMIDITY_MAX_PERCENT    365 non-null    int64         \n",
            " 9   VISIBILITY_AVG_KM       365 non-null    float64       \n",
            " 10  PRESSURE_MAX_MB         365 non-null    int64         \n",
            " 11  CLOUDCOVER_AVG_PERCENT  365 non-null    float64       \n",
            " 12  HEATINDEX_MAX_C         365 non-null    int64         \n",
            " 13  DEWPOINT_MAX_C          365 non-null    int64         \n",
            " 14  WINDTEMP_MAX_C          365 non-null    int64         \n",
            " 15  WEATHER_CODE_MORNING    365 non-null    int64         \n",
            " 16  WEATHER_CODE_NOON       365 non-null    int64         \n",
            " 17  WEATHER_CODE_EVENING    365 non-null    int64         \n",
            " 18  TOTAL_SNOW_MM           365 non-null    int64         \n",
            " 19  UV_INDEX                365 non-null    int64         \n",
            " 20  SUNHOUR                 365 non-null    float64       \n",
            " 21  OPINION                 365 non-null    object        \n",
            "dtypes: datetime64[ns](1), float64(4), int64(16), object(1)\n",
            "memory usage: 62.9+ KB\n"
          ]
        }
      ]
    },
    {
      "cell_type": "code",
      "source": [
        "# Merge df and 4 cities\n",
        "df_bordeaux=df.merge(df_weath_bordeaux, how='left', on='DATE')\n",
        "df_lille=df.merge(df_weath_lille, how='left', on='DATE')\n",
        "df_lyon=df.merge(df_weath_lyon, how='left', on='DATE')\n",
        "df_marseille=df.merge(df_weath_marseille, how='left', on='DATE')"
      ],
      "metadata": {
        "id": "FYDMNR5aBTKe"
      },
      "execution_count": null,
      "outputs": []
    },
    {
      "cell_type": "code",
      "source": [
        "df_bordeaux.to_csv('df_bordeaux.csv')\n",
        "df_lille.to_csv('df_lille.csv')\n",
        "df_lyon.to_csv('df_lyon.csv')\n",
        "df_marseille.to_csv('df_marseille.csv')"
      ],
      "metadata": {
        "id": "Y1zgHSokKOsd"
      },
      "execution_count": null,
      "outputs": []
    },
    {
      "cell_type": "code",
      "source": [
        "df_bordeaux.info()"
      ],
      "metadata": {
        "colab": {
          "base_uri": "https://localhost:8080/"
        },
        "id": "Qs1ymxK-B9jA",
        "outputId": "df17f597-1dda-455d-e043-f2a47d565000"
      },
      "execution_count": null,
      "outputs": [
        {
          "output_type": "stream",
          "name": "stdout",
          "text": [
            "<class 'pandas.core.frame.DataFrame'>\n",
            "Int64Index: 520 entries, 0 to 519\n",
            "Data columns (total 27 columns):\n",
            " #   Column                  Non-Null Count  Dtype         \n",
            "---  ------                  --------------  -----         \n",
            " 0   DATE                    520 non-null    datetime64[ns]\n",
            " 1   ITEM                    520 non-null    object        \n",
            " 2   SALES                   520 non-null    int64         \n",
            " 3   MONTH                   520 non-null    int64         \n",
            " 4   WEEKDAY                 520 non-null    int64         \n",
            " 5   WEEK                    520 non-null    int64         \n",
            " 6   MAX_TEMPERATURE_C       520 non-null    int64         \n",
            " 7   MIN_TEMPERATURE_C       520 non-null    int64         \n",
            " 8   WINDSPEED_MAX_KMH       520 non-null    int64         \n",
            " 9   TEMPERATURE_MORNING_C   520 non-null    int64         \n",
            " 10  TEMPERATURE_NOON_C      520 non-null    int64         \n",
            " 11  TEMPERATURE_EVENING_C   520 non-null    int64         \n",
            " 12  PRECIP_TOTAL_DAY_MM     520 non-null    float64       \n",
            " 13  HUMIDITY_MAX_PERCENT    520 non-null    int64         \n",
            " 14  VISIBILITY_AVG_KM       520 non-null    float64       \n",
            " 15  PRESSURE_MAX_MB         520 non-null    int64         \n",
            " 16  CLOUDCOVER_AVG_PERCENT  520 non-null    float64       \n",
            " 17  HEATINDEX_MAX_C         520 non-null    int64         \n",
            " 18  DEWPOINT_MAX_C          520 non-null    int64         \n",
            " 19  WINDTEMP_MAX_C          520 non-null    int64         \n",
            " 20  WEATHER_CODE_MORNING    520 non-null    int64         \n",
            " 21  WEATHER_CODE_NOON       520 non-null    int64         \n",
            " 22  WEATHER_CODE_EVENING    520 non-null    int64         \n",
            " 23  TOTAL_SNOW_MM           520 non-null    int64         \n",
            " 24  UV_INDEX                520 non-null    int64         \n",
            " 25  SUNHOUR                 520 non-null    float64       \n",
            " 26  OPINION                 520 non-null    object        \n",
            "dtypes: datetime64[ns](1), float64(4), int64(20), object(2)\n",
            "memory usage: 113.8+ KB\n"
          ]
        }
      ]
    },
    {
      "cell_type": "code",
      "source": [
        "# Bordeaux: Correlation coefficients for sales(item A) and other variables\n",
        "df_bordeaux[df_bordeaux['ITEM']=='A'].corr()['SALES'].sort_values(key= abs, ascending=False) "
      ],
      "metadata": {
        "colab": {
          "base_uri": "https://localhost:8080/"
        },
        "id": "l7FJ2ihnC0Uo",
        "outputId": "36ed1513-c06f-489d-deac-ef57bf5ae2bc"
      },
      "execution_count": null,
      "outputs": [
        {
          "output_type": "execute_result",
          "data": {
            "text/plain": [
              "SALES                     1.000000\n",
              "MAX_TEMPERATURE_C        -0.746737\n",
              "HEATINDEX_MAX_C          -0.746466\n",
              "PRECIP_TOTAL_DAY_MM       0.741453\n",
              "TEMPERATURE_EVENING_C    -0.730641\n",
              "TEMPERATURE_NOON_C       -0.726730\n",
              "SUNHOUR                  -0.717943\n",
              "WINDTEMP_MAX_C           -0.664779\n",
              "CLOUDCOVER_AVG_PERCENT    0.657997\n",
              "MIN_TEMPERATURE_C        -0.635047\n",
              "HUMIDITY_MAX_PERCENT      0.620117\n",
              "WEATHER_CODE_EVENING      0.606529\n",
              "WEATHER_CODE_NOON         0.596221\n",
              "WEATHER_CODE_MORNING      0.500543\n",
              "TEMPERATURE_MORNING_C    -0.491502\n",
              "DEWPOINT_MAX_C           -0.471143\n",
              "UV_INDEX                 -0.402487\n",
              "WINDSPEED_MAX_KMH         0.395555\n",
              "PRESSURE_MAX_MB          -0.353709\n",
              "VISIBILITY_AVG_KM        -0.221306\n",
              "WEEKDAY                  -0.036636\n",
              "WEEK                     -0.025298\n",
              "MONTH                    -0.017217\n",
              "TOTAL_SNOW_MM                  NaN\n",
              "Name: SALES, dtype: float64"
            ]
          },
          "metadata": {},
          "execution_count": 22
        }
      ]
    },
    {
      "cell_type": "code",
      "source": [
        "plt.figure(figsize=(16,8))\n",
        "sns.heatmap(df_bordeaux[df_bordeaux['ITEM']=='A'].corr(), cmap=\"vlag\", center=0, annot=True)\n",
        "plt.title(\"heatmp correlations\")\n",
        "plt.show()"
      ],
      "metadata": {
        "colab": {
          "base_uri": "https://localhost:8080/",
          "height": 634
        },
        "id": "q0pShm3NMk8X",
        "outputId": "7a670484-3243-4456-f1c6-df764ad39470"
      },
      "execution_count": null,
      "outputs": [
        {
          "output_type": "display_data",
          "data": {
            "text/plain": [
              "<Figure size 1152x576 with 2 Axes>"
            ],
            "image/png": "[encoded data removed]"
          },
          "metadata": {
            "needs_background": "light"
          }
        }
      ]
    },
    {
      "cell_type": "code",
      "source": [
        "# Bordeaux: Correlation coefficients for sales(item B) and other variables\n",
        "df_bordeaux[df_bordeaux['ITEM']=='B'].corr()['SALES'].sort_values(key= abs, ascending=False)"
      ],
      "metadata": {
        "colab": {
          "base_uri": "https://localhost:8080/"
        },
        "id": "stIyI4N3hTEG",
        "outputId": "f75257a7-843e-4705-8022-ca08cc3b5d58"
      },
      "execution_count": null,
      "outputs": [
        {
          "output_type": "execute_result",
          "data": {
            "text/plain": [
              "SALES                     1.000000\n",
              "MAX_TEMPERATURE_C         0.880426\n",
              "HEATINDEX_MAX_C           0.875693\n",
              "TEMPERATURE_EVENING_C     0.869086\n",
              "TEMPERATURE_NOON_C        0.854850\n",
              "WINDTEMP_MAX_C            0.777075\n",
              "SUNHOUR                   0.766281\n",
              "MIN_TEMPERATURE_C         0.760657\n",
              "CLOUDCOVER_AVG_PERCENT   -0.687408\n",
              "HUMIDITY_MAX_PERCENT     -0.663429\n",
              "PRECIP_TOTAL_DAY_MM      -0.625089\n",
              "TEMPERATURE_MORNING_C     0.622416\n",
              "WEATHER_CODE_EVENING     -0.609637\n",
              "DEWPOINT_MAX_C            0.591195\n",
              "WEATHER_CODE_NOON        -0.575278\n",
              "UV_INDEX                  0.539384\n",
              "WEATHER_CODE_MORNING     -0.489195\n",
              "WINDSPEED_MAX_KMH        -0.415888\n",
              "PRESSURE_MAX_MB           0.252861\n",
              "VISIBILITY_AVG_KM         0.214905\n",
              "WEEK                      0.068880\n",
              "MONTH                     0.061894\n",
              "WEEKDAY                   0.022429\n",
              "TOTAL_SNOW_MM                  NaN\n",
              "Name: SALES, dtype: float64"
            ]
          },
          "metadata": {},
          "execution_count": 24
        }
      ]
    },
    {
      "cell_type": "code",
      "source": [
        "# Lille: Correlation coefficients for sales(item A) and other variables\n",
        "df_lille[df_lille['ITEM']=='A'].corr()['SALES'].sort_values(key= abs, ascending=False)\n"
      ],
      "metadata": {
        "colab": {
          "base_uri": "https://localhost:8080/"
        },
        "id": "LedMOsUiUZDW",
        "outputId": "8e3441fe-bf10-493c-b9e3-d622a529473d"
      },
      "execution_count": null,
      "outputs": [
        {
          "output_type": "execute_result",
          "data": {
            "text/plain": [
              "SALES                     1.000000\n",
              "TEMPERATURE_EVENING_C    -0.618392\n",
              "MAX_TEMPERATURE_C        -0.612242\n",
              "HEATINDEX_MAX_C          -0.606991\n",
              "TEMPERATURE_NOON_C       -0.604869\n",
              "WINDTEMP_MAX_C           -0.596868\n",
              "MIN_TEMPERATURE_C        -0.580081\n",
              "SUNHOUR                  -0.551740\n",
              "HUMIDITY_MAX_PERCENT      0.502603\n",
              "TEMPERATURE_MORNING_C    -0.495269\n",
              "DEWPOINT_MAX_C           -0.479041\n",
              "PRESSURE_MAX_MB          -0.476665\n",
              "CLOUDCOVER_AVG_PERCENT    0.420579\n",
              "WEATHER_CODE_NOON         0.271799\n",
              "WEATHER_CODE_MORNING      0.257657\n",
              "WEATHER_CODE_EVENING      0.255904\n",
              "PRECIP_TOTAL_DAY_MM       0.247491\n",
              "VISIBILITY_AVG_KM        -0.227096\n",
              "TOTAL_SNOW_MM             0.182911\n",
              "WINDSPEED_MAX_KMH         0.165806\n",
              "WEEKDAY                  -0.036636\n",
              "WEEK                     -0.025298\n",
              "MONTH                    -0.017217\n",
              "UV_INDEX                       NaN\n",
              "Name: SALES, dtype: float64"
            ]
          },
          "metadata": {},
          "execution_count": 25
        }
      ]
    },
    {
      "cell_type": "code",
      "source": [
        "# Lille: Correlation coefficients for sales(item B) and other variables\n",
        "df_lille[df_lille['ITEM']=='B'].corr()['SALES'].sort_values(key= abs, ascending=False)"
      ],
      "metadata": {
        "colab": {
          "base_uri": "https://localhost:8080/"
        },
        "id": "9lcTSnK5CpKV",
        "outputId": "45522149-4b28-469d-b50e-2a9ac9ac242f"
      },
      "execution_count": null,
      "outputs": [
        {
          "output_type": "execute_result",
          "data": {
            "text/plain": [
              "SALES                     1.000000\n",
              "TEMPERATURE_EVENING_C     0.743524\n",
              "HEATINDEX_MAX_C           0.738339\n",
              "MAX_TEMPERATURE_C         0.736917\n",
              "TEMPERATURE_NOON_C        0.730789\n",
              "WINDTEMP_MAX_C            0.722701\n",
              "MIN_TEMPERATURE_C         0.706320\n",
              "TEMPERATURE_MORNING_C     0.622289\n",
              "SUNHOUR                   0.618738\n",
              "DEWPOINT_MAX_C            0.599929\n",
              "HUMIDITY_MAX_PERCENT     -0.550135\n",
              "CLOUDCOVER_AVG_PERCENT   -0.439656\n",
              "PRESSURE_MAX_MB           0.436416\n",
              "WEATHER_CODE_NOON        -0.290642\n",
              "WEATHER_CODE_MORNING     -0.287824\n",
              "PRECIP_TOTAL_DAY_MM      -0.277163\n",
              "WEATHER_CODE_EVENING     -0.272040\n",
              "WINDSPEED_MAX_KMH        -0.207669\n",
              "VISIBILITY_AVG_KM         0.206286\n",
              "TOTAL_SNOW_MM            -0.150875\n",
              "WEEK                      0.068880\n",
              "MONTH                     0.061894\n",
              "WEEKDAY                   0.022429\n",
              "UV_INDEX                       NaN\n",
              "Name: SALES, dtype: float64"
            ]
          },
          "metadata": {},
          "execution_count": 26
        }
      ]
    },
    {
      "cell_type": "code",
      "source": [
        "# Lyon: Correlation coefficients for sales(item A) and other variables\n",
        "df_lyon[df_lyon['ITEM']=='A'].corr()['SALES'].sort_values(key= abs, ascending=False)"
      ],
      "metadata": {
        "colab": {
          "base_uri": "https://localhost:8080/"
        },
        "id": "nCtgn8soUc_G",
        "outputId": "36eea22e-fceb-4816-d7cb-97dd88a4dd07"
      },
      "execution_count": null,
      "outputs": [
        {
          "output_type": "execute_result",
          "data": {
            "text/plain": [
              "SALES                     1.000000\n",
              "TEMPERATURE_EVENING_C    -0.663431\n",
              "MAX_TEMPERATURE_C        -0.650430\n",
              "HEATINDEX_MAX_C          -0.649421\n",
              "UV_INDEX                 -0.644243\n",
              "SUNHOUR                  -0.635858\n",
              "TEMPERATURE_NOON_C       -0.619490\n",
              "WINDTEMP_MAX_C           -0.607084\n",
              "MIN_TEMPERATURE_C        -0.587497\n",
              "CLOUDCOVER_AVG_PERCENT    0.583831\n",
              "DEWPOINT_MAX_C           -0.528639\n",
              "TEMPERATURE_MORNING_C    -0.503982\n",
              "HUMIDITY_MAX_PERCENT      0.495265\n",
              "PRESSURE_MAX_MB          -0.407602\n",
              "WEATHER_CODE_EVENING      0.361797\n",
              "PRECIP_TOTAL_DAY_MM       0.320875\n",
              "WEATHER_CODE_NOON         0.312436\n",
              "WINDSPEED_MAX_KMH         0.292489\n",
              "WEATHER_CODE_MORNING      0.250146\n",
              "VISIBILITY_AVG_KM        -0.223313\n",
              "TOTAL_SNOW_MM             0.108135\n",
              "WEEKDAY                  -0.036636\n",
              "WEEK                     -0.025298\n",
              "MONTH                    -0.017217\n",
              "Name: SALES, dtype: float64"
            ]
          },
          "metadata": {},
          "execution_count": 27
        }
      ]
    },
    {
      "cell_type": "code",
      "source": [
        "# Lyon: Correlation coefficients for sales(item B) and other variables\n",
        "df_lyon[df_lyon['ITEM']=='B'].corr()['SALES'].sort_values(key= abs, ascending=False)"
      ],
      "metadata": {
        "colab": {
          "base_uri": "https://localhost:8080/"
        },
        "id": "HnwDSyxQCuyf",
        "outputId": "51a124cb-7028-4e3b-8981-915f6131d9a0"
      },
      "execution_count": null,
      "outputs": [
        {
          "output_type": "execute_result",
          "data": {
            "text/plain": [
              "SALES                     1.000000\n",
              "TEMPERATURE_EVENING_C     0.779996\n",
              "HEATINDEX_MAX_C           0.765912\n",
              "MAX_TEMPERATURE_C         0.763528\n",
              "UV_INDEX                  0.751520\n",
              "TEMPERATURE_NOON_C        0.737402\n",
              "WINDTEMP_MAX_C            0.715417\n",
              "MIN_TEMPERATURE_C         0.713371\n",
              "SUNHOUR                   0.685861\n",
              "DEWPOINT_MAX_C            0.670343\n",
              "TEMPERATURE_MORNING_C     0.640830\n",
              "CLOUDCOVER_AVG_PERCENT   -0.594899\n",
              "HUMIDITY_MAX_PERCENT     -0.516906\n",
              "WEATHER_CODE_EVENING     -0.385609\n",
              "PRESSURE_MAX_MB           0.329171\n",
              "WEATHER_CODE_NOON        -0.324328\n",
              "PRECIP_TOTAL_DAY_MM      -0.286857\n",
              "WINDSPEED_MAX_KMH        -0.265160\n",
              "WEATHER_CODE_MORNING     -0.222536\n",
              "VISIBILITY_AVG_KM         0.191162\n",
              "TOTAL_SNOW_MM            -0.089810\n",
              "WEEK                      0.068880\n",
              "MONTH                     0.061894\n",
              "WEEKDAY                   0.022429\n",
              "Name: SALES, dtype: float64"
            ]
          },
          "metadata": {},
          "execution_count": 28
        }
      ]
    },
    {
      "cell_type": "code",
      "source": [
        "# Marseille: Correlation coefficients for sales(item A) and other variables\n",
        "df_marseille[df_marseille['ITEM']=='A'].corr()['SALES'].sort_values(key= abs, ascending=False)"
      ],
      "metadata": {
        "colab": {
          "base_uri": "https://localhost:8080/"
        },
        "id": "5irMfxLmUhQj",
        "outputId": "4caea70e-650d-47d2-ddb9-35793a23b078"
      },
      "execution_count": null,
      "outputs": [
        {
          "output_type": "execute_result",
          "data": {
            "text/plain": [
              "SALES                     1.000000\n",
              "TEMPERATURE_EVENING_C    -0.637783\n",
              "MAX_TEMPERATURE_C        -0.627721\n",
              "TEMPERATURE_NOON_C       -0.620820\n",
              "HEATINDEX_MAX_C          -0.614396\n",
              "SUNHOUR                  -0.606023\n",
              "WINDTEMP_MAX_C           -0.602083\n",
              "MIN_TEMPERATURE_C        -0.599409\n",
              "TEMPERATURE_MORNING_C    -0.546162\n",
              "CLOUDCOVER_AVG_PERCENT    0.531908\n",
              "DEWPOINT_MAX_C           -0.439864\n",
              "PRESSURE_MAX_MB          -0.376933\n",
              "PRECIP_TOTAL_DAY_MM       0.375482\n",
              "WEATHER_CODE_NOON         0.365283\n",
              "HUMIDITY_MAX_PERCENT      0.355307\n",
              "WINDSPEED_MAX_KMH         0.327251\n",
              "WEATHER_CODE_MORNING      0.309988\n",
              "WEATHER_CODE_EVENING      0.308322\n",
              "VISIBILITY_AVG_KM        -0.120006\n",
              "WEEKDAY                  -0.036636\n",
              "WEEK                     -0.025298\n",
              "MONTH                    -0.017217\n",
              "TOTAL_SNOW_MM                  NaN\n",
              "UV_INDEX                       NaN\n",
              "Name: SALES, dtype: float64"
            ]
          },
          "metadata": {},
          "execution_count": 29
        }
      ]
    },
    {
      "cell_type": "code",
      "source": [
        "# Marseille: Correlation coefficients for sales(item B) and other variables\n",
        "df_marseille[df_marseille['ITEM']=='B'].corr()['SALES'].sort_values(key= abs, ascending=False)"
      ],
      "metadata": {
        "colab": {
          "base_uri": "https://localhost:8080/"
        },
        "id": "Ac22NAsCC3vq",
        "outputId": "3d11aaa7-dd0d-46f8-d77a-5f58d7444db8"
      },
      "execution_count": null,
      "outputs": [
        {
          "output_type": "execute_result",
          "data": {
            "text/plain": [
              "SALES                     1.000000\n",
              "TEMPERATURE_EVENING_C     0.744258\n",
              "MAX_TEMPERATURE_C         0.742753\n",
              "TEMPERATURE_NOON_C        0.741140\n",
              "HEATINDEX_MAX_C           0.734040\n",
              "MIN_TEMPERATURE_C         0.730112\n",
              "WINDTEMP_MAX_C            0.722864\n",
              "TEMPERATURE_MORNING_C     0.688295\n",
              "SUNHOUR                   0.640195\n",
              "DEWPOINT_MAX_C            0.589766\n",
              "CLOUDCOVER_AVG_PERCENT   -0.515457\n",
              "WINDSPEED_MAX_KMH        -0.363081\n",
              "WEATHER_CODE_NOON        -0.337205\n",
              "HUMIDITY_MAX_PERCENT     -0.321855\n",
              "PRECIP_TOTAL_DAY_MM      -0.315024\n",
              "WEATHER_CODE_EVENING     -0.302084\n",
              "PRESSURE_MAX_MB           0.296562\n",
              "WEATHER_CODE_MORNING     -0.286586\n",
              "VISIBILITY_AVG_KM         0.091855\n",
              "WEEK                      0.068880\n",
              "MONTH                     0.061894\n",
              "WEEKDAY                   0.022429\n",
              "TOTAL_SNOW_MM                  NaN\n",
              "UV_INDEX                       NaN\n",
              "Name: SALES, dtype: float64"
            ]
          },
          "metadata": {},
          "execution_count": 30
        }
      ]
    },
    {
      "cell_type": "code",
      "source": [
        "# Comparing these 4 citis, i fond Bordeaux has a higher coefficient, so the data is Bordeaux"
      ],
      "metadata": {
        "id": "geDljYJJCiP7"
      },
      "execution_count": null,
      "outputs": []
    },
    {
      "cell_type": "markdown",
      "source": [
        "**3. Explication de l'impact de la météo**\n",
        "Tu détermineras (par corrélation, ou par Machine Learning) l'importance de chaque dimension. Tu mettras en avant les variables (température, vitesse du vent, etc...) qui semblent les plus corrélées aux ventes, et celles qui sont le moins corrélées. Bernardo a-t-il raison : est-ce bien le vent qui a le plus d'impact sur les ventes ?"
      ],
      "metadata": {
        "id": "g_qi5qp0jDsE"
      }
    },
    {
      "cell_type": "code",
      "source": [
        "#For item A\n",
        "plt.figure(figsize=(20,8))\n",
        "df_bordeaux[df_bordeaux['ITEM']=='A'].corr()[\"SALES\"].sort_values(ascending=False).plot(kind=\"bar\",title = 'Correlation item A')"
      ],
      "metadata": {
        "id": "fg0rpiYQjEyr",
        "colab": {
          "base_uri": "https://localhost:8080/",
          "height": 652
        },
        "outputId": "2bd8e4fd-2dad-4a33-fb25-47e284db1737"
      },
      "execution_count": null,
      "outputs": [
        {
          "output_type": "execute_result",
          "data": {
            "text/plain": [
              "<matplotlib.axes._subplots.AxesSubplot at 0x7f149dec9ee0>"
            ]
          },
          "metadata": {},
          "execution_count": 32
        },
        {
          "output_type": "display_data",
          "data": {
            "text/plain": [
              "<Figure size 1440x576 with 1 Axes>"
            ],
            "image/png": "[encoded data removed]"
          },
          "metadata": {
            "needs_background": "light"
          }
        }
      ]
    },
    {
      "cell_type": "code",
      "source": [
        "#For item B\n",
        "plt.figure(figsize=(20,8))\n",
        "df_bordeaux[df_bordeaux['ITEM']=='B'].corr()[\"SALES\"].sort_values(ascending=False).plot(kind=\"bar\",title = 'Correlation item B')\n"
      ],
      "metadata": {
        "colab": {
          "base_uri": "https://localhost:8080/",
          "height": 652
        },
        "id": "wcpiL9t4l1ZQ",
        "outputId": "273115b2-f817-4e29-9cc0-45b84ae39d52"
      },
      "execution_count": null,
      "outputs": [
        {
          "output_type": "execute_result",
          "data": {
            "text/plain": [
              "<matplotlib.axes._subplots.AxesSubplot at 0x7f149c61bf40>"
            ]
          },
          "metadata": {},
          "execution_count": 33
        },
        {
          "output_type": "display_data",
          "data": {
            "text/plain": [
              "<Figure size 1440x576 with 1 Axes>"
            ],
            "image/png": "[encoded data removed]"
          },
          "metadata": {
            "needs_background": "light"
          }
        }
      ]
    },
    {
      "cell_type": "markdown",
      "source": [
        "**4. Prévisions de ventes**\n",
        "Bernardo a récupéré des prévisions météo sur une semaine (le fichier est ici). Il aimerait que tu lui fasses une prévision des ventes correspondant à cette période, pour qu'il puisse acheter les bons stocks de produit. Tu devras donc indiquer le stock total minimum que tu conseilles à Bernardo de commander pour la semaine prochaine, afin de pouvoir répondre à la demande, sans faire des sur-stocks."
      ],
      "metadata": {
        "id": "kZAPCJe9mXZt"
      }
    },
    {
      "cell_type": "code",
      "source": [
        "df_meteo_juin=pd.read_csv('https://raw.githubusercontent.com/murpi/wilddata/master/test/forecast.csv',parse_dates=['DATE'])\n",
        "df_meteo_juin"
      ],
      "metadata": {
        "colab": {
          "base_uri": "https://localhost:8080/",
          "height": 269
        },
        "id": "Ec1zSyuumayS",
        "outputId": "db0a0111-cb87-474c-eed7-8f35dde22533"
      },
      "execution_count": null,
      "outputs": [
        {
          "output_type": "execute_result",
          "data": {
            "text/plain": [
              "        DATE  MAX_TEMPERATURE_C  MIN_TEMPERATURE_C  WINDSPEED_MAX_KMH  \\\n",
              "0 2021-06-21                 20                 14                 23   \n",
              "1 2021-06-22                 25                 17                 10   \n",
              "2 2021-06-23                 25                 18                 19   \n",
              "3 2021-06-24                 32                 23                 12   \n",
              "4 2021-06-25                 28                 20                 13   \n",
              "5 2021-06-26                 20                 16                 19   \n",
              "6 2021-06-27                 21                 15                 31   \n",
              "\n",
              "   PRECIP_TOTAL_DAY_MM  HUMIDITY_MAX_PERCENT  VISIBILITY_AVG_KM  \\\n",
              "0                  2.0                    92                7.0   \n",
              "1                  0.0                    73                9.0   \n",
              "2                  0.0                    79               10.0   \n",
              "3                  0.0                    76               10.0   \n",
              "4                  1.0                    82               10.0   \n",
              "5                  0.0                    88                9.0   \n",
              "6                  1.0                    89                9.0   \n",
              "\n",
              "   PRESSURE_MAX_MB  CLOUDCOVER_AVG_PERCENT  \n",
              "0             1025                    61.0  \n",
              "1             1027                    26.0  \n",
              "2             1024                    19.0  \n",
              "3             1018                     2.0  \n",
              "4             1015                    36.0  \n",
              "5             1013                    89.0  \n",
              "6             1015                    76.0  "
            ],
            "text/html": [
              "\n",
              "  <div id=\"df-73b570b9-a7fa-4e28-a1bd-634a3c00aaec\">\n",
              "    <div class=\"colab-df-container\">\n",
              "      <div>\n",
              "<style scoped>\n",
              "    .dataframe tbody tr th:only-of-type {\n",
              "        vertical-align: middle;\n",
              "    }\n",
              "\n",
              "    .dataframe tbody tr th {\n",
              "        vertical-align: top;\n",
              "    }\n",
              "\n",
              "    .dataframe thead th {\n",
              "        text-align: right;\n",
              "    }\n",
              "</style>\n",
              "<table border=\"1\" class=\"dataframe\">\n",
              "  <thead>\n",
              "    <tr style=\"text-align: right;\">\n",
              "      <th></th>\n",
              "      <th>DATE</th>\n",
              "      <th>MAX_TEMPERATURE_C</th>\n",
              "      <th>MIN_TEMPERATURE_C</th>\n",
              "      <th>WINDSPEED_MAX_KMH</th>\n",
              "      <th>PRECIP_TOTAL_DAY_MM</th>\n",
              "      <th>HUMIDITY_MAX_PERCENT</th>\n",
              "      <th>VISIBILITY_AVG_KM</th>\n",
              "      <th>PRESSURE_MAX_MB</th>\n",
              "      <th>CLOUDCOVER_AVG_PERCENT</th>\n",
              "    </tr>\n",
              "  </thead>\n",
              "  <tbody>\n",
              "    <tr>\n",
              "      <th>0</th>\n",
              "      <td>2021-06-21</td>\n",
              "      <td>20</td>\n",
              "      <td>14</td>\n",
              "      <td>23</td>\n",
              "      <td>2.0</td>\n",
              "      <td>92</td>\n",
              "      <td>7.0</td>\n",
              "      <td>1025</td>\n",
              "      <td>61.0</td>\n",
              "    </tr>\n",
              "    <tr>\n",
              "      <th>1</th>\n",
              "      <td>2021-06-22</td>\n",
              "      <td>25</td>\n",
              "      <td>17</td>\n",
              "      <td>10</td>\n",
              "      <td>0.0</td>\n",
              "      <td>73</td>\n",
              "      <td>9.0</td>\n",
              "      <td>1027</td>\n",
              "      <td>26.0</td>\n",
              "    </tr>\n",
              "    <tr>\n",
              "      <th>2</th>\n",
              "      <td>2021-06-23</td>\n",
              "      <td>25</td>\n",
              "      <td>18</td>\n",
              "      <td>19</td>\n",
              "      <td>0.0</td>\n",
              "      <td>79</td>\n",
              "      <td>10.0</td>\n",
              "      <td>1024</td>\n",
              "      <td>19.0</td>\n",
              "    </tr>\n",
              "    <tr>\n",
              "      <th>3</th>\n",
              "      <td>2021-06-24</td>\n",
              "      <td>32</td>\n",
              "      <td>23</td>\n",
              "      <td>12</td>\n",
              "      <td>0.0</td>\n",
              "      <td>76</td>\n",
              "      <td>10.0</td>\n",
              "      <td>1018</td>\n",
              "      <td>2.0</td>\n",
              "    </tr>\n",
              "    <tr>\n",
              "      <th>4</th>\n",
              "      <td>2021-06-25</td>\n",
              "      <td>28</td>\n",
              "      <td>20</td>\n",
              "      <td>13</td>\n",
              "      <td>1.0</td>\n",
              "      <td>82</td>\n",
              "      <td>10.0</td>\n",
              "      <td>1015</td>\n",
              "      <td>36.0</td>\n",
              "    </tr>\n",
              "    <tr>\n",
              "      <th>5</th>\n",
              "      <td>2021-06-26</td>\n",
              "      <td>20</td>\n",
              "      <td>16</td>\n",
              "      <td>19</td>\n",
              "      <td>0.0</td>\n",
              "      <td>88</td>\n",
              "      <td>9.0</td>\n",
              "      <td>1013</td>\n",
              "      <td>89.0</td>\n",
              "    </tr>\n",
              "    <tr>\n",
              "      <th>6</th>\n",
              "      <td>2021-06-27</td>\n",
              "      <td>21</td>\n",
              "      <td>15</td>\n",
              "      <td>31</td>\n",
              "      <td>1.0</td>\n",
              "      <td>89</td>\n",
              "      <td>9.0</td>\n",
              "      <td>1015</td>\n",
              "      <td>76.0</td>\n",
              "    </tr>\n",
              "  </tbody>\n",
              "</table>\n",
              "</div>\n",
              "      <button class=\"colab-df-convert\" onclick=\"convertToInteractive('df-73b570b9-a7fa-4e28-a1bd-634a3c00aaec')\"\n",
              "              title=\"Convert this dataframe to an interactive table.\"\n",
              "              style=\"display:none;\">\n",
              "        \n",
              "  <svg xmlns=\"http://www.w3.org/2000/svg\" height=\"24px\"viewBox=\"0 0 24 24\"\n",
              "       width=\"24px\">\n",
              "    <path d=\"M0 0h24v24H0V0z\" fill=\"none\"/>\n",
              "    <path d=\"M18.56 5.44l.94 2.06.94-2.06 2.06-.94-2.06-.94-.94-2.06-.94 2.06-2.06.94zm-11 1L8.5 8.5l.94-2.06 2.06-.94-2.06-.94L8.5 2.5l-.94 2.06-2.06.94zm10 10l.94 2.06.94-2.06 2.06-.94-2.06-.94-.94-2.06-.94 2.06-2.06.94z\"/><path d=\"M17.41 7.96l-1.37-1.37c-.4-.4-.92-.59-1.43-.59-.52 0-1.04.2-1.43.59L10.3 9.45l-7.72 7.72c-.78.78-.78 2.05 0 2.83L4 21.41c.39.39.9.59 1.41.59.51 0 1.02-.2 1.41-.59l7.78-7.78 2.81-2.81c.8-.78.8-2.07 0-2.86zM5.41 20L4 18.59l7.72-7.72 1.47 1.35L5.41 20z\"/>\n",
              "  </svg>\n",
              "      </button>\n",
              "      \n",
              "  <style>\n",
              "    .colab-df-container {\n",
              "      display:flex;\n",
              "      flex-wrap:wrap;\n",
              "      gap: 12px;\n",
              "    }\n",
              "\n",
              "    .colab-df-convert {\n",
              "      background-color: #E8F0FE;\n",
              "      border: none;\n",
              "      border-radius: 50%;\n",
              "      cursor: pointer;\n",
              "      display: none;\n",
              "      fill: #1967D2;\n",
              "      height: 32px;\n",
              "      padding: 0 0 0 0;\n",
              "      width: 32px;\n",
              "    }\n",
              "\n",
              "    .colab-df-convert:hover {\n",
              "      background-color: #E2EBFA;\n",
              "      box-shadow: 0px 1px 2px rgba(60, 64, 67, 0.3), 0px 1px 3px 1px rgba(60, 64, 67, 0.15);\n",
              "      fill: #174EA6;\n",
              "    }\n",
              "\n",
              "    [theme=dark] .colab-df-convert {\n",
              "      background-color: #3B4455;\n",
              "      fill: #D2E3FC;\n",
              "    }\n",
              "\n",
              "    [theme=dark] .colab-df-convert:hover {\n",
              "      background-color: #434B5C;\n",
              "      box-shadow: 0px 1px 3px 1px rgba(0, 0, 0, 0.15);\n",
              "      filter: drop-shadow(0px 1px 2px rgba(0, 0, 0, 0.3));\n",
              "      fill: #FFFFFF;\n",
              "    }\n",
              "  </style>\n",
              "\n",
              "      <script>\n",
              "        const buttonEl =\n",
              "          document.querySelector('#df-73b570b9-a7fa-4e28-a1bd-634a3c00aaec button.colab-df-convert');\n",
              "        buttonEl.style.display =\n",
              "          google.colab.kernel.accessAllowed ? 'block' : 'none';\n",
              "\n",
              "        async function convertToInteractive(key) {\n",
              "          const element = document.querySelector('#df-73b570b9-a7fa-4e28-a1bd-634a3c00aaec');\n",
              "          const dataTable =\n",
              "            await google.colab.kernel.invokeFunction('convertToInteractive',\n",
              "                                                     [key], {});\n",
              "          if (!dataTable) return;\n",
              "\n",
              "          const docLinkHtml = 'Like what you see? Visit the ' +\n",
              "            '<a target=\"_blank\" href=https://colab.research.google.com/notebooks/data_table.ipynb>data table notebook</a>'\n",
              "            + ' to learn more about interactive tables.';\n",
              "          element.innerHTML = '';\n",
              "          dataTable['output_type'] = 'display_data';\n",
              "          await google.colab.output.renderOutput(dataTable, element);\n",
              "          const docLink = document.createElement('div');\n",
              "          docLink.innerHTML = docLinkHtml;\n",
              "          element.appendChild(docLink);\n",
              "        }\n",
              "      </script>\n",
              "    </div>\n",
              "  </div>\n",
              "  "
            ]
          },
          "metadata": {},
          "execution_count": 34
        }
      ]
    },
    {
      "cell_type": "code",
      "source": [
        "#Because Monday and Tuesday are off, so i use the data from Wednesday to Sundy\n",
        "df_meteo_juin=df_meteo_juin.loc[2:6]\n",
        "df_meteo_juin"
      ],
      "metadata": {
        "colab": {
          "base_uri": "https://localhost:8080/",
          "height": 206
        },
        "id": "Y8iHtjNxbRzR",
        "outputId": "b0d1d0c6-0840-42c2-bc04-837c06fd184c"
      },
      "execution_count": null,
      "outputs": [
        {
          "output_type": "execute_result",
          "data": {
            "text/plain": [
              "        DATE  MAX_TEMPERATURE_C  MIN_TEMPERATURE_C  WINDSPEED_MAX_KMH  \\\n",
              "2 2021-06-23                 25                 18                 19   \n",
              "3 2021-06-24                 32                 23                 12   \n",
              "4 2021-06-25                 28                 20                 13   \n",
              "5 2021-06-26                 20                 16                 19   \n",
              "6 2021-06-27                 21                 15                 31   \n",
              "\n",
              "   PRECIP_TOTAL_DAY_MM  HUMIDITY_MAX_PERCENT  VISIBILITY_AVG_KM  \\\n",
              "2                  0.0                    79               10.0   \n",
              "3                  0.0                    76               10.0   \n",
              "4                  1.0                    82               10.0   \n",
              "5                  0.0                    88                9.0   \n",
              "6                  1.0                    89                9.0   \n",
              "\n",
              "   PRESSURE_MAX_MB  CLOUDCOVER_AVG_PERCENT  \n",
              "2             1024                    19.0  \n",
              "3             1018                     2.0  \n",
              "4             1015                    36.0  \n",
              "5             1013                    89.0  \n",
              "6             1015                    76.0  "
            ],
            "text/html": [
              "\n",
              "  <div id=\"df-14e795e6-8eaf-4c85-800e-f075507d89b7\">\n",
              "    <div class=\"colab-df-container\">\n",
              "      <div>\n",
              "<style scoped>\n",
              "    .dataframe tbody tr th:only-of-type {\n",
              "        vertical-align: middle;\n",
              "    }\n",
              "\n",
              "    .dataframe tbody tr th {\n",
              "        vertical-align: top;\n",
              "    }\n",
              "\n",
              "    .dataframe thead th {\n",
              "        text-align: right;\n",
              "    }\n",
              "</style>\n",
              "<table border=\"1\" class=\"dataframe\">\n",
              "  <thead>\n",
              "    <tr style=\"text-align: right;\">\n",
              "      <th></th>\n",
              "      <th>DATE</th>\n",
              "      <th>MAX_TEMPERATURE_C</th>\n",
              "      <th>MIN_TEMPERATURE_C</th>\n",
              "      <th>WINDSPEED_MAX_KMH</th>\n",
              "      <th>PRECIP_TOTAL_DAY_MM</th>\n",
              "      <th>HUMIDITY_MAX_PERCENT</th>\n",
              "      <th>VISIBILITY_AVG_KM</th>\n",
              "      <th>PRESSURE_MAX_MB</th>\n",
              "      <th>CLOUDCOVER_AVG_PERCENT</th>\n",
              "    </tr>\n",
              "  </thead>\n",
              "  <tbody>\n",
              "    <tr>\n",
              "      <th>2</th>\n",
              "      <td>2021-06-23</td>\n",
              "      <td>25</td>\n",
              "      <td>18</td>\n",
              "      <td>19</td>\n",
              "      <td>0.0</td>\n",
              "      <td>79</td>\n",
              "      <td>10.0</td>\n",
              "      <td>1024</td>\n",
              "      <td>19.0</td>\n",
              "    </tr>\n",
              "    <tr>\n",
              "      <th>3</th>\n",
              "      <td>2021-06-24</td>\n",
              "      <td>32</td>\n",
              "      <td>23</td>\n",
              "      <td>12</td>\n",
              "      <td>0.0</td>\n",
              "      <td>76</td>\n",
              "      <td>10.0</td>\n",
              "      <td>1018</td>\n",
              "      <td>2.0</td>\n",
              "    </tr>\n",
              "    <tr>\n",
              "      <th>4</th>\n",
              "      <td>2021-06-25</td>\n",
              "      <td>28</td>\n",
              "      <td>20</td>\n",
              "      <td>13</td>\n",
              "      <td>1.0</td>\n",
              "      <td>82</td>\n",
              "      <td>10.0</td>\n",
              "      <td>1015</td>\n",
              "      <td>36.0</td>\n",
              "    </tr>\n",
              "    <tr>\n",
              "      <th>5</th>\n",
              "      <td>2021-06-26</td>\n",
              "      <td>20</td>\n",
              "      <td>16</td>\n",
              "      <td>19</td>\n",
              "      <td>0.0</td>\n",
              "      <td>88</td>\n",
              "      <td>9.0</td>\n",
              "      <td>1013</td>\n",
              "      <td>89.0</td>\n",
              "    </tr>\n",
              "    <tr>\n",
              "      <th>6</th>\n",
              "      <td>2021-06-27</td>\n",
              "      <td>21</td>\n",
              "      <td>15</td>\n",
              "      <td>31</td>\n",
              "      <td>1.0</td>\n",
              "      <td>89</td>\n",
              "      <td>9.0</td>\n",
              "      <td>1015</td>\n",
              "      <td>76.0</td>\n",
              "    </tr>\n",
              "  </tbody>\n",
              "</table>\n",
              "</div>\n",
              "      <button class=\"colab-df-convert\" onclick=\"convertToInteractive('df-14e795e6-8eaf-4c85-800e-f075507d89b7')\"\n",
              "              title=\"Convert this dataframe to an interactive table.\"\n",
              "              style=\"display:none;\">\n",
              "        \n",
              "  <svg xmlns=\"http://www.w3.org/2000/svg\" height=\"24px\"viewBox=\"0 0 24 24\"\n",
              "       width=\"24px\">\n",
              "    <path d=\"M0 0h24v24H0V0z\" fill=\"none\"/>\n",
              "    <path d=\"M18.56 5.44l.94 2.06.94-2.06 2.06-.94-2.06-.94-.94-2.06-.94 2.06-2.06.94zm-11 1L8.5 8.5l.94-2.06 2.06-.94-2.06-.94L8.5 2.5l-.94 2.06-2.06.94zm10 10l.94 2.06.94-2.06 2.06-.94-2.06-.94-.94-2.06-.94 2.06-2.06.94z\"/><path d=\"M17.41 7.96l-1.37-1.37c-.4-.4-.92-.59-1.43-.59-.52 0-1.04.2-1.43.59L10.3 9.45l-7.72 7.72c-.78.78-.78 2.05 0 2.83L4 21.41c.39.39.9.59 1.41.59.51 0 1.02-.2 1.41-.59l7.78-7.78 2.81-2.81c.8-.78.8-2.07 0-2.86zM5.41 20L4 18.59l7.72-7.72 1.47 1.35L5.41 20z\"/>\n",
              "  </svg>\n",
              "      </button>\n",
              "      \n",
              "  <style>\n",
              "    .colab-df-container {\n",
              "      display:flex;\n",
              "      flex-wrap:wrap;\n",
              "      gap: 12px;\n",
              "    }\n",
              "\n",
              "    .colab-df-convert {\n",
              "      background-color: #E8F0FE;\n",
              "      border: none;\n",
              "      border-radius: 50%;\n",
              "      cursor: pointer;\n",
              "      display: none;\n",
              "      fill: #1967D2;\n",
              "      height: 32px;\n",
              "      padding: 0 0 0 0;\n",
              "      width: 32px;\n",
              "    }\n",
              "\n",
              "    .colab-df-convert:hover {\n",
              "      background-color: #E2EBFA;\n",
              "      box-shadow: 0px 1px 2px rgba(60, 64, 67, 0.3), 0px 1px 3px 1px rgba(60, 64, 67, 0.15);\n",
              "      fill: #174EA6;\n",
              "    }\n",
              "\n",
              "    [theme=dark] .colab-df-convert {\n",
              "      background-color: #3B4455;\n",
              "      fill: #D2E3FC;\n",
              "    }\n",
              "\n",
              "    [theme=dark] .colab-df-convert:hover {\n",
              "      background-color: #434B5C;\n",
              "      box-shadow: 0px 1px 3px 1px rgba(0, 0, 0, 0.15);\n",
              "      filter: drop-shadow(0px 1px 2px rgba(0, 0, 0, 0.3));\n",
              "      fill: #FFFFFF;\n",
              "    }\n",
              "  </style>\n",
              "\n",
              "      <script>\n",
              "        const buttonEl =\n",
              "          document.querySelector('#df-14e795e6-8eaf-4c85-800e-f075507d89b7 button.colab-df-convert');\n",
              "        buttonEl.style.display =\n",
              "          google.colab.kernel.accessAllowed ? 'block' : 'none';\n",
              "\n",
              "        async function convertToInteractive(key) {\n",
              "          const element = document.querySelector('#df-14e795e6-8eaf-4c85-800e-f075507d89b7');\n",
              "          const dataTable =\n",
              "            await google.colab.kernel.invokeFunction('convertToInteractive',\n",
              "                                                     [key], {});\n",
              "          if (!dataTable) return;\n",
              "\n",
              "          const docLinkHtml = 'Like what you see? Visit the ' +\n",
              "            '<a target=\"_blank\" href=https://colab.research.google.com/notebooks/data_table.ipynb>data table notebook</a>'\n",
              "            + ' to learn more about interactive tables.';\n",
              "          element.innerHTML = '';\n",
              "          dataTable['output_type'] = 'display_data';\n",
              "          await google.colab.output.renderOutput(dataTable, element);\n",
              "          const docLink = document.createElement('div');\n",
              "          docLink.innerHTML = docLinkHtml;\n",
              "          element.appendChild(docLink);\n",
              "        }\n",
              "      </script>\n",
              "    </div>\n",
              "  </div>\n",
              "  "
            ]
          },
          "metadata": {},
          "execution_count": 35
        }
      ]
    },
    {
      "cell_type": "code",
      "source": [
        "df_meteo_juin['MONTH'] = pd.DatetimeIndex(df_meteo_juin['DATE']).month\n",
        "df_meteo_juin['WEEKDAY'] = df_meteo_juin['DATE'].dt.day_name()\n",
        "df_meteo_juin['WEEKDAY']=df_meteo_juin['WEEKDAY'].map({'Monday':1,'Tuesday':2,'Wednesday':3,'Thursday':4,'Friday':5,'Saturday':6,'Sunday':7})\n",
        "df_meteo_juin['WEEK'] = df_meteo_juin['DATE'].dt.week"
      ],
      "metadata": {
        "colab": {
          "base_uri": "https://localhost:8080/"
        },
        "id": "WlAKHxs6XWnv",
        "outputId": "4f96fb80-6974-406f-b89f-955841e8223e"
      },
      "execution_count": null,
      "outputs": [
        {
          "output_type": "stream",
          "name": "stderr",
          "text": [
            "<ipython-input-36-974db61c0c72>:1: SettingWithCopyWarning: \n",
            "A value is trying to be set on a copy of a slice from a DataFrame.\n",
            "Try using .loc[row_indexer,col_indexer] = value instead\n",
            "\n",
            "See the caveats in the documentation: https://pandas.pydata.org/pandas-docs/stable/user_guide/indexing.html#returning-a-view-versus-a-copy\n",
            "  df_meteo_juin['MONTH'] = pd.DatetimeIndex(df_meteo_juin['DATE']).month\n",
            "<ipython-input-36-974db61c0c72>:2: SettingWithCopyWarning: \n",
            "A value is trying to be set on a copy of a slice from a DataFrame.\n",
            "Try using .loc[row_indexer,col_indexer] = value instead\n",
            "\n",
            "See the caveats in the documentation: https://pandas.pydata.org/pandas-docs/stable/user_guide/indexing.html#returning-a-view-versus-a-copy\n",
            "  df_meteo_juin['WEEKDAY'] = df_meteo_juin['DATE'].dt.day_name()\n",
            "<ipython-input-36-974db61c0c72>:3: SettingWithCopyWarning: \n",
            "A value is trying to be set on a copy of a slice from a DataFrame.\n",
            "Try using .loc[row_indexer,col_indexer] = value instead\n",
            "\n",
            "See the caveats in the documentation: https://pandas.pydata.org/pandas-docs/stable/user_guide/indexing.html#returning-a-view-versus-a-copy\n",
            "  df_meteo_juin['WEEKDAY']=df_meteo_juin['WEEKDAY'].map({'Monday':1,'Tuesday':2,'Wednesday':3,'Thursday':4,'Friday':5,'Saturday':6,'Sunday':7})\n",
            "<ipython-input-36-974db61c0c72>:4: FutureWarning: Series.dt.weekofyear and Series.dt.week have been deprecated.  Please use Series.dt.isocalendar().week instead.\n",
            "  df_meteo_juin['WEEK'] = df_meteo_juin['DATE'].dt.week\n",
            "<ipython-input-36-974db61c0c72>:4: SettingWithCopyWarning: \n",
            "A value is trying to be set on a copy of a slice from a DataFrame.\n",
            "Try using .loc[row_indexer,col_indexer] = value instead\n",
            "\n",
            "See the caveats in the documentation: https://pandas.pydata.org/pandas-docs/stable/user_guide/indexing.html#returning-a-view-versus-a-copy\n",
            "  df_meteo_juin['WEEK'] = df_meteo_juin['DATE'].dt.week\n"
          ]
        }
      ]
    },
    {
      "cell_type": "code",
      "source": [
        "df_meteo_juin.info()"
      ],
      "metadata": {
        "colab": {
          "base_uri": "https://localhost:8080/"
        },
        "id": "Q2Mi6sgwSNlr",
        "outputId": "4d2ca627-a18a-45d7-ec92-8338e7cf7246"
      },
      "execution_count": null,
      "outputs": [
        {
          "output_type": "stream",
          "name": "stdout",
          "text": [
            "<class 'pandas.core.frame.DataFrame'>\n",
            "RangeIndex: 5 entries, 2 to 6\n",
            "Data columns (total 12 columns):\n",
            " #   Column                  Non-Null Count  Dtype         \n",
            "---  ------                  --------------  -----         \n",
            " 0   DATE                    5 non-null      datetime64[ns]\n",
            " 1   MAX_TEMPERATURE_C       5 non-null      int64         \n",
            " 2   MIN_TEMPERATURE_C       5 non-null      int64         \n",
            " 3   WINDSPEED_MAX_KMH       5 non-null      int64         \n",
            " 4   PRECIP_TOTAL_DAY_MM     5 non-null      float64       \n",
            " 5   HUMIDITY_MAX_PERCENT    5 non-null      int64         \n",
            " 6   VISIBILITY_AVG_KM       5 non-null      float64       \n",
            " 7   PRESSURE_MAX_MB         5 non-null      int64         \n",
            " 8   CLOUDCOVER_AVG_PERCENT  5 non-null      float64       \n",
            " 9   MONTH                   5 non-null      int64         \n",
            " 10  WEEKDAY                 5 non-null      int64         \n",
            " 11  WEEK                    5 non-null      int64         \n",
            "dtypes: datetime64[ns](1), float64(3), int64(8)\n",
            "memory usage: 612.0 bytes\n"
          ]
        }
      ]
    },
    {
      "cell_type": "code",
      "source": [
        "df_bordeaux['OPINION'].value_counts()"
      ],
      "metadata": {
        "colab": {
          "base_uri": "https://localhost:8080/"
        },
        "id": "vUnRrIzaNp0m",
        "outputId": "ac6cb228-fdc2-4852-e4b7-f246587ed82a"
      },
      "execution_count": null,
      "outputs": [
        {
          "output_type": "execute_result",
          "data": {
            "text/plain": [
              "météo défavorable         172\n",
              "météo favorable           166\n",
              "météo correcte            106\n",
              "météo très défavorable     56\n",
              "météo idéale               20\n",
              "Name: OPINION, dtype: int64"
            ]
          },
          "metadata": {},
          "execution_count": 38
        }
      ]
    },
    {
      "cell_type": "code",
      "source": [
        "# change 'opinion' to numeric\n",
        "\n",
        "df_bordeaux['OPINION_fac'] = df_bordeaux['OPINION'].factorize()[0]\n",
        "df_bordeaux['OPINION_fac'].value_counts()\n",
        "\n",
        "# 0 météo très défavorable     48\n",
        "# 1 météo défavorable         168\n",
        "# 2 météo favorable           172\n",
        "# 3 météo idéale               18\n",
        "# 4 météo correcte            114"
      ],
      "metadata": {
        "colab": {
          "base_uri": "https://localhost:8080/"
        },
        "id": "KcDx8QLrMTOz",
        "outputId": "3754474c-c3c5-48a0-8928-147566e51ac8"
      },
      "execution_count": null,
      "outputs": [
        {
          "output_type": "execute_result",
          "data": {
            "text/plain": [
              "1    172\n",
              "3    166\n",
              "2    106\n",
              "0     56\n",
              "4     20\n",
              "Name: OPINION_fac, dtype: int64"
            ]
          },
          "metadata": {},
          "execution_count": 39
        }
      ]
    },
    {
      "cell_type": "code",
      "source": [
        "df_bordeaux['TOTAL_SNOW_MM'].mean()"
      ],
      "metadata": {
        "colab": {
          "base_uri": "https://localhost:8080/"
        },
        "id": "YFpEDo0yHIjw",
        "outputId": "02e27dc0-fd1f-4566-8a96-ccbde9a3a413"
      },
      "execution_count": null,
      "outputs": [
        {
          "output_type": "execute_result",
          "data": {
            "text/plain": [
              "0.0"
            ]
          },
          "metadata": {},
          "execution_count": 40
        }
      ]
    },
    {
      "cell_type": "code",
      "source": [
        "df_bordeaux=df_bordeaux.drop(columns='TOTAL_SNOW_MM')\n"
      ],
      "metadata": {
        "id": "pYawC7EDNM7y"
      },
      "execution_count": null,
      "outputs": []
    },
    {
      "cell_type": "code",
      "source": [
        "# Research item A of df of Bordeaux\n",
        "df_bordeaux_A=df_bordeaux[df_bordeaux['ITEM']=='A']\n",
        "df_bordeaux_A.head(10)"
      ],
      "metadata": {
        "colab": {
          "base_uri": "https://localhost:8080/",
          "height": 630
        },
        "id": "zKPDmvnfEu3Y",
        "outputId": "a44a5e6b-8a64-4ccb-b0fb-008133a8c155"
      },
      "execution_count": null,
      "outputs": [
        {
          "output_type": "execute_result",
          "data": {
            "text/plain": [
              "        DATE ITEM  SALES  MONTH  WEEKDAY  WEEK  MAX_TEMPERATURE_C  \\\n",
              "0 2019-01-02    A    113      1        3     1                  9   \n",
              "1 2019-01-03    A    143      1        4     1                  7   \n",
              "2 2019-01-04    A    145      1        5     1                  7   \n",
              "3 2019-01-05    A    167      1        6     1                  6   \n",
              "4 2019-01-06    A    202      1        7     1                  5   \n",
              "5 2019-01-09    A    146      1        3     2                  7   \n",
              "6 2019-01-10    A    202      1        4     2                  5   \n",
              "7 2019-01-11    A    144      1        5     2                  7   \n",
              "8 2019-01-12    A    116      1        6     2                  9   \n",
              "9 2019-01-13    A    114      1        7     2                 10   \n",
              "\n",
              "   MIN_TEMPERATURE_C  WINDSPEED_MAX_KMH  TEMPERATURE_MORNING_C  ...  \\\n",
              "0                  4                 14                      5  ...   \n",
              "1                  2                 15                      1  ...   \n",
              "2                  1                 13                      0  ...   \n",
              "3                  1                  9                      0  ...   \n",
              "4                  0                 10                     -1  ...   \n",
              "5                  4                 12                      3  ...   \n",
              "6                  1                 14                      1  ...   \n",
              "7                  1                  7                      0  ...   \n",
              "8                  5                  5                      5  ...   \n",
              "9                  9                 10                      9  ...   \n",
              "\n",
              "   HEATINDEX_MAX_C  DEWPOINT_MAX_C  WINDTEMP_MAX_C  WEATHER_CODE_MORNING  \\\n",
              "0                9               3               2                   122   \n",
              "1                7               0              -2                   116   \n",
              "2                7               0              -3                   113   \n",
              "3                6               0              -1                   116   \n",
              "4                5               0              -2                   143   \n",
              "5                7               5               2                   143   \n",
              "6                5               1              -3                   116   \n",
              "7                7               3               1                   116   \n",
              "8                9               5               4                   176   \n",
              "9               10               9               8                   353   \n",
              "\n",
              "   WEATHER_CODE_NOON  WEATHER_CODE_EVENING  UV_INDEX  SUNHOUR  \\\n",
              "0                116                   116         1      8.7   \n",
              "1                116                   116         1      8.7   \n",
              "2                116                   122         1      5.1   \n",
              "3                116                   116         1      8.7   \n",
              "4                116                   116         1      8.7   \n",
              "5                116                   176         1      6.9   \n",
              "6                116                   116         1      8.7   \n",
              "7                119                   122         1      3.4   \n",
              "8                119                   119         1      3.4   \n",
              "9                176                   266         1      3.4   \n",
              "\n",
              "                  OPINION  OPINION_fac  \n",
              "0  météo très défavorable            0  \n",
              "1  météo très défavorable            0  \n",
              "2  météo très défavorable            0  \n",
              "3  météo très défavorable            0  \n",
              "4  météo très défavorable            0  \n",
              "5  météo très défavorable            0  \n",
              "6  météo très défavorable            0  \n",
              "7  météo très défavorable            0  \n",
              "8  météo très défavorable            0  \n",
              "9       météo défavorable            1  \n",
              "\n",
              "[10 rows x 27 columns]"
            ],
            "text/html": [
              "\n",
              "  <div id=\"df-cc263a0c-b5ff-450e-8151-2977ec074371\">\n",
              "    <div class=\"colab-df-container\">\n",
              "      <div>\n",
              "<style scoped>\n",
              "    .dataframe tbody tr th:only-of-type {\n",
              "        vertical-align: middle;\n",
              "    }\n",
              "\n",
              "    .dataframe tbody tr th {\n",
              "        vertical-align: top;\n",
              "    }\n",
              "\n",
              "    .dataframe thead th {\n",
              "        text-align: right;\n",
              "    }\n",
              "</style>\n",
              "<table border=\"1\" class=\"dataframe\">\n",
              "  <thead>\n",
              "    <tr style=\"text-align: right;\">\n",
              "      <th></th>\n",
              "      <th>DATE</th>\n",
              "      <th>ITEM</th>\n",
              "      <th>SALES</th>\n",
              "      <th>MONTH</th>\n",
              "      <th>WEEKDAY</th>\n",
              "      <th>WEEK</th>\n",
              "      <th>MAX_TEMPERATURE_C</th>\n",
              "      <th>MIN_TEMPERATURE_C</th>\n",
              "      <th>WINDSPEED_MAX_KMH</th>\n",
              "      <th>TEMPERATURE_MORNING_C</th>\n",
              "      <th>...</th>\n",
              "      <th>HEATINDEX_MAX_C</th>\n",
              "      <th>DEWPOINT_MAX_C</th>\n",
              "      <th>WINDTEMP_MAX_C</th>\n",
              "      <th>WEATHER_CODE_MORNING</th>\n",
              "      <th>WEATHER_CODE_NOON</th>\n",
              "      <th>WEATHER_CODE_EVENING</th>\n",
              "      <th>UV_INDEX</th>\n",
              "      <th>SUNHOUR</th>\n",
              "      <th>OPINION</th>\n",
              "      <th>OPINION_fac</th>\n",
              "    </tr>\n",
              "  </thead>\n",
              "  <tbody>\n",
              "    <tr>\n",
              "      <th>0</th>\n",
              "      <td>2019-01-02</td>\n",
              "      <td>A</td>\n",
              "      <td>113</td>\n",
              "      <td>1</td>\n",
              "      <td>3</td>\n",
              "      <td>1</td>\n",
              "      <td>9</td>\n",
              "      <td>4</td>\n",
              "      <td>14</td>\n",
              "      <td>5</td>\n",
              "      <td>...</td>\n",
              "      <td>9</td>\n",
              "      <td>3</td>\n",
              "      <td>2</td>\n",
              "      <td>122</td>\n",
              "      <td>116</td>\n",
              "      <td>116</td>\n",
              "      <td>1</td>\n",
              "      <td>8.7</td>\n",
              "      <td>météo très défavorable</td>\n",
              "      <td>0</td>\n",
              "    </tr>\n",
              "    <tr>\n",
              "      <th>1</th>\n",
              "      <td>2019-01-03</td>\n",
              "      <td>A</td>\n",
              "      <td>143</td>\n",
              "      <td>1</td>\n",
              "      <td>4</td>\n",
              "      <td>1</td>\n",
              "      <td>7</td>\n",
              "      <td>2</td>\n",
              "      <td>15</td>\n",
              "      <td>1</td>\n",
              "      <td>...</td>\n",
              "      <td>7</td>\n",
              "      <td>0</td>\n",
              "      <td>-2</td>\n",
              "      <td>116</td>\n",
              "      <td>116</td>\n",
              "      <td>116</td>\n",
              "      <td>1</td>\n",
              "      <td>8.7</td>\n",
              "      <td>météo très défavorable</td>\n",
              "      <td>0</td>\n",
              "    </tr>\n",
              "    <tr>\n",
              "      <th>2</th>\n",
              "      <td>2019-01-04</td>\n",
              "      <td>A</td>\n",
              "      <td>145</td>\n",
              "      <td>1</td>\n",
              "      <td>5</td>\n",
              "      <td>1</td>\n",
              "      <td>7</td>\n",
              "      <td>1</td>\n",
              "      <td>13</td>\n",
              "      <td>0</td>\n",
              "      <td>...</td>\n",
              "      <td>7</td>\n",
              "      <td>0</td>\n",
              "      <td>-3</td>\n",
              "      <td>113</td>\n",
              "      <td>116</td>\n",
              "      <td>122</td>\n",
              "      <td>1</td>\n",
              "      <td>5.1</td>\n",
              "      <td>météo très défavorable</td>\n",
              "      <td>0</td>\n",
              "    </tr>\n",
              "    <tr>\n",
              "      <th>3</th>\n",
              "      <td>2019-01-05</td>\n",
              "      <td>A</td>\n",
              "      <td>167</td>\n",
              "      <td>1</td>\n",
              "      <td>6</td>\n",
              "      <td>1</td>\n",
              "      <td>6</td>\n",
              "      <td>1</td>\n",
              "      <td>9</td>\n",
              "      <td>0</td>\n",
              "      <td>...</td>\n",
              "      <td>6</td>\n",
              "      <td>0</td>\n",
              "      <td>-1</td>\n",
              "      <td>116</td>\n",
              "      <td>116</td>\n",
              "      <td>116</td>\n",
              "      <td>1</td>\n",
              "      <td>8.7</td>\n",
              "      <td>météo très défavorable</td>\n",
              "      <td>0</td>\n",
              "    </tr>\n",
              "    <tr>\n",
              "      <th>4</th>\n",
              "      <td>2019-01-06</td>\n",
              "      <td>A</td>\n",
              "      <td>202</td>\n",
              "      <td>1</td>\n",
              "      <td>7</td>\n",
              "      <td>1</td>\n",
              "      <td>5</td>\n",
              "      <td>0</td>\n",
              "      <td>10</td>\n",
              "      <td>-1</td>\n",
              "      <td>...</td>\n",
              "      <td>5</td>\n",
              "      <td>0</td>\n",
              "      <td>-2</td>\n",
              "      <td>143</td>\n",
              "      <td>116</td>\n",
              "      <td>116</td>\n",
              "      <td>1</td>\n",
              "      <td>8.7</td>\n",
              "      <td>météo très défavorable</td>\n",
              "      <td>0</td>\n",
              "    </tr>\n",
              "    <tr>\n",
              "      <th>5</th>\n",
              "      <td>2019-01-09</td>\n",
              "      <td>A</td>\n",
              "      <td>146</td>\n",
              "      <td>1</td>\n",
              "      <td>3</td>\n",
              "      <td>2</td>\n",
              "      <td>7</td>\n",
              "      <td>4</td>\n",
              "      <td>12</td>\n",
              "      <td>3</td>\n",
              "      <td>...</td>\n",
              "      <td>7</td>\n",
              "      <td>5</td>\n",
              "      <td>2</td>\n",
              "      <td>143</td>\n",
              "      <td>116</td>\n",
              "      <td>176</td>\n",
              "      <td>1</td>\n",
              "      <td>6.9</td>\n",
              "      <td>météo très défavorable</td>\n",
              "      <td>0</td>\n",
              "    </tr>\n",
              "    <tr>\n",
              "      <th>6</th>\n",
              "      <td>2019-01-10</td>\n",
              "      <td>A</td>\n",
              "      <td>202</td>\n",
              "      <td>1</td>\n",
              "      <td>4</td>\n",
              "      <td>2</td>\n",
              "      <td>5</td>\n",
              "      <td>1</td>\n",
              "      <td>14</td>\n",
              "      <td>1</td>\n",
              "      <td>...</td>\n",
              "      <td>5</td>\n",
              "      <td>1</td>\n",
              "      <td>-3</td>\n",
              "      <td>116</td>\n",
              "      <td>116</td>\n",
              "      <td>116</td>\n",
              "      <td>1</td>\n",
              "      <td>8.7</td>\n",
              "      <td>météo très défavorable</td>\n",
              "      <td>0</td>\n",
              "    </tr>\n",
              "    <tr>\n",
              "      <th>7</th>\n",
              "      <td>2019-01-11</td>\n",
              "      <td>A</td>\n",
              "      <td>144</td>\n",
              "      <td>1</td>\n",
              "      <td>5</td>\n",
              "      <td>2</td>\n",
              "      <td>7</td>\n",
              "      <td>1</td>\n",
              "      <td>7</td>\n",
              "      <td>0</td>\n",
              "      <td>...</td>\n",
              "      <td>7</td>\n",
              "      <td>3</td>\n",
              "      <td>1</td>\n",
              "      <td>116</td>\n",
              "      <td>119</td>\n",
              "      <td>122</td>\n",
              "      <td>1</td>\n",
              "      <td>3.4</td>\n",
              "      <td>météo très défavorable</td>\n",
              "      <td>0</td>\n",
              "    </tr>\n",
              "    <tr>\n",
              "      <th>8</th>\n",
              "      <td>2019-01-12</td>\n",
              "      <td>A</td>\n",
              "      <td>116</td>\n",
              "      <td>1</td>\n",
              "      <td>6</td>\n",
              "      <td>2</td>\n",
              "      <td>9</td>\n",
              "      <td>5</td>\n",
              "      <td>5</td>\n",
              "      <td>5</td>\n",
              "      <td>...</td>\n",
              "      <td>9</td>\n",
              "      <td>5</td>\n",
              "      <td>4</td>\n",
              "      <td>176</td>\n",
              "      <td>119</td>\n",
              "      <td>119</td>\n",
              "      <td>1</td>\n",
              "      <td>3.4</td>\n",
              "      <td>météo très défavorable</td>\n",
              "      <td>0</td>\n",
              "    </tr>\n",
              "    <tr>\n",
              "      <th>9</th>\n",
              "      <td>2019-01-13</td>\n",
              "      <td>A</td>\n",
              "      <td>114</td>\n",
              "      <td>1</td>\n",
              "      <td>7</td>\n",
              "      <td>2</td>\n",
              "      <td>10</td>\n",
              "      <td>9</td>\n",
              "      <td>10</td>\n",
              "      <td>9</td>\n",
              "      <td>...</td>\n",
              "      <td>10</td>\n",
              "      <td>9</td>\n",
              "      <td>8</td>\n",
              "      <td>353</td>\n",
              "      <td>176</td>\n",
              "      <td>266</td>\n",
              "      <td>1</td>\n",
              "      <td>3.4</td>\n",
              "      <td>météo défavorable</td>\n",
              "      <td>1</td>\n",
              "    </tr>\n",
              "  </tbody>\n",
              "</table>\n",
              "<p>10 rows × 27 columns</p>\n",
              "</div>\n",
              "      <button class=\"colab-df-convert\" onclick=\"convertToInteractive('df-cc263a0c-b5ff-450e-8151-2977ec074371')\"\n",
              "              title=\"Convert this dataframe to an interactive table.\"\n",
              "              style=\"display:none;\">\n",
              "        \n",
              "  <svg xmlns=\"http://www.w3.org/2000/svg\" height=\"24px\"viewBox=\"0 0 24 24\"\n",
              "       width=\"24px\">\n",
              "    <path d=\"M0 0h24v24H0V0z\" fill=\"none\"/>\n",
              "    <path d=\"M18.56 5.44l.94 2.06.94-2.06 2.06-.94-2.06-.94-.94-2.06-.94 2.06-2.06.94zm-11 1L8.5 8.5l.94-2.06 2.06-.94-2.06-.94L8.5 2.5l-.94 2.06-2.06.94zm10 10l.94 2.06.94-2.06 2.06-.94-2.06-.94-.94-2.06-.94 2.06-2.06.94z\"/><path d=\"M17.41 7.96l-1.37-1.37c-.4-.4-.92-.59-1.43-.59-.52 0-1.04.2-1.43.59L10.3 9.45l-7.72 7.72c-.78.78-.78 2.05 0 2.83L4 21.41c.39.39.9.59 1.41.59.51 0 1.02-.2 1.41-.59l7.78-7.78 2.81-2.81c.8-.78.8-2.07 0-2.86zM5.41 20L4 18.59l7.72-7.72 1.47 1.35L5.41 20z\"/>\n",
              "  </svg>\n",
              "      </button>\n",
              "      \n",
              "  <style>\n",
              "    .colab-df-container {\n",
              "      display:flex;\n",
              "      flex-wrap:wrap;\n",
              "      gap: 12px;\n",
              "    }\n",
              "\n",
              "    .colab-df-convert {\n",
              "      background-color: #E8F0FE;\n",
              "      border: none;\n",
              "      border-radius: 50%;\n",
              "      cursor: pointer;\n",
              "      display: none;\n",
              "      fill: #1967D2;\n",
              "      height: 32px;\n",
              "      padding: 0 0 0 0;\n",
              "      width: 32px;\n",
              "    }\n",
              "\n",
              "    .colab-df-convert:hover {\n",
              "      background-color: #E2EBFA;\n",
              "      box-shadow: 0px 1px 2px rgba(60, 64, 67, 0.3), 0px 1px 3px 1px rgba(60, 64, 67, 0.15);\n",
              "      fill: #174EA6;\n",
              "    }\n",
              "\n",
              "    [theme=dark] .colab-df-convert {\n",
              "      background-color: #3B4455;\n",
              "      fill: #D2E3FC;\n",
              "    }\n",
              "\n",
              "    [theme=dark] .colab-df-convert:hover {\n",
              "      background-color: #434B5C;\n",
              "      box-shadow: 0px 1px 3px 1px rgba(0, 0, 0, 0.15);\n",
              "      filter: drop-shadow(0px 1px 2px rgba(0, 0, 0, 0.3));\n",
              "      fill: #FFFFFF;\n",
              "    }\n",
              "  </style>\n",
              "\n",
              "      <script>\n",
              "        const buttonEl =\n",
              "          document.querySelector('#df-cc263a0c-b5ff-450e-8151-2977ec074371 button.colab-df-convert');\n",
              "        buttonEl.style.display =\n",
              "          google.colab.kernel.accessAllowed ? 'block' : 'none';\n",
              "\n",
              "        async function convertToInteractive(key) {\n",
              "          const element = document.querySelector('#df-cc263a0c-b5ff-450e-8151-2977ec074371');\n",
              "          const dataTable =\n",
              "            await google.colab.kernel.invokeFunction('convertToInteractive',\n",
              "                                                     [key], {});\n",
              "          if (!dataTable) return;\n",
              "\n",
              "          const docLinkHtml = 'Like what you see? Visit the ' +\n",
              "            '<a target=\"_blank\" href=https://colab.research.google.com/notebooks/data_table.ipynb>data table notebook</a>'\n",
              "            + ' to learn more about interactive tables.';\n",
              "          element.innerHTML = '';\n",
              "          dataTable['output_type'] = 'display_data';\n",
              "          await google.colab.output.renderOutput(dataTable, element);\n",
              "          const docLink = document.createElement('div');\n",
              "          docLink.innerHTML = docLinkHtml;\n",
              "          element.appendChild(docLink);\n",
              "        }\n",
              "      </script>\n",
              "    </div>\n",
              "  </div>\n",
              "  "
            ]
          },
          "metadata": {},
          "execution_count": 42
        }
      ]
    },
    {
      "cell_type": "code",
      "source": [
        "df_bordeaux_A.info()"
      ],
      "metadata": {
        "colab": {
          "base_uri": "https://localhost:8080/"
        },
        "id": "shegYnGvLogI",
        "outputId": "76c8bb24-4e5b-4ed3-a35f-18679d5c7f1a"
      },
      "execution_count": null,
      "outputs": [
        {
          "output_type": "stream",
          "name": "stdout",
          "text": [
            "<class 'pandas.core.frame.DataFrame'>\n",
            "Int64Index: 260 entries, 0 to 259\n",
            "Data columns (total 27 columns):\n",
            " #   Column                  Non-Null Count  Dtype         \n",
            "---  ------                  --------------  -----         \n",
            " 0   DATE                    260 non-null    datetime64[ns]\n",
            " 1   ITEM                    260 non-null    object        \n",
            " 2   SALES                   260 non-null    int64         \n",
            " 3   MONTH                   260 non-null    int64         \n",
            " 4   WEEKDAY                 260 non-null    int64         \n",
            " 5   WEEK                    260 non-null    int64         \n",
            " 6   MAX_TEMPERATURE_C       260 non-null    int64         \n",
            " 7   MIN_TEMPERATURE_C       260 non-null    int64         \n",
            " 8   WINDSPEED_MAX_KMH       260 non-null    int64         \n",
            " 9   TEMPERATURE_MORNING_C   260 non-null    int64         \n",
            " 10  TEMPERATURE_NOON_C      260 non-null    int64         \n",
            " 11  TEMPERATURE_EVENING_C   260 non-null    int64         \n",
            " 12  PRECIP_TOTAL_DAY_MM     260 non-null    float64       \n",
            " 13  HUMIDITY_MAX_PERCENT    260 non-null    int64         \n",
            " 14  VISIBILITY_AVG_KM       260 non-null    float64       \n",
            " 15  PRESSURE_MAX_MB         260 non-null    int64         \n",
            " 16  CLOUDCOVER_AVG_PERCENT  260 non-null    float64       \n",
            " 17  HEATINDEX_MAX_C         260 non-null    int64         \n",
            " 18  DEWPOINT_MAX_C          260 non-null    int64         \n",
            " 19  WINDTEMP_MAX_C          260 non-null    int64         \n",
            " 20  WEATHER_CODE_MORNING    260 non-null    int64         \n",
            " 21  WEATHER_CODE_NOON       260 non-null    int64         \n",
            " 22  WEATHER_CODE_EVENING    260 non-null    int64         \n",
            " 23  UV_INDEX                260 non-null    int64         \n",
            " 24  SUNHOUR                 260 non-null    float64       \n",
            " 25  OPINION                 260 non-null    object        \n",
            " 26  OPINION_fac             260 non-null    int64         \n",
            "dtypes: datetime64[ns](1), float64(4), int64(20), object(2)\n",
            "memory usage: 56.9+ KB\n"
          ]
        }
      ]
    },
    {
      "cell_type": "code",
      "source": [
        "df_bordeaux_A.to_csv('df_bordeaux_A.csv')"
      ],
      "metadata": {
        "id": "RAiX-FMEHouk"
      },
      "execution_count": null,
      "outputs": []
    },
    {
      "cell_type": "code",
      "source": [
        "# For item B\n",
        "df_bordeaux_B=df_bordeaux[df_bordeaux['ITEM']=='B']\n",
        "df_bordeaux_B.info()"
      ],
      "metadata": {
        "colab": {
          "base_uri": "https://localhost:8080/"
        },
        "id": "xiy4OZsLEUyM",
        "outputId": "95f3a621-083a-4991-b458-a26410d9bd4f"
      },
      "execution_count": null,
      "outputs": [
        {
          "output_type": "stream",
          "name": "stdout",
          "text": [
            "<class 'pandas.core.frame.DataFrame'>\n",
            "Int64Index: 260 entries, 260 to 519\n",
            "Data columns (total 27 columns):\n",
            " #   Column                  Non-Null Count  Dtype         \n",
            "---  ------                  --------------  -----         \n",
            " 0   DATE                    260 non-null    datetime64[ns]\n",
            " 1   ITEM                    260 non-null    object        \n",
            " 2   SALES                   260 non-null    int64         \n",
            " 3   MONTH                   260 non-null    int64         \n",
            " 4   WEEKDAY                 260 non-null    int64         \n",
            " 5   WEEK                    260 non-null    int64         \n",
            " 6   MAX_TEMPERATURE_C       260 non-null    int64         \n",
            " 7   MIN_TEMPERATURE_C       260 non-null    int64         \n",
            " 8   WINDSPEED_MAX_KMH       260 non-null    int64         \n",
            " 9   TEMPERATURE_MORNING_C   260 non-null    int64         \n",
            " 10  TEMPERATURE_NOON_C      260 non-null    int64         \n",
            " 11  TEMPERATURE_EVENING_C   260 non-null    int64         \n",
            " 12  PRECIP_TOTAL_DAY_MM     260 non-null    float64       \n",
            " 13  HUMIDITY_MAX_PERCENT    260 non-null    int64         \n",
            " 14  VISIBILITY_AVG_KM       260 non-null    float64       \n",
            " 15  PRESSURE_MAX_MB         260 non-null    int64         \n",
            " 16  CLOUDCOVER_AVG_PERCENT  260 non-null    float64       \n",
            " 17  HEATINDEX_MAX_C         260 non-null    int64         \n",
            " 18  DEWPOINT_MAX_C          260 non-null    int64         \n",
            " 19  WINDTEMP_MAX_C          260 non-null    int64         \n",
            " 20  WEATHER_CODE_MORNING    260 non-null    int64         \n",
            " 21  WEATHER_CODE_NOON       260 non-null    int64         \n",
            " 22  WEATHER_CODE_EVENING    260 non-null    int64         \n",
            " 23  UV_INDEX                260 non-null    int64         \n",
            " 24  SUNHOUR                 260 non-null    float64       \n",
            " 25  OPINION                 260 non-null    object        \n",
            " 26  OPINION_fac             260 non-null    int64         \n",
            "dtypes: datetime64[ns](1), float64(4), int64(20), object(2)\n",
            "memory usage: 56.9+ KB\n"
          ]
        }
      ]
    },
    {
      "cell_type": "code",
      "source": [
        "df_bordeaux_B.to_csv('df_bordeaux_B.csv')"
      ],
      "metadata": {
        "id": "Z8QZCdaVH0sl"
      },
      "execution_count": null,
      "outputs": []
    },
    {
      "cell_type": "code",
      "source": [
        "df_meteo_juin.columns"
      ],
      "metadata": {
        "colab": {
          "base_uri": "https://localhost:8080/"
        },
        "id": "hncpAEVTRoLG",
        "outputId": "280e72ce-7871-4c5f-b85c-5d8b7448306f"
      },
      "execution_count": null,
      "outputs": [
        {
          "output_type": "execute_result",
          "data": {
            "text/plain": [
              "Index(['DATE', 'MAX_TEMPERATURE_C', 'MIN_TEMPERATURE_C', 'WINDSPEED_MAX_KMH',\n",
              "       'PRECIP_TOTAL_DAY_MM', 'HUMIDITY_MAX_PERCENT', 'VISIBILITY_AVG_KM',\n",
              "       'PRESSURE_MAX_MB', 'CLOUDCOVER_AVG_PERCENT', 'MONTH', 'WEEKDAY',\n",
              "       'WEEK'],\n",
              "      dtype='object')"
            ]
          },
          "metadata": {},
          "execution_count": 47
        }
      ]
    },
    {
      "cell_type": "code",
      "source": [
        "# train test split for item A (selected the sames columns than df_meteo_juin)\n",
        "X=df_bordeaux_A[['MAX_TEMPERATURE_C', 'MIN_TEMPERATURE_C', 'WINDSPEED_MAX_KMH',\n",
        "       'PRECIP_TOTAL_DAY_MM', 'HUMIDITY_MAX_PERCENT', 'VISIBILITY_AVG_KM',\n",
        "       'PRESSURE_MAX_MB', 'CLOUDCOVER_AVG_PERCENT','WEEKDAY','MONTH','WEEK']]\n",
        "y=df_bordeaux_A['SALES']"
      ],
      "metadata": {
        "id": "x_-Gz93YEtQa"
      },
      "execution_count": null,
      "outputs": []
    },
    {
      "cell_type": "code",
      "source": [
        "X_train,X_test,y_train,y_test= train_test_split(X,y,random_state=42)"
      ],
      "metadata": {
        "id": "fz4uLioIQOWp"
      },
      "execution_count": null,
      "outputs": []
    },
    {
      "cell_type": "code",
      "source": [
        "X_train"
      ],
      "metadata": {
        "colab": {
          "base_uri": "https://localhost:8080/",
          "height": 423
        },
        "id": "GKZBo4_I9T2g",
        "outputId": "51b1c868-edcd-44c3-de05-5a03769bc763"
      },
      "execution_count": null,
      "outputs": [
        {
          "output_type": "execute_result",
          "data": {
            "text/plain": [
              "     MAX_TEMPERATURE_C  MIN_TEMPERATURE_C  WINDSPEED_MAX_KMH  \\\n",
              "229                 10                  7                  8   \n",
              "246                 10                  9                 26   \n",
              "115                 17                 14                 21   \n",
              "109                 29                 25                 14   \n",
              "111                 20                 16                 15   \n",
              "..                 ...                ...                ...   \n",
              "20                   9                  6                 15   \n",
              "188                 28                 21                 15   \n",
              "71                  16                 11                 14   \n",
              "106                 24                 18                  8   \n",
              "102                 22                 17                 19   \n",
              "\n",
              "     PRECIP_TOTAL_DAY_MM  HUMIDITY_MAX_PERCENT  VISIBILITY_AVG_KM  \\\n",
              "229                  0.0                    85             10.000   \n",
              "246                 18.3                    93              7.750   \n",
              "115                 15.2                    84             14.500   \n",
              "109                  0.0                    54             10.000   \n",
              "111                  0.5                    68             10.000   \n",
              "..                   ...                   ...                ...   \n",
              "20                   4.1                    78             10.000   \n",
              "188                  4.0                    73              9.500   \n",
              "71                   3.8                    79              7.000   \n",
              "106                  0.0                    69              9.000   \n",
              "102                  1.7                    75              9.875   \n",
              "\n",
              "     PRESSURE_MAX_MB  CLOUDCOVER_AVG_PERCENT  WEEKDAY  MONTH  WEEK  \n",
              "229             1010                  85.125        7     11    46  \n",
              "246             1017                  96.000        4     12    50  \n",
              "115             1014                  76.625        3      6    24  \n",
              "109             1017                   6.875        7      6    22  \n",
              "111             1015                  72.125        4      6    23  \n",
              "..               ...                     ...      ...    ...   ...  \n",
              "20              1008                  87.000        3      1     5  \n",
              "188             1012                  64.750        6      9    38  \n",
              "71              1021                  59.125        4      4    15  \n",
              "106             1029                  40.375        4      5    22  \n",
              "102             1019                  58.500        5      5    21  \n",
              "\n",
              "[195 rows x 11 columns]"
            ],
            "text/html": [
              "\n",
              "  <div id=\"df-506b5210-3539-4bf9-adc4-061d07730092\">\n",
              "    <div class=\"colab-df-container\">\n",
              "      <div>\n",
              "<style scoped>\n",
              "    .dataframe tbody tr th:only-of-type {\n",
              "        vertical-align: middle;\n",
              "    }\n",
              "\n",
              "    .dataframe tbody tr th {\n",
              "        vertical-align: top;\n",
              "    }\n",
              "\n",
              "    .dataframe thead th {\n",
              "        text-align: right;\n",
              "    }\n",
              "</style>\n",
              "<table border=\"1\" class=\"dataframe\">\n",
              "  <thead>\n",
              "    <tr style=\"text-align: right;\">\n",
              "      <th></th>\n",
              "      <th>MAX_TEMPERATURE_C</th>\n",
              "      <th>MIN_TEMPERATURE_C</th>\n",
              "      <th>WINDSPEED_MAX_KMH</th>\n",
              "      <th>PRECIP_TOTAL_DAY_MM</th>\n",
              "      <th>HUMIDITY_MAX_PERCENT</th>\n",
              "      <th>VISIBILITY_AVG_KM</th>\n",
              "      <th>PRESSURE_MAX_MB</th>\n",
              "      <th>CLOUDCOVER_AVG_PERCENT</th>\n",
              "      <th>WEEKDAY</th>\n",
              "      <th>MONTH</th>\n",
              "      <th>WEEK</th>\n",
              "    </tr>\n",
              "  </thead>\n",
              "  <tbody>\n",
              "    <tr>\n",
              "      <th>229</th>\n",
              "      <td>10</td>\n",
              "      <td>7</td>\n",
              "      <td>8</td>\n",
              "      <td>0.0</td>\n",
              "      <td>85</td>\n",
              "      <td>10.000</td>\n",
              "      <td>1010</td>\n",
              "      <td>85.125</td>\n",
              "      <td>7</td>\n",
              "      <td>11</td>\n",
              "      <td>46</td>\n",
              "    </tr>\n",
              "    <tr>\n",
              "      <th>246</th>\n",
              "      <td>10</td>\n",
              "      <td>9</td>\n",
              "      <td>26</td>\n",
              "      <td>18.3</td>\n",
              "      <td>93</td>\n",
              "      <td>7.750</td>\n",
              "      <td>1017</td>\n",
              "      <td>96.000</td>\n",
              "      <td>4</td>\n",
              "      <td>12</td>\n",
              "      <td>50</td>\n",
              "    </tr>\n",
              "    <tr>\n",
              "      <th>115</th>\n",
              "      <td>17</td>\n",
              "      <td>14</td>\n",
              "      <td>21</td>\n",
              "      <td>15.2</td>\n",
              "      <td>84</td>\n",
              "      <td>14.500</td>\n",
              "      <td>1014</td>\n",
              "      <td>76.625</td>\n",
              "      <td>3</td>\n",
              "      <td>6</td>\n",
              "      <td>24</td>\n",
              "    </tr>\n",
              "    <tr>\n",
              "      <th>109</th>\n",
              "      <td>29</td>\n",
              "      <td>25</td>\n",
              "      <td>14</td>\n",
              "      <td>0.0</td>\n",
              "      <td>54</td>\n",
              "      <td>10.000</td>\n",
              "      <td>1017</td>\n",
              "      <td>6.875</td>\n",
              "      <td>7</td>\n",
              "      <td>6</td>\n",
              "      <td>22</td>\n",
              "    </tr>\n",
              "    <tr>\n",
              "      <th>111</th>\n",
              "      <td>20</td>\n",
              "      <td>16</td>\n",
              "      <td>15</td>\n",
              "      <td>0.5</td>\n",
              "      <td>68</td>\n",
              "      <td>10.000</td>\n",
              "      <td>1015</td>\n",
              "      <td>72.125</td>\n",
              "      <td>4</td>\n",
              "      <td>6</td>\n",
              "      <td>23</td>\n",
              "    </tr>\n",
              "    <tr>\n",
              "      <th>...</th>\n",
              "      <td>...</td>\n",
              "      <td>...</td>\n",
              "      <td>...</td>\n",
              "      <td>...</td>\n",
              "      <td>...</td>\n",
              "      <td>...</td>\n",
              "      <td>...</td>\n",
              "      <td>...</td>\n",
              "      <td>...</td>\n",
              "      <td>...</td>\n",
              "      <td>...</td>\n",
              "    </tr>\n",
              "    <tr>\n",
              "      <th>20</th>\n",
              "      <td>9</td>\n",
              "      <td>6</td>\n",
              "      <td>15</td>\n",
              "      <td>4.1</td>\n",
              "      <td>78</td>\n",
              "      <td>10.000</td>\n",
              "      <td>1008</td>\n",
              "      <td>87.000</td>\n",
              "      <td>3</td>\n",
              "      <td>1</td>\n",
              "      <td>5</td>\n",
              "    </tr>\n",
              "    <tr>\n",
              "      <th>188</th>\n",
              "      <td>28</td>\n",
              "      <td>21</td>\n",
              "      <td>15</td>\n",
              "      <td>4.0</td>\n",
              "      <td>73</td>\n",
              "      <td>9.500</td>\n",
              "      <td>1012</td>\n",
              "      <td>64.750</td>\n",
              "      <td>6</td>\n",
              "      <td>9</td>\n",
              "      <td>38</td>\n",
              "    </tr>\n",
              "    <tr>\n",
              "      <th>71</th>\n",
              "      <td>16</td>\n",
              "      <td>11</td>\n",
              "      <td>14</td>\n",
              "      <td>3.8</td>\n",
              "      <td>79</td>\n",
              "      <td>7.000</td>\n",
              "      <td>1021</td>\n",
              "      <td>59.125</td>\n",
              "      <td>4</td>\n",
              "      <td>4</td>\n",
              "      <td>15</td>\n",
              "    </tr>\n",
              "    <tr>\n",
              "      <th>106</th>\n",
              "      <td>24</td>\n",
              "      <td>18</td>\n",
              "      <td>8</td>\n",
              "      <td>0.0</td>\n",
              "      <td>69</td>\n",
              "      <td>9.000</td>\n",
              "      <td>1029</td>\n",
              "      <td>40.375</td>\n",
              "      <td>4</td>\n",
              "      <td>5</td>\n",
              "      <td>22</td>\n",
              "    </tr>\n",
              "    <tr>\n",
              "      <th>102</th>\n",
              "      <td>22</td>\n",
              "      <td>17</td>\n",
              "      <td>19</td>\n",
              "      <td>1.7</td>\n",
              "      <td>75</td>\n",
              "      <td>9.875</td>\n",
              "      <td>1019</td>\n",
              "      <td>58.500</td>\n",
              "      <td>5</td>\n",
              "      <td>5</td>\n",
              "      <td>21</td>\n",
              "    </tr>\n",
              "  </tbody>\n",
              "</table>\n",
              "<p>195 rows × 11 columns</p>\n",
              "</div>\n",
              "      <button class=\"colab-df-convert\" onclick=\"convertToInteractive('df-506b5210-3539-4bf9-adc4-061d07730092')\"\n",
              "              title=\"Convert this dataframe to an interactive table.\"\n",
              "              style=\"display:none;\">\n",
              "        \n",
              "  <svg xmlns=\"http://www.w3.org/2000/svg\" height=\"24px\"viewBox=\"0 0 24 24\"\n",
              "       width=\"24px\">\n",
              "    <path d=\"M0 0h24v24H0V0z\" fill=\"none\"/>\n",
              "    <path d=\"M18.56 5.44l.94 2.06.94-2.06 2.06-.94-2.06-.94-.94-2.06-.94 2.06-2.06.94zm-11 1L8.5 8.5l.94-2.06 2.06-.94-2.06-.94L8.5 2.5l-.94 2.06-2.06.94zm10 10l.94 2.06.94-2.06 2.06-.94-2.06-.94-.94-2.06-.94 2.06-2.06.94z\"/><path d=\"M17.41 7.96l-1.37-1.37c-.4-.4-.92-.59-1.43-.59-.52 0-1.04.2-1.43.59L10.3 9.45l-7.72 7.72c-.78.78-.78 2.05 0 2.83L4 21.41c.39.39.9.59 1.41.59.51 0 1.02-.2 1.41-.59l7.78-7.78 2.81-2.81c.8-.78.8-2.07 0-2.86zM5.41 20L4 18.59l7.72-7.72 1.47 1.35L5.41 20z\"/>\n",
              "  </svg>\n",
              "      </button>\n",
              "      \n",
              "  <style>\n",
              "    .colab-df-container {\n",
              "      display:flex;\n",
              "      flex-wrap:wrap;\n",
              "      gap: 12px;\n",
              "    }\n",
              "\n",
              "    .colab-df-convert {\n",
              "      background-color: #E8F0FE;\n",
              "      border: none;\n",
              "      border-radius: 50%;\n",
              "      cursor: pointer;\n",
              "      display: none;\n",
              "      fill: #1967D2;\n",
              "      height: 32px;\n",
              "      padding: 0 0 0 0;\n",
              "      width: 32px;\n",
              "    }\n",
              "\n",
              "    .colab-df-convert:hover {\n",
              "      background-color: #E2EBFA;\n",
              "      box-shadow: 0px 1px 2px rgba(60, 64, 67, 0.3), 0px 1px 3px 1px rgba(60, 64, 67, 0.15);\n",
              "      fill: #174EA6;\n",
              "    }\n",
              "\n",
              "    [theme=dark] .colab-df-convert {\n",
              "      background-color: #3B4455;\n",
              "      fill: #D2E3FC;\n",
              "    }\n",
              "\n",
              "    [theme=dark] .colab-df-convert:hover {\n",
              "      background-color: #434B5C;\n",
              "      box-shadow: 0px 1px 3px 1px rgba(0, 0, 0, 0.15);\n",
              "      filter: drop-shadow(0px 1px 2px rgba(0, 0, 0, 0.3));\n",
              "      fill: #FFFFFF;\n",
              "    }\n",
              "  </style>\n",
              "\n",
              "      <script>\n",
              "        const buttonEl =\n",
              "          document.querySelector('#df-506b5210-3539-4bf9-adc4-061d07730092 button.colab-df-convert');\n",
              "        buttonEl.style.display =\n",
              "          google.colab.kernel.accessAllowed ? 'block' : 'none';\n",
              "\n",
              "        async function convertToInteractive(key) {\n",
              "          const element = document.querySelector('#df-506b5210-3539-4bf9-adc4-061d07730092');\n",
              "          const dataTable =\n",
              "            await google.colab.kernel.invokeFunction('convertToInteractive',\n",
              "                                                     [key], {});\n",
              "          if (!dataTable) return;\n",
              "\n",
              "          const docLinkHtml = 'Like what you see? Visit the ' +\n",
              "            '<a target=\"_blank\" href=https://colab.research.google.com/notebooks/data_table.ipynb>data table notebook</a>'\n",
              "            + ' to learn more about interactive tables.';\n",
              "          element.innerHTML = '';\n",
              "          dataTable['output_type'] = 'display_data';\n",
              "          await google.colab.output.renderOutput(dataTable, element);\n",
              "          const docLink = document.createElement('div');\n",
              "          docLink.innerHTML = docLinkHtml;\n",
              "          element.appendChild(docLink);\n",
              "        }\n",
              "      </script>\n",
              "    </div>\n",
              "  </div>\n",
              "  "
            ]
          },
          "metadata": {},
          "execution_count": 50
        }
      ]
    },
    {
      "cell_type": "code",
      "source": [
        "# Try with 3 models: LinearRegression; DecisionTreeRegressor; RandomForestRegressor\n",
        "modelLR = LinearRegression().fit(X_train,y_train)\n",
        "modelDTR = DecisionTreeRegressor(max_depth = 4).fit(X_train, y_train)  \n",
        "modelRFR = RandomForestRegressor(max_depth = 4).fit(X_train,y_train)\n",
        "\n",
        "print(\"\\nLR score train = \",modelLR.score(X_train,y_train))\n",
        "print(\"LR score test = \",modelLR.score(X_test,y_test))\n",
        "print(\"\\nDTR score train = \",modelDTR.score(X_train,y_train))\n",
        "print(\"DTR score test = \",modelDTR.score(X_test,y_test))\n",
        "print(\"\\nRFR score train = \",modelRFR.score(X_train,y_train))\n",
        "print(\"RFR score test = \",modelRFR.score(X_test,y_test))"
      ],
      "metadata": {
        "colab": {
          "base_uri": "https://localhost:8080/"
        },
        "id": "pfZqZeaNQbDo",
        "outputId": "144edd34-bb5f-4330-d412-9c79820b2a5a"
      },
      "execution_count": null,
      "outputs": [
        {
          "output_type": "stream",
          "name": "stdout",
          "text": [
            "\n",
            "LR score train =  0.8778914874923884\n",
            "LR score test =  0.8318442025330535\n",
            "\n",
            "DTR score train =  0.9684775564484217\n",
            "DTR score test =  0.9421600290684466\n",
            "\n",
            "RFR score train =  0.9853432652478764\n",
            "RFR score test =  0.9725765436447503\n"
          ]
        }
      ]
    },
    {
      "cell_type": "code",
      "source": [
        "# Standardisation (it's no difference after standardization)\n",
        "scaler = StandardScaler().fit(X_train)\n",
        "\n",
        "X_train_scaled = scaler.transform(X_train)\n",
        "X_test_scaled = scaler.transform(X_test)\n",
        "\n",
        "modelLR = LinearRegression().fit(X_train_scaled,y_train)\n",
        "modelDTR = DecisionTreeRegressor(max_depth = 4).fit(X_train_scaled, y_train)\n",
        "modelRF = RandomForestRegressor(max_depth = 4).fit(X_train_scaled,y_train)\n",
        "\n",
        "print(\"Linear Regression:\",modelLR.score(X_train_scaled, y_train), modelLR.score(X_test_scaled, y_test))\n",
        "print(\"Decision Tree Regression:\",modelDTR.score(X_train_scaled, y_train), modelDTR.score(X_test_scaled, y_test))\n",
        "print(\"Random Forest Regression:\",modelRF.score(X_train_scaled, y_train), modelRF.score(X_test_scaled, y_test))"
      ],
      "metadata": {
        "colab": {
          "base_uri": "https://localhost:8080/"
        },
        "id": "y_oQ5Atav0ox",
        "outputId": "75a76772-0efc-406e-a47d-4af930db9f0e"
      },
      "execution_count": null,
      "outputs": [
        {
          "output_type": "stream",
          "name": "stdout",
          "text": [
            "Linear Regression: 0.8778914874923884 0.8318442025330537\n",
            "Decision Tree Regression: 0.9684775564484217 0.9183394322835214\n",
            "Random Forest Regression: 0.9857077859639933 0.9703902155152462\n"
          ]
        }
      ]
    },
    {
      "cell_type": "code",
      "source": [
        "cross_val_score(LinearRegression(), \n",
        "                X, y, \n",
        "                cv = 6 )"
      ],
      "metadata": {
        "colab": {
          "base_uri": "https://localhost:8080/"
        },
        "id": "-7jXsjbk2J8u",
        "outputId": "16cde138-4b2d-44e4-bdd6-575576081c82"
      },
      "execution_count": null,
      "outputs": [
        {
          "output_type": "execute_result",
          "data": {
            "text/plain": [
              "array([0.28076009, 0.68066444, 0.86263189, 0.5132683 , 0.86305571,\n",
              "       0.67673222])"
            ]
          },
          "metadata": {},
          "execution_count": 53
        }
      ]
    },
    {
      "cell_type": "code",
      "source": [
        "cross_val_score(DecisionTreeRegressor(max_depth = 4), X, y, cv=6)"
      ],
      "metadata": {
        "colab": {
          "base_uri": "https://localhost:8080/"
        },
        "id": "MO69P4bV2apP",
        "outputId": "1b8ee0e0-9673-46ff-afb4-6e0bc83923fb"
      },
      "execution_count": null,
      "outputs": [
        {
          "output_type": "execute_result",
          "data": {
            "text/plain": [
              "array([0.47071096, 0.89280658, 0.91502767, 0.89088348, 0.88554212,\n",
              "       0.72557371])"
            ]
          },
          "metadata": {},
          "execution_count": 54
        }
      ]
    },
    {
      "cell_type": "code",
      "source": [
        "cross_val_score(RandomForestRegressor(max_depth = 4), X, y, cv=6)"
      ],
      "metadata": {
        "colab": {
          "base_uri": "https://localhost:8080/"
        },
        "id": "HkUCQFjT2lFa",
        "outputId": "0313244a-7326-401f-a1b0-89fdb77d204f"
      },
      "execution_count": null,
      "outputs": [
        {
          "output_type": "execute_result",
          "data": {
            "text/plain": [
              "array([0.41981006, 0.97973512, 0.98197183, 0.93756649, 0.96610588,\n",
              "       0.82883984])"
            ]
          },
          "metadata": {},
          "execution_count": 55
        }
      ]
    },
    {
      "cell_type": "code",
      "source": [
        "moyen_LR =  np.array([0.46254754, 0.76521568, 0.88568647, 0.66553612, 0.90128146,\n",
        "       0.79273953])\n",
        "moyen_LR.mean(), np.std(moyen_LR, 0)"
      ],
      "metadata": {
        "colab": {
          "base_uri": "https://localhost:8080/"
        },
        "id": "R-wgT_Ne20bl",
        "outputId": "e51d8b5a-1138-4499-d710-3081aed1f517"
      },
      "execution_count": null,
      "outputs": [
        {
          "output_type": "execute_result",
          "data": {
            "text/plain": [
              "(0.7455011333333333, 0.14888290007042176)"
            ]
          },
          "metadata": {},
          "execution_count": 56
        }
      ]
    },
    {
      "cell_type": "code",
      "source": [
        "moyen_DTR =  np.array([0.3585758 , 0.90449482, 0.66618211, 0.80968637, 0.79521088,\n",
        "       0.71416058])\n",
        "moyen_DTR.mean(), np.std(moyen_DTR, 0)"
      ],
      "metadata": {
        "colab": {
          "base_uri": "https://localhost:8080/"
        },
        "id": "XoXEInM33Kt_",
        "outputId": "4497c0b2-18d5-4a03-8b0c-c1ce0ee1e6d9"
      },
      "execution_count": null,
      "outputs": [
        {
          "output_type": "execute_result",
          "data": {
            "text/plain": [
              "(0.70805176, 0.17341665330547437)"
            ]
          },
          "metadata": {},
          "execution_count": 57
        }
      ]
    },
    {
      "cell_type": "code",
      "source": [
        "moyen_RFR =  np.array([0.39333476, 0.95024563, 0.93062155, 0.92252077, 0.90711803,\n",
        "       0.81284061])\n",
        "moyen_RFR.mean(), np.std(moyen_RFR, 0)"
      ],
      "metadata": {
        "colab": {
          "base_uri": "https://localhost:8080/"
        },
        "id": "w3nnO6LZ3NHC",
        "outputId": "7a5a0b17-b70d-4e90-bff6-419a46db16aa"
      },
      "execution_count": null,
      "outputs": [
        {
          "output_type": "execute_result",
          "data": {
            "text/plain": [
              "(0.8194468916666668, 0.19553079860021733)"
            ]
          },
          "metadata": {},
          "execution_count": 58
        }
      ]
    },
    {
      "cell_type": "code",
      "source": [
        "# Sales are affected by seasonality, so it is normal that the score of CV is not good."
      ],
      "metadata": {
        "id": "gkC1cxG6J6MV"
      },
      "execution_count": null,
      "outputs": []
    },
    {
      "cell_type": "code",
      "source": [
        "# Méthode RandomizedSearch CV for DTR\n",
        "dico = {'max_depth' : range(1,11), \n",
        "        'min_samples_leaf' : range(1,11),\n",
        "        'min_samples_split' : [2, 5, 7, 10, 15, 30]}\n",
        "\n",
        "rando = RandomizedSearchCV(DecisionTreeRegressor(max_depth = 4), dico , n_iter=100)\n",
        "rando.fit(X,y)"
      ],
      "metadata": {
        "colab": {
          "base_uri": "https://localhost:8080/"
        },
        "id": "5W46Rk_I7Owd",
        "outputId": "9fb01d9f-b759-4dec-8019-4ebcb74c9b05"
      },
      "execution_count": null,
      "outputs": [
        {
          "output_type": "execute_result",
          "data": {
            "text/plain": [
              "RandomizedSearchCV(estimator=DecisionTreeRegressor(max_depth=4), n_iter=100,\n",
              "                   param_distributions={'max_depth': range(1, 11),\n",
              "                                        'min_samples_leaf': range(1, 11),\n",
              "                                        'min_samples_split': [2, 5, 7, 10, 15,\n",
              "                                                              30]})"
            ]
          },
          "metadata": {},
          "execution_count": 60
        }
      ]
    },
    {
      "cell_type": "code",
      "source": [
        "print(\"best score:\",rando.best_score_)\n",
        "print(\"best parameters:\",rando.best_params_)\n",
        "print(\"best estimator:\",rando.best_estimator_)"
      ],
      "metadata": {
        "colab": {
          "base_uri": "https://localhost:8080/"
        },
        "id": "_YlXnD-S7lZv",
        "outputId": "73d95c31-070e-4fbd-a523-1f3dfd053b05"
      },
      "execution_count": null,
      "outputs": [
        {
          "output_type": "stream",
          "name": "stdout",
          "text": [
            "best score: 0.8557379657325492\n",
            "best parameters: {'min_samples_split': 5, 'min_samples_leaf': 3, 'max_depth': 6}\n",
            "best estimator: DecisionTreeRegressor(max_depth=6, min_samples_leaf=3, min_samples_split=5)\n"
          ]
        }
      ]
    },
    {
      "cell_type": "code",
      "source": [
        "# Méthode RandomizedSearch CV for RFR\n",
        "dico = {'max_depth' : range(1,11), \n",
        "        'min_samples_leaf' : range(1,11),\n",
        "        'min_samples_split' : [2, 5, 7, 10, 15, 30]}\n",
        "\n",
        "rando = RandomizedSearchCV(RandomForestRegressor(), dico , n_iter=100)\n",
        "rando.fit(X,y)"
      ],
      "metadata": {
        "colab": {
          "base_uri": "https://localhost:8080/"
        },
        "id": "9SVWVZD37rBO",
        "outputId": "b9231043-76a7-4407-9493-f0c5409c142a"
      },
      "execution_count": null,
      "outputs": [
        {
          "output_type": "execute_result",
          "data": {
            "text/plain": [
              "RandomizedSearchCV(estimator=RandomForestRegressor(), n_iter=100,\n",
              "                   param_distributions={'max_depth': range(1, 11),\n",
              "                                        'min_samples_leaf': range(1, 11),\n",
              "                                        'min_samples_split': [2, 5, 7, 10, 15,\n",
              "                                                              30]})"
            ]
          },
          "metadata": {},
          "execution_count": 62
        }
      ]
    },
    {
      "cell_type": "code",
      "source": [
        "print(\"best score:\",rando.best_score_)\n",
        "print(\"best parameters:\",rando.best_params_)\n",
        "print(\"best estimator:\",rando.best_estimator_)"
      ],
      "metadata": {
        "colab": {
          "base_uri": "https://localhost:8080/"
        },
        "id": "cauim9b371rA",
        "outputId": "275fd312-6e95-41bb-e631-2a5f438804f6"
      },
      "execution_count": null,
      "outputs": [
        {
          "output_type": "stream",
          "name": "stdout",
          "text": [
            "best score: 0.8742385609277088\n",
            "best parameters: {'min_samples_split': 2, 'min_samples_leaf': 2, 'max_depth': 9}\n",
            "best estimator: RandomForestRegressor(max_depth=9, min_samples_leaf=2)\n"
          ]
        }
      ]
    },
    {
      "cell_type": "code",
      "source": [
        "# I choose model Random Forest regression for the sales prediction (item A), because it is the best in comparison\n",
        "df_bordeaux_A['PREDICT']=modelRFR.predict(X)\n",
        "df_bordeaux_A"
      ],
      "metadata": {
        "colab": {
          "base_uri": "https://localhost:8080/",
          "height": 770
        },
        "id": "OsrJyJCnp-xh",
        "outputId": "ea10be02-45fe-4e99-c8af-dced55e5f9a8"
      },
      "execution_count": null,
      "outputs": [
        {
          "output_type": "stream",
          "name": "stderr",
          "text": [
            "<ipython-input-64-69a70e00758f>:2: SettingWithCopyWarning: \n",
            "A value is trying to be set on a copy of a slice from a DataFrame.\n",
            "Try using .loc[row_indexer,col_indexer] = value instead\n",
            "\n",
            "See the caveats in the documentation: https://pandas.pydata.org/pandas-docs/stable/user_guide/indexing.html#returning-a-view-versus-a-copy\n",
            "  df_bordeaux_A['PREDICT']=modelRFR.predict(X)\n"
          ]
        },
        {
          "output_type": "execute_result",
          "data": {
            "text/plain": [
              "          DATE ITEM  SALES  MONTH  WEEKDAY  WEEK  MAX_TEMPERATURE_C  \\\n",
              "0   2019-01-02    A    113      1        3     1                  9   \n",
              "1   2019-01-03    A    143      1        4     1                  7   \n",
              "2   2019-01-04    A    145      1        5     1                  7   \n",
              "3   2019-01-05    A    167      1        6     1                  6   \n",
              "4   2019-01-06    A    202      1        7     1                  5   \n",
              "..         ...  ...    ...    ...      ...   ...                ...   \n",
              "255 2019-12-25    A     76     12        3    52                 13   \n",
              "256 2019-12-26    A     82     12        4    52                 13   \n",
              "257 2019-12-27    A     76     12        5    52                 13   \n",
              "258 2019-12-28    A    101     12        6    52                 10   \n",
              "259 2019-12-29    A    101     12        7    52                 10   \n",
              "\n",
              "     MIN_TEMPERATURE_C  WINDSPEED_MAX_KMH  TEMPERATURE_MORNING_C  ...  \\\n",
              "0                    4                 14                      5  ...   \n",
              "1                    2                 15                      1  ...   \n",
              "2                    1                 13                      0  ...   \n",
              "3                    1                  9                      0  ...   \n",
              "4                    0                 10                     -1  ...   \n",
              "..                 ...                ...                    ...  ...   \n",
              "255                 11                 10                     11  ...   \n",
              "256                 11                 14                     11  ...   \n",
              "257                  9                  7                      8  ...   \n",
              "258                  7                 10                      8  ...   \n",
              "259                  5                  8                      6  ...   \n",
              "\n",
              "     DEWPOINT_MAX_C  WINDTEMP_MAX_C  WEATHER_CODE_MORNING  WEATHER_CODE_NOON  \\\n",
              "0                 3               2                   122                116   \n",
              "1                 0              -2                   116                116   \n",
              "2                 0              -3                   113                116   \n",
              "3                 0              -1                   116                116   \n",
              "4                 0              -2                   143                116   \n",
              "..              ...             ...                   ...                ...   \n",
              "255              11              10                   143                143   \n",
              "256               9              10                   119                116   \n",
              "257               9               8                   116                116   \n",
              "258               8               6                   143                116   \n",
              "259               6               4                   116                116   \n",
              "\n",
              "     WEATHER_CODE_EVENING  UV_INDEX  SUNHOUR                 OPINION  \\\n",
              "0                     116         1      8.7  météo très défavorable   \n",
              "1                     116         1      8.7  météo très défavorable   \n",
              "2                     122         1      5.1  météo très défavorable   \n",
              "3                     116         1      8.7  météo très défavorable   \n",
              "4                     116         1      8.7  météo très défavorable   \n",
              "..                    ...       ...      ...                     ...   \n",
              "255                   116         1      8.7          météo correcte   \n",
              "256                   176         1      6.9          météo correcte   \n",
              "257                   116         1      8.7          météo correcte   \n",
              "258                   122         1      6.9       météo défavorable   \n",
              "259                   122         1      6.9  météo très défavorable   \n",
              "\n",
              "     OPINION_fac     PREDICT  \n",
              "0              0  108.610552  \n",
              "1              0  148.796350  \n",
              "2              0  147.913350  \n",
              "3              0  167.996905  \n",
              "4              0  176.573496  \n",
              "..           ...         ...  \n",
              "255            2   84.304078  \n",
              "256            2   84.927104  \n",
              "257            2   83.414307  \n",
              "258            1   92.550886  \n",
              "259            0   92.170265  \n",
              "\n",
              "[260 rows x 28 columns]"
            ],
            "text/html": [
              "\n",
              "  <div id=\"df-d1a35051-3c04-4e6b-8510-cf2040ba3925\">\n",
              "    <div class=\"colab-df-container\">\n",
              "      <div>\n",
              "<style scoped>\n",
              "    .dataframe tbody tr th:only-of-type {\n",
              "        vertical-align: middle;\n",
              "    }\n",
              "\n",
              "    .dataframe tbody tr th {\n",
              "        vertical-align: top;\n",
              "    }\n",
              "\n",
              "    .dataframe thead th {\n",
              "        text-align: right;\n",
              "    }\n",
              "</style>\n",
              "<table border=\"1\" class=\"dataframe\">\n",
              "  <thead>\n",
              "    <tr style=\"text-align: right;\">\n",
              "      <th></th>\n",
              "      <th>DATE</th>\n",
              "      <th>ITEM</th>\n",
              "      <th>SALES</th>\n",
              "      <th>MONTH</th>\n",
              "      <th>WEEKDAY</th>\n",
              "      <th>WEEK</th>\n",
              "      <th>MAX_TEMPERATURE_C</th>\n",
              "      <th>MIN_TEMPERATURE_C</th>\n",
              "      <th>WINDSPEED_MAX_KMH</th>\n",
              "      <th>TEMPERATURE_MORNING_C</th>\n",
              "      <th>...</th>\n",
              "      <th>DEWPOINT_MAX_C</th>\n",
              "      <th>WINDTEMP_MAX_C</th>\n",
              "      <th>WEATHER_CODE_MORNING</th>\n",
              "      <th>WEATHER_CODE_NOON</th>\n",
              "      <th>WEATHER_CODE_EVENING</th>\n",
              "      <th>UV_INDEX</th>\n",
              "      <th>SUNHOUR</th>\n",
              "      <th>OPINION</th>\n",
              "      <th>OPINION_fac</th>\n",
              "      <th>PREDICT</th>\n",
              "    </tr>\n",
              "  </thead>\n",
              "  <tbody>\n",
              "    <tr>\n",
              "      <th>0</th>\n",
              "      <td>2019-01-02</td>\n",
              "      <td>A</td>\n",
              "      <td>113</td>\n",
              "      <td>1</td>\n",
              "      <td>3</td>\n",
              "      <td>1</td>\n",
              "      <td>9</td>\n",
              "      <td>4</td>\n",
              "      <td>14</td>\n",
              "      <td>5</td>\n",
              "      <td>...</td>\n",
              "      <td>3</td>\n",
              "      <td>2</td>\n",
              "      <td>122</td>\n",
              "      <td>116</td>\n",
              "      <td>116</td>\n",
              "      <td>1</td>\n",
              "      <td>8.7</td>\n",
              "      <td>météo très défavorable</td>\n",
              "      <td>0</td>\n",
              "      <td>108.610552</td>\n",
              "    </tr>\n",
              "    <tr>\n",
              "      <th>1</th>\n",
              "      <td>2019-01-03</td>\n",
              "      <td>A</td>\n",
              "      <td>143</td>\n",
              "      <td>1</td>\n",
              "      <td>4</td>\n",
              "      <td>1</td>\n",
              "      <td>7</td>\n",
              "      <td>2</td>\n",
              "      <td>15</td>\n",
              "      <td>1</td>\n",
              "      <td>...</td>\n",
              "      <td>0</td>\n",
              "      <td>-2</td>\n",
              "      <td>116</td>\n",
              "      <td>116</td>\n",
              "      <td>116</td>\n",
              "      <td>1</td>\n",
              "      <td>8.7</td>\n",
              "      <td>météo très défavorable</td>\n",
              "      <td>0</td>\n",
              "      <td>148.796350</td>\n",
              "    </tr>\n",
              "    <tr>\n",
              "      <th>2</th>\n",
              "      <td>2019-01-04</td>\n",
              "      <td>A</td>\n",
              "      <td>145</td>\n",
              "      <td>1</td>\n",
              "      <td>5</td>\n",
              "      <td>1</td>\n",
              "      <td>7</td>\n",
              "      <td>1</td>\n",
              "      <td>13</td>\n",
              "      <td>0</td>\n",
              "      <td>...</td>\n",
              "      <td>0</td>\n",
              "      <td>-3</td>\n",
              "      <td>113</td>\n",
              "      <td>116</td>\n",
              "      <td>122</td>\n",
              "      <td>1</td>\n",
              "      <td>5.1</td>\n",
              "      <td>météo très défavorable</td>\n",
              "      <td>0</td>\n",
              "      <td>147.913350</td>\n",
              "    </tr>\n",
              "    <tr>\n",
              "      <th>3</th>\n",
              "      <td>2019-01-05</td>\n",
              "      <td>A</td>\n",
              "      <td>167</td>\n",
              "      <td>1</td>\n",
              "      <td>6</td>\n",
              "      <td>1</td>\n",
              "      <td>6</td>\n",
              "      <td>1</td>\n",
              "      <td>9</td>\n",
              "      <td>0</td>\n",
              "      <td>...</td>\n",
              "      <td>0</td>\n",
              "      <td>-1</td>\n",
              "      <td>116</td>\n",
              "      <td>116</td>\n",
              "      <td>116</td>\n",
              "      <td>1</td>\n",
              "      <td>8.7</td>\n",
              "      <td>météo très défavorable</td>\n",
              "      <td>0</td>\n",
              "      <td>167.996905</td>\n",
              "    </tr>\n",
              "    <tr>\n",
              "      <th>4</th>\n",
              "      <td>2019-01-06</td>\n",
              "      <td>A</td>\n",
              "      <td>202</td>\n",
              "      <td>1</td>\n",
              "      <td>7</td>\n",
              "      <td>1</td>\n",
              "      <td>5</td>\n",
              "      <td>0</td>\n",
              "      <td>10</td>\n",
              "      <td>-1</td>\n",
              "      <td>...</td>\n",
              "      <td>0</td>\n",
              "      <td>-2</td>\n",
              "      <td>143</td>\n",
              "      <td>116</td>\n",
              "      <td>116</td>\n",
              "      <td>1</td>\n",
              "      <td>8.7</td>\n",
              "      <td>météo très défavorable</td>\n",
              "      <td>0</td>\n",
              "      <td>176.573496</td>\n",
              "    </tr>\n",
              "    <tr>\n",
              "      <th>...</th>\n",
              "      <td>...</td>\n",
              "      <td>...</td>\n",
              "      <td>...</td>\n",
              "      <td>...</td>\n",
              "      <td>...</td>\n",
              "      <td>...</td>\n",
              "      <td>...</td>\n",
              "      <td>...</td>\n",
              "      <td>...</td>\n",
              "      <td>...</td>\n",
              "      <td>...</td>\n",
              "      <td>...</td>\n",
              "      <td>...</td>\n",
              "      <td>...</td>\n",
              "      <td>...</td>\n",
              "      <td>...</td>\n",
              "      <td>...</td>\n",
              "      <td>...</td>\n",
              "      <td>...</td>\n",
              "      <td>...</td>\n",
              "      <td>...</td>\n",
              "    </tr>\n",
              "    <tr>\n",
              "      <th>255</th>\n",
              "      <td>2019-12-25</td>\n",
              "      <td>A</td>\n",
              "      <td>76</td>\n",
              "      <td>12</td>\n",
              "      <td>3</td>\n",
              "      <td>52</td>\n",
              "      <td>13</td>\n",
              "      <td>11</td>\n",
              "      <td>10</td>\n",
              "      <td>11</td>\n",
              "      <td>...</td>\n",
              "      <td>11</td>\n",
              "      <td>10</td>\n",
              "      <td>143</td>\n",
              "      <td>143</td>\n",
              "      <td>116</td>\n",
              "      <td>1</td>\n",
              "      <td>8.7</td>\n",
              "      <td>météo correcte</td>\n",
              "      <td>2</td>\n",
              "      <td>84.304078</td>\n",
              "    </tr>\n",
              "    <tr>\n",
              "      <th>256</th>\n",
              "      <td>2019-12-26</td>\n",
              "      <td>A</td>\n",
              "      <td>82</td>\n",
              "      <td>12</td>\n",
              "      <td>4</td>\n",
              "      <td>52</td>\n",
              "      <td>13</td>\n",
              "      <td>11</td>\n",
              "      <td>14</td>\n",
              "      <td>11</td>\n",
              "      <td>...</td>\n",
              "      <td>9</td>\n",
              "      <td>10</td>\n",
              "      <td>119</td>\n",
              "      <td>116</td>\n",
              "      <td>176</td>\n",
              "      <td>1</td>\n",
              "      <td>6.9</td>\n",
              "      <td>météo correcte</td>\n",
              "      <td>2</td>\n",
              "      <td>84.927104</td>\n",
              "    </tr>\n",
              "    <tr>\n",
              "      <th>257</th>\n",
              "      <td>2019-12-27</td>\n",
              "      <td>A</td>\n",
              "      <td>76</td>\n",
              "      <td>12</td>\n",
              "      <td>5</td>\n",
              "      <td>52</td>\n",
              "      <td>13</td>\n",
              "      <td>9</td>\n",
              "      <td>7</td>\n",
              "      <td>8</td>\n",
              "      <td>...</td>\n",
              "      <td>9</td>\n",
              "      <td>8</td>\n",
              "      <td>116</td>\n",
              "      <td>116</td>\n",
              "      <td>116</td>\n",
              "      <td>1</td>\n",
              "      <td>8.7</td>\n",
              "      <td>météo correcte</td>\n",
              "      <td>2</td>\n",
              "      <td>83.414307</td>\n",
              "    </tr>\n",
              "    <tr>\n",
              "      <th>258</th>\n",
              "      <td>2019-12-28</td>\n",
              "      <td>A</td>\n",
              "      <td>101</td>\n",
              "      <td>12</td>\n",
              "      <td>6</td>\n",
              "      <td>52</td>\n",
              "      <td>10</td>\n",
              "      <td>7</td>\n",
              "      <td>10</td>\n",
              "      <td>8</td>\n",
              "      <td>...</td>\n",
              "      <td>8</td>\n",
              "      <td>6</td>\n",
              "      <td>143</td>\n",
              "      <td>116</td>\n",
              "      <td>122</td>\n",
              "      <td>1</td>\n",
              "      <td>6.9</td>\n",
              "      <td>météo défavorable</td>\n",
              "      <td>1</td>\n",
              "      <td>92.550886</td>\n",
              "    </tr>\n",
              "    <tr>\n",
              "      <th>259</th>\n",
              "      <td>2019-12-29</td>\n",
              "      <td>A</td>\n",
              "      <td>101</td>\n",
              "      <td>12</td>\n",
              "      <td>7</td>\n",
              "      <td>52</td>\n",
              "      <td>10</td>\n",
              "      <td>5</td>\n",
              "      <td>8</td>\n",
              "      <td>6</td>\n",
              "      <td>...</td>\n",
              "      <td>6</td>\n",
              "      <td>4</td>\n",
              "      <td>116</td>\n",
              "      <td>116</td>\n",
              "      <td>122</td>\n",
              "      <td>1</td>\n",
              "      <td>6.9</td>\n",
              "      <td>météo très défavorable</td>\n",
              "      <td>0</td>\n",
              "      <td>92.170265</td>\n",
              "    </tr>\n",
              "  </tbody>\n",
              "</table>\n",
              "<p>260 rows × 28 columns</p>\n",
              "</div>\n",
              "      <button class=\"colab-df-convert\" onclick=\"convertToInteractive('df-d1a35051-3c04-4e6b-8510-cf2040ba3925')\"\n",
              "              title=\"Convert this dataframe to an interactive table.\"\n",
              "              style=\"display:none;\">\n",
              "        \n",
              "  <svg xmlns=\"http://www.w3.org/2000/svg\" height=\"24px\"viewBox=\"0 0 24 24\"\n",
              "       width=\"24px\">\n",
              "    <path d=\"M0 0h24v24H0V0z\" fill=\"none\"/>\n",
              "    <path d=\"M18.56 5.44l.94 2.06.94-2.06 2.06-.94-2.06-.94-.94-2.06-.94 2.06-2.06.94zm-11 1L8.5 8.5l.94-2.06 2.06-.94-2.06-.94L8.5 2.5l-.94 2.06-2.06.94zm10 10l.94 2.06.94-2.06 2.06-.94-2.06-.94-.94-2.06-.94 2.06-2.06.94z\"/><path d=\"M17.41 7.96l-1.37-1.37c-.4-.4-.92-.59-1.43-.59-.52 0-1.04.2-1.43.59L10.3 9.45l-7.72 7.72c-.78.78-.78 2.05 0 2.83L4 21.41c.39.39.9.59 1.41.59.51 0 1.02-.2 1.41-.59l7.78-7.78 2.81-2.81c.8-.78.8-2.07 0-2.86zM5.41 20L4 18.59l7.72-7.72 1.47 1.35L5.41 20z\"/>\n",
              "  </svg>\n",
              "      </button>\n",
              "      \n",
              "  <style>\n",
              "    .colab-df-container {\n",
              "      display:flex;\n",
              "      flex-wrap:wrap;\n",
              "      gap: 12px;\n",
              "    }\n",
              "\n",
              "    .colab-df-convert {\n",
              "      background-color: #E8F0FE;\n",
              "      border: none;\n",
              "      border-radius: 50%;\n",
              "      cursor: pointer;\n",
              "      display: none;\n",
              "      fill: #1967D2;\n",
              "      height: 32px;\n",
              "      padding: 0 0 0 0;\n",
              "      width: 32px;\n",
              "    }\n",
              "\n",
              "    .colab-df-convert:hover {\n",
              "      background-color: #E2EBFA;\n",
              "      box-shadow: 0px 1px 2px rgba(60, 64, 67, 0.3), 0px 1px 3px 1px rgba(60, 64, 67, 0.15);\n",
              "      fill: #174EA6;\n",
              "    }\n",
              "\n",
              "    [theme=dark] .colab-df-convert {\n",
              "      background-color: #3B4455;\n",
              "      fill: #D2E3FC;\n",
              "    }\n",
              "\n",
              "    [theme=dark] .colab-df-convert:hover {\n",
              "      background-color: #434B5C;\n",
              "      box-shadow: 0px 1px 3px 1px rgba(0, 0, 0, 0.15);\n",
              "      filter: drop-shadow(0px 1px 2px rgba(0, 0, 0, 0.3));\n",
              "      fill: #FFFFFF;\n",
              "    }\n",
              "  </style>\n",
              "\n",
              "      <script>\n",
              "        const buttonEl =\n",
              "          document.querySelector('#df-d1a35051-3c04-4e6b-8510-cf2040ba3925 button.colab-df-convert');\n",
              "        buttonEl.style.display =\n",
              "          google.colab.kernel.accessAllowed ? 'block' : 'none';\n",
              "\n",
              "        async function convertToInteractive(key) {\n",
              "          const element = document.querySelector('#df-d1a35051-3c04-4e6b-8510-cf2040ba3925');\n",
              "          const dataTable =\n",
              "            await google.colab.kernel.invokeFunction('convertToInteractive',\n",
              "                                                     [key], {});\n",
              "          if (!dataTable) return;\n",
              "\n",
              "          const docLinkHtml = 'Like what you see? Visit the ' +\n",
              "            '<a target=\"_blank\" href=https://colab.research.google.com/notebooks/data_table.ipynb>data table notebook</a>'\n",
              "            + ' to learn more about interactive tables.';\n",
              "          element.innerHTML = '';\n",
              "          dataTable['output_type'] = 'display_data';\n",
              "          await google.colab.output.renderOutput(dataTable, element);\n",
              "          const docLink = document.createElement('div');\n",
              "          docLink.innerHTML = docLinkHtml;\n",
              "          element.appendChild(docLink);\n",
              "        }\n",
              "      </script>\n",
              "    </div>\n",
              "  </div>\n",
              "  "
            ]
          },
          "metadata": {},
          "execution_count": 64
        }
      ]
    },
    {
      "cell_type": "code",
      "source": [
        "sns.scatterplot(data=df_bordeaux_A, x='DATE', y='SALES', label ='SALES',color='blue')\n",
        "sns.scatterplot(data=df_bordeaux_A, x='DATE', y='PREDICT', color='red',label ='PREDICT')"
      ],
      "metadata": {
        "colab": {
          "base_uri": "https://localhost:8080/",
          "height": 297
        },
        "id": "vEIO3lYOr9JC",
        "outputId": "10927d68-ba80-439c-95d5-0f5114230dd2"
      },
      "execution_count": null,
      "outputs": [
        {
          "output_type": "execute_result",
          "data": {
            "text/plain": [
              "<matplotlib.axes._subplots.AxesSubplot at 0x7f149c562a60>"
            ]
          },
          "metadata": {},
          "execution_count": 65
        },
        {
          "output_type": "display_data",
          "data": {
            "text/plain": [
              "<Figure size 432x288 with 1 Axes>"
            ],
            "image/png": "[encoded data removed]"
          },
          "metadata": {
            "needs_background": "light"
          }
        }
      ]
    },
    {
      "cell_type": "code",
      "source": [
        "df_bordeaux_A.to_csv('df_bordeaux_A_pred.csv')"
      ],
      "metadata": {
        "id": "9k4xS6KDIOnl"
      },
      "execution_count": null,
      "outputs": []
    },
    {
      "cell_type": "code",
      "source": [
        "# Sales prediction for itme A for from 2021-06-23 to 2021-06-27\n",
        "X=df_meteo_juin[['MAX_TEMPERATURE_C', 'MIN_TEMPERATURE_C', 'WINDSPEED_MAX_KMH',\n",
        "       'PRECIP_TOTAL_DAY_MM', 'HUMIDITY_MAX_PERCENT', 'VISIBILITY_AVG_KM',\n",
        "       'PRESSURE_MAX_MB', 'CLOUDCOVER_AVG_PERCENT', 'WEEKDAY','MONTH','WEEK']]\n",
        "df_meteo_juin['PREDICT_A']=modelRFR.predict(X)\n"
      ],
      "metadata": {
        "id": "sR48nFYeHKZM",
        "colab": {
          "base_uri": "https://localhost:8080/"
        },
        "outputId": "31fee77e-5c1b-46f2-f2aa-65bf1813c2a9"
      },
      "execution_count": null,
      "outputs": [
        {
          "output_type": "stream",
          "name": "stderr",
          "text": [
            "<ipython-input-67-19e938fdfacf>:5: SettingWithCopyWarning: \n",
            "A value is trying to be set on a copy of a slice from a DataFrame.\n",
            "Try using .loc[row_indexer,col_indexer] = value instead\n",
            "\n",
            "See the caveats in the documentation: https://pandas.pydata.org/pandas-docs/stable/user_guide/indexing.html#returning-a-view-versus-a-copy\n",
            "  df_meteo_juin['PREDICT_A']=modelRFR.predict(X)\n"
          ]
        }
      ]
    },
    {
      "cell_type": "code",
      "source": [
        "df_meteo_juin"
      ],
      "metadata": {
        "colab": {
          "base_uri": "https://localhost:8080/",
          "height": 250
        },
        "id": "wR2CPa7ceFx3",
        "outputId": "c299eb99-0020-4390-b681-9ff37f218c31"
      },
      "execution_count": null,
      "outputs": [
        {
          "output_type": "execute_result",
          "data": {
            "text/plain": [
              "        DATE  MAX_TEMPERATURE_C  MIN_TEMPERATURE_C  WINDSPEED_MAX_KMH  \\\n",
              "2 2021-06-23                 25                 18                 19   \n",
              "3 2021-06-24                 32                 23                 12   \n",
              "4 2021-06-25                 28                 20                 13   \n",
              "5 2021-06-26                 20                 16                 19   \n",
              "6 2021-06-27                 21                 15                 31   \n",
              "\n",
              "   PRECIP_TOTAL_DAY_MM  HUMIDITY_MAX_PERCENT  VISIBILITY_AVG_KM  \\\n",
              "2                  0.0                    79               10.0   \n",
              "3                  0.0                    76               10.0   \n",
              "4                  1.0                    82               10.0   \n",
              "5                  0.0                    88                9.0   \n",
              "6                  1.0                    89                9.0   \n",
              "\n",
              "   PRESSURE_MAX_MB  CLOUDCOVER_AVG_PERCENT  MONTH  WEEKDAY  WEEK  PREDICT_A  \n",
              "2             1024                    19.0      6        3    25  38.360618  \n",
              "3             1018                     2.0      6        4    25  35.744962  \n",
              "4             1015                    36.0      6        5    25  45.374834  \n",
              "5             1013                    89.0      6        6    25  53.946821  \n",
              "6             1015                    76.0      6        7    25  61.568384  "
            ],
            "text/html": [
              "\n",
              "  <div id=\"df-b05205cd-e6ae-435b-8105-829795ee63b6\">\n",
              "    <div class=\"colab-df-container\">\n",
              "      <div>\n",
              "<style scoped>\n",
              "    .dataframe tbody tr th:only-of-type {\n",
              "        vertical-align: middle;\n",
              "    }\n",
              "\n",
              "    .dataframe tbody tr th {\n",
              "        vertical-align: top;\n",
              "    }\n",
              "\n",
              "    .dataframe thead th {\n",
              "        text-align: right;\n",
              "    }\n",
              "</style>\n",
              "<table border=\"1\" class=\"dataframe\">\n",
              "  <thead>\n",
              "    <tr style=\"text-align: right;\">\n",
              "      <th></th>\n",
              "      <th>DATE</th>\n",
              "      <th>MAX_TEMPERATURE_C</th>\n",
              "      <th>MIN_TEMPERATURE_C</th>\n",
              "      <th>WINDSPEED_MAX_KMH</th>\n",
              "      <th>PRECIP_TOTAL_DAY_MM</th>\n",
              "      <th>HUMIDITY_MAX_PERCENT</th>\n",
              "      <th>VISIBILITY_AVG_KM</th>\n",
              "      <th>PRESSURE_MAX_MB</th>\n",
              "      <th>CLOUDCOVER_AVG_PERCENT</th>\n",
              "      <th>MONTH</th>\n",
              "      <th>WEEKDAY</th>\n",
              "      <th>WEEK</th>\n",
              "      <th>PREDICT_A</th>\n",
              "    </tr>\n",
              "  </thead>\n",
              "  <tbody>\n",
              "    <tr>\n",
              "      <th>2</th>\n",
              "      <td>2021-06-23</td>\n",
              "      <td>25</td>\n",
              "      <td>18</td>\n",
              "      <td>19</td>\n",
              "      <td>0.0</td>\n",
              "      <td>79</td>\n",
              "      <td>10.0</td>\n",
              "      <td>1024</td>\n",
              "      <td>19.0</td>\n",
              "      <td>6</td>\n",
              "      <td>3</td>\n",
              "      <td>25</td>\n",
              "      <td>38.360618</td>\n",
              "    </tr>\n",
              "    <tr>\n",
              "      <th>3</th>\n",
              "      <td>2021-06-24</td>\n",
              "      <td>32</td>\n",
              "      <td>23</td>\n",
              "      <td>12</td>\n",
              "      <td>0.0</td>\n",
              "      <td>76</td>\n",
              "      <td>10.0</td>\n",
              "      <td>1018</td>\n",
              "      <td>2.0</td>\n",
              "      <td>6</td>\n",
              "      <td>4</td>\n",
              "      <td>25</td>\n",
              "      <td>35.744962</td>\n",
              "    </tr>\n",
              "    <tr>\n",
              "      <th>4</th>\n",
              "      <td>2021-06-25</td>\n",
              "      <td>28</td>\n",
              "      <td>20</td>\n",
              "      <td>13</td>\n",
              "      <td>1.0</td>\n",
              "      <td>82</td>\n",
              "      <td>10.0</td>\n",
              "      <td>1015</td>\n",
              "      <td>36.0</td>\n",
              "      <td>6</td>\n",
              "      <td>5</td>\n",
              "      <td>25</td>\n",
              "      <td>45.374834</td>\n",
              "    </tr>\n",
              "    <tr>\n",
              "      <th>5</th>\n",
              "      <td>2021-06-26</td>\n",
              "      <td>20</td>\n",
              "      <td>16</td>\n",
              "      <td>19</td>\n",
              "      <td>0.0</td>\n",
              "      <td>88</td>\n",
              "      <td>9.0</td>\n",
              "      <td>1013</td>\n",
              "      <td>89.0</td>\n",
              "      <td>6</td>\n",
              "      <td>6</td>\n",
              "      <td>25</td>\n",
              "      <td>53.946821</td>\n",
              "    </tr>\n",
              "    <tr>\n",
              "      <th>6</th>\n",
              "      <td>2021-06-27</td>\n",
              "      <td>21</td>\n",
              "      <td>15</td>\n",
              "      <td>31</td>\n",
              "      <td>1.0</td>\n",
              "      <td>89</td>\n",
              "      <td>9.0</td>\n",
              "      <td>1015</td>\n",
              "      <td>76.0</td>\n",
              "      <td>6</td>\n",
              "      <td>7</td>\n",
              "      <td>25</td>\n",
              "      <td>61.568384</td>\n",
              "    </tr>\n",
              "  </tbody>\n",
              "</table>\n",
              "</div>\n",
              "      <button class=\"colab-df-convert\" onclick=\"convertToInteractive('df-b05205cd-e6ae-435b-8105-829795ee63b6')\"\n",
              "              title=\"Convert this dataframe to an interactive table.\"\n",
              "              style=\"display:none;\">\n",
              "        \n",
              "  <svg xmlns=\"http://www.w3.org/2000/svg\" height=\"24px\"viewBox=\"0 0 24 24\"\n",
              "       width=\"24px\">\n",
              "    <path d=\"M0 0h24v24H0V0z\" fill=\"none\"/>\n",
              "    <path d=\"M18.56 5.44l.94 2.06.94-2.06 2.06-.94-2.06-.94-.94-2.06-.94 2.06-2.06.94zm-11 1L8.5 8.5l.94-2.06 2.06-.94-2.06-.94L8.5 2.5l-.94 2.06-2.06.94zm10 10l.94 2.06.94-2.06 2.06-.94-2.06-.94-.94-2.06-.94 2.06-2.06.94z\"/><path d=\"M17.41 7.96l-1.37-1.37c-.4-.4-.92-.59-1.43-.59-.52 0-1.04.2-1.43.59L10.3 9.45l-7.72 7.72c-.78.78-.78 2.05 0 2.83L4 21.41c.39.39.9.59 1.41.59.51 0 1.02-.2 1.41-.59l7.78-7.78 2.81-2.81c.8-.78.8-2.07 0-2.86zM5.41 20L4 18.59l7.72-7.72 1.47 1.35L5.41 20z\"/>\n",
              "  </svg>\n",
              "      </button>\n",
              "      \n",
              "  <style>\n",
              "    .colab-df-container {\n",
              "      display:flex;\n",
              "      flex-wrap:wrap;\n",
              "      gap: 12px;\n",
              "    }\n",
              "\n",
              "    .colab-df-convert {\n",
              "      background-color: #E8F0FE;\n",
              "      border: none;\n",
              "      border-radius: 50%;\n",
              "      cursor: pointer;\n",
              "      display: none;\n",
              "      fill: #1967D2;\n",
              "      height: 32px;\n",
              "      padding: 0 0 0 0;\n",
              "      width: 32px;\n",
              "    }\n",
              "\n",
              "    .colab-df-convert:hover {\n",
              "      background-color: #E2EBFA;\n",
              "      box-shadow: 0px 1px 2px rgba(60, 64, 67, 0.3), 0px 1px 3px 1px rgba(60, 64, 67, 0.15);\n",
              "      fill: #174EA6;\n",
              "    }\n",
              "\n",
              "    [theme=dark] .colab-df-convert {\n",
              "      background-color: #3B4455;\n",
              "      fill: #D2E3FC;\n",
              "    }\n",
              "\n",
              "    [theme=dark] .colab-df-convert:hover {\n",
              "      background-color: #434B5C;\n",
              "      box-shadow: 0px 1px 3px 1px rgba(0, 0, 0, 0.15);\n",
              "      filter: drop-shadow(0px 1px 2px rgba(0, 0, 0, 0.3));\n",
              "      fill: #FFFFFF;\n",
              "    }\n",
              "  </style>\n",
              "\n",
              "      <script>\n",
              "        const buttonEl =\n",
              "          document.querySelector('#df-b05205cd-e6ae-435b-8105-829795ee63b6 button.colab-df-convert');\n",
              "        buttonEl.style.display =\n",
              "          google.colab.kernel.accessAllowed ? 'block' : 'none';\n",
              "\n",
              "        async function convertToInteractive(key) {\n",
              "          const element = document.querySelector('#df-b05205cd-e6ae-435b-8105-829795ee63b6');\n",
              "          const dataTable =\n",
              "            await google.colab.kernel.invokeFunction('convertToInteractive',\n",
              "                                                     [key], {});\n",
              "          if (!dataTable) return;\n",
              "\n",
              "          const docLinkHtml = 'Like what you see? Visit the ' +\n",
              "            '<a target=\"_blank\" href=https://colab.research.google.com/notebooks/data_table.ipynb>data table notebook</a>'\n",
              "            + ' to learn more about interactive tables.';\n",
              "          element.innerHTML = '';\n",
              "          dataTable['output_type'] = 'display_data';\n",
              "          await google.colab.output.renderOutput(dataTable, element);\n",
              "          const docLink = document.createElement('div');\n",
              "          docLink.innerHTML = docLinkHtml;\n",
              "          element.appendChild(docLink);\n",
              "        }\n",
              "      </script>\n",
              "    </div>\n",
              "  </div>\n",
              "  "
            ]
          },
          "metadata": {},
          "execution_count": 68
        }
      ]
    },
    {
      "cell_type": "code",
      "source": [
        "# train test split for item A (selected the sames columns than df_meteo_juin)\n",
        "X=df_bordeaux_B[['MAX_TEMPERATURE_C', 'MIN_TEMPERATURE_C', 'WINDSPEED_MAX_KMH',\n",
        "       'PRECIP_TOTAL_DAY_MM', 'HUMIDITY_MAX_PERCENT', 'VISIBILITY_AVG_KM',\n",
        "       'PRESSURE_MAX_MB', 'CLOUDCOVER_AVG_PERCENT','WEEKDAY','MONTH','WEEK']]\n",
        "y=df_bordeaux_B['SALES']"
      ],
      "metadata": {
        "id": "Q-kj5QUtc8Yt"
      },
      "execution_count": null,
      "outputs": []
    },
    {
      "cell_type": "code",
      "source": [
        "X_train,X_test,y_train,y_test= train_test_split(X,y,random_state=42)"
      ],
      "metadata": {
        "id": "gvlbM93ldL1Z"
      },
      "execution_count": null,
      "outputs": []
    },
    {
      "cell_type": "code",
      "source": [
        "modelLR = LinearRegression().fit(X_train,y_train)\n",
        "modelDTR = DecisionTreeRegressor(max_depth = 4).fit(X_train, y_train)  \n",
        "modelRFR = RandomForestRegressor(max_depth = 4).fit(X_train,y_train)\n",
        "\n",
        "print(\"\\nLR score train = \",modelLR.score(X_train,y_train))\n",
        "print(\"LR score test = \",modelLR.score(X_test,y_test))\n",
        "print(\"\\nDTR score train = \",modelDTR.score(X_train,y_train))\n",
        "print(\"DTR score test = \",modelDTR.score(X_test,y_test))\n",
        "print(\"\\nRFR score train = \",modelRFR.score(X_train,y_train))\n",
        "print(\"RFR score test = \",modelRFR.score(X_test,y_test))"
      ],
      "metadata": {
        "colab": {
          "base_uri": "https://localhost:8080/"
        },
        "id": "2sXYJ4X4dQk7",
        "outputId": "37436b9a-33f6-4f29-f40c-d593769616c1"
      },
      "execution_count": null,
      "outputs": [
        {
          "output_type": "stream",
          "name": "stdout",
          "text": [
            "\n",
            "LR score train =  0.9425123923608087\n",
            "LR score test =  0.9289185857551117\n",
            "\n",
            "DTR score train =  0.9612585695508744\n",
            "DTR score test =  0.9414362059523242\n",
            "\n",
            "RFR score train =  0.9738536245951723\n",
            "RFR score test =  0.9603311003882335\n"
          ]
        }
      ]
    },
    {
      "cell_type": "code",
      "source": [
        "# Sales prediction for itme B for from 2021-06-23 to 2021-06-27.\n",
        "X=df_meteo_juin[['MAX_TEMPERATURE_C', 'MIN_TEMPERATURE_C', 'WINDSPEED_MAX_KMH',\n",
        "       'PRECIP_TOTAL_DAY_MM', 'HUMIDITY_MAX_PERCENT', 'VISIBILITY_AVG_KM',\n",
        "       'PRESSURE_MAX_MB', 'CLOUDCOVER_AVG_PERCENT', 'WEEKDAY','MONTH','WEEK']]\n",
        "df_meteo_juin['PREDICT_B']=modelRFR.predict(X)"
      ],
      "metadata": {
        "id": "B0Jf3pXPdctQ",
        "colab": {
          "base_uri": "https://localhost:8080/"
        },
        "outputId": "cb19f7f6-a89f-4f69-f531-3dd7b2888458"
      },
      "execution_count": null,
      "outputs": [
        {
          "output_type": "stream",
          "name": "stderr",
          "text": [
            "<ipython-input-72-8a895392b7f5>:5: SettingWithCopyWarning: \n",
            "A value is trying to be set on a copy of a slice from a DataFrame.\n",
            "Try using .loc[row_indexer,col_indexer] = value instead\n",
            "\n",
            "See the caveats in the documentation: https://pandas.pydata.org/pandas-docs/stable/user_guide/indexing.html#returning-a-view-versus-a-copy\n",
            "  df_meteo_juin['PREDICT_B']=modelRFR.predict(X)\n"
          ]
        }
      ]
    },
    {
      "cell_type": "code",
      "source": [
        "df_meteo_juin"
      ],
      "metadata": {
        "colab": {
          "base_uri": "https://localhost:8080/",
          "height": 357
        },
        "id": "HM0QyohBetiV",
        "outputId": "b86fb6c5-f160-4f40-9e20-48dd7483fa6e"
      },
      "execution_count": null,
      "outputs": [
        {
          "output_type": "execute_result",
          "data": {
            "text/plain": [
              "        DATE  MAX_TEMPERATURE_C  MIN_TEMPERATURE_C  WINDSPEED_MAX_KMH  \\\n",
              "2 2021-06-23                 25                 18                 19   \n",
              "3 2021-06-24                 32                 23                 12   \n",
              "4 2021-06-25                 28                 20                 13   \n",
              "5 2021-06-26                 20                 16                 19   \n",
              "6 2021-06-27                 21                 15                 31   \n",
              "\n",
              "   PRECIP_TOTAL_DAY_MM  HUMIDITY_MAX_PERCENT  VISIBILITY_AVG_KM  \\\n",
              "2                  0.0                    79               10.0   \n",
              "3                  0.0                    76               10.0   \n",
              "4                  1.0                    82               10.0   \n",
              "5                  0.0                    88                9.0   \n",
              "6                  1.0                    89                9.0   \n",
              "\n",
              "   PRESSURE_MAX_MB  CLOUDCOVER_AVG_PERCENT  MONTH  WEEKDAY  WEEK  PREDICT_A  \\\n",
              "2             1024                    19.0      6        3    25  38.360618   \n",
              "3             1018                     2.0      6        4    25  35.744962   \n",
              "4             1015                    36.0      6        5    25  45.374834   \n",
              "5             1013                    89.0      6        6    25  53.946821   \n",
              "6             1015                    76.0      6        7    25  61.568384   \n",
              "\n",
              "    PREDICT_B  \n",
              "2  177.148258  \n",
              "3  211.111208  \n",
              "4  190.961834  \n",
              "5  125.343194  \n",
              "6  121.016195  "
            ],
            "text/html": [
              "\n",
              "  <div id=\"df-2efef488-2ce3-4f2d-afc0-2486d29d35eb\">\n",
              "    <div class=\"colab-df-container\">\n",
              "      <div>\n",
              "<style scoped>\n",
              "    .dataframe tbody tr th:only-of-type {\n",
              "        vertical-align: middle;\n",
              "    }\n",
              "\n",
              "    .dataframe tbody tr th {\n",
              "        vertical-align: top;\n",
              "    }\n",
              "\n",
              "    .dataframe thead th {\n",
              "        text-align: right;\n",
              "    }\n",
              "</style>\n",
              "<table border=\"1\" class=\"dataframe\">\n",
              "  <thead>\n",
              "    <tr style=\"text-align: right;\">\n",
              "      <th></th>\n",
              "      <th>DATE</th>\n",
              "      <th>MAX_TEMPERATURE_C</th>\n",
              "      <th>MIN_TEMPERATURE_C</th>\n",
              "      <th>WINDSPEED_MAX_KMH</th>\n",
              "      <th>PRECIP_TOTAL_DAY_MM</th>\n",
              "      <th>HUMIDITY_MAX_PERCENT</th>\n",
              "      <th>VISIBILITY_AVG_KM</th>\n",
              "      <th>PRESSURE_MAX_MB</th>\n",
              "      <th>CLOUDCOVER_AVG_PERCENT</th>\n",
              "      <th>MONTH</th>\n",
              "      <th>WEEKDAY</th>\n",
              "      <th>WEEK</th>\n",
              "      <th>PREDICT_A</th>\n",
              "      <th>PREDICT_B</th>\n",
              "    </tr>\n",
              "  </thead>\n",
              "  <tbody>\n",
              "    <tr>\n",
              "      <th>2</th>\n",
              "      <td>2021-06-23</td>\n",
              "      <td>25</td>\n",
              "      <td>18</td>\n",
              "      <td>19</td>\n",
              "      <td>0.0</td>\n",
              "      <td>79</td>\n",
              "      <td>10.0</td>\n",
              "      <td>1024</td>\n",
              "      <td>19.0</td>\n",
              "      <td>6</td>\n",
              "      <td>3</td>\n",
              "      <td>25</td>\n",
              "      <td>38.360618</td>\n",
              "      <td>177.148258</td>\n",
              "    </tr>\n",
              "    <tr>\n",
              "      <th>3</th>\n",
              "      <td>2021-06-24</td>\n",
              "      <td>32</td>\n",
              "      <td>23</td>\n",
              "      <td>12</td>\n",
              "      <td>0.0</td>\n",
              "      <td>76</td>\n",
              "      <td>10.0</td>\n",
              "      <td>1018</td>\n",
              "      <td>2.0</td>\n",
              "      <td>6</td>\n",
              "      <td>4</td>\n",
              "      <td>25</td>\n",
              "      <td>35.744962</td>\n",
              "      <td>211.111208</td>\n",
              "    </tr>\n",
              "    <tr>\n",
              "      <th>4</th>\n",
              "      <td>2021-06-25</td>\n",
              "      <td>28</td>\n",
              "      <td>20</td>\n",
              "      <td>13</td>\n",
              "      <td>1.0</td>\n",
              "      <td>82</td>\n",
              "      <td>10.0</td>\n",
              "      <td>1015</td>\n",
              "      <td>36.0</td>\n",
              "      <td>6</td>\n",
              "      <td>5</td>\n",
              "      <td>25</td>\n",
              "      <td>45.374834</td>\n",
              "      <td>190.961834</td>\n",
              "    </tr>\n",
              "    <tr>\n",
              "      <th>5</th>\n",
              "      <td>2021-06-26</td>\n",
              "      <td>20</td>\n",
              "      <td>16</td>\n",
              "      <td>19</td>\n",
              "      <td>0.0</td>\n",
              "      <td>88</td>\n",
              "      <td>9.0</td>\n",
              "      <td>1013</td>\n",
              "      <td>89.0</td>\n",
              "      <td>6</td>\n",
              "      <td>6</td>\n",
              "      <td>25</td>\n",
              "      <td>53.946821</td>\n",
              "      <td>125.343194</td>\n",
              "    </tr>\n",
              "    <tr>\n",
              "      <th>6</th>\n",
              "      <td>2021-06-27</td>\n",
              "      <td>21</td>\n",
              "      <td>15</td>\n",
              "      <td>31</td>\n",
              "      <td>1.0</td>\n",
              "      <td>89</td>\n",
              "      <td>9.0</td>\n",
              "      <td>1015</td>\n",
              "      <td>76.0</td>\n",
              "      <td>6</td>\n",
              "      <td>7</td>\n",
              "      <td>25</td>\n",
              "      <td>61.568384</td>\n",
              "      <td>121.016195</td>\n",
              "    </tr>\n",
              "  </tbody>\n",
              "</table>\n",
              "</div>\n",
              "      <button class=\"colab-df-convert\" onclick=\"convertToInteractive('df-2efef488-2ce3-4f2d-afc0-2486d29d35eb')\"\n",
              "              title=\"Convert this dataframe to an interactive table.\"\n",
              "              style=\"display:none;\">\n",
              "        \n",
              "  <svg xmlns=\"http://www.w3.org/2000/svg\" height=\"24px\"viewBox=\"0 0 24 24\"\n",
              "       width=\"24px\">\n",
              "    <path d=\"M0 0h24v24H0V0z\" fill=\"none\"/>\n",
              "    <path d=\"M18.56 5.44l.94 2.06.94-2.06 2.06-.94-2.06-.94-.94-2.06-.94 2.06-2.06.94zm-11 1L8.5 8.5l.94-2.06 2.06-.94-2.06-.94L8.5 2.5l-.94 2.06-2.06.94zm10 10l.94 2.06.94-2.06 2.06-.94-2.06-.94-.94-2.06-.94 2.06-2.06.94z\"/><path d=\"M17.41 7.96l-1.37-1.37c-.4-.4-.92-.59-1.43-.59-.52 0-1.04.2-1.43.59L10.3 9.45l-7.72 7.72c-.78.78-.78 2.05 0 2.83L4 21.41c.39.39.9.59 1.41.59.51 0 1.02-.2 1.41-.59l7.78-7.78 2.81-2.81c.8-.78.8-2.07 0-2.86zM5.41 20L4 18.59l7.72-7.72 1.47 1.35L5.41 20z\"/>\n",
              "  </svg>\n",
              "      </button>\n",
              "      \n",
              "  <style>\n",
              "    .colab-df-container {\n",
              "      display:flex;\n",
              "      flex-wrap:wrap;\n",
              "      gap: 12px;\n",
              "    }\n",
              "\n",
              "    .colab-df-convert {\n",
              "      background-color: #E8F0FE;\n",
              "      border: none;\n",
              "      border-radius: 50%;\n",
              "      cursor: pointer;\n",
              "      display: none;\n",
              "      fill: #1967D2;\n",
              "      height: 32px;\n",
              "      padding: 0 0 0 0;\n",
              "      width: 32px;\n",
              "    }\n",
              "\n",
              "    .colab-df-convert:hover {\n",
              "      background-color: #E2EBFA;\n",
              "      box-shadow: 0px 1px 2px rgba(60, 64, 67, 0.3), 0px 1px 3px 1px rgba(60, 64, 67, 0.15);\n",
              "      fill: #174EA6;\n",
              "    }\n",
              "\n",
              "    [theme=dark] .colab-df-convert {\n",
              "      background-color: #3B4455;\n",
              "      fill: #D2E3FC;\n",
              "    }\n",
              "\n",
              "    [theme=dark] .colab-df-convert:hover {\n",
              "      background-color: #434B5C;\n",
              "      box-shadow: 0px 1px 3px 1px rgba(0, 0, 0, 0.15);\n",
              "      filter: drop-shadow(0px 1px 2px rgba(0, 0, 0, 0.3));\n",
              "      fill: #FFFFFF;\n",
              "    }\n",
              "  </style>\n",
              "\n",
              "      <script>\n",
              "        const buttonEl =\n",
              "          document.querySelector('#df-2efef488-2ce3-4f2d-afc0-2486d29d35eb button.colab-df-convert');\n",
              "        buttonEl.style.display =\n",
              "          google.colab.kernel.accessAllowed ? 'block' : 'none';\n",
              "\n",
              "        async function convertToInteractive(key) {\n",
              "          const element = document.querySelector('#df-2efef488-2ce3-4f2d-afc0-2486d29d35eb');\n",
              "          const dataTable =\n",
              "            await google.colab.kernel.invokeFunction('convertToInteractive',\n",
              "                                                     [key], {});\n",
              "          if (!dataTable) return;\n",
              "\n",
              "          const docLinkHtml = 'Like what you see? Visit the ' +\n",
              "            '<a target=\"_blank\" href=https://colab.research.google.com/notebooks/data_table.ipynb>data table notebook</a>'\n",
              "            + ' to learn more about interactive tables.';\n",
              "          element.innerHTML = '';\n",
              "          dataTable['output_type'] = 'display_data';\n",
              "          await google.colab.output.renderOutput(dataTable, element);\n",
              "          const docLink = document.createElement('div');\n",
              "          docLink.innerHTML = docLinkHtml;\n",
              "          element.appendChild(docLink);\n",
              "        }\n",
              "      </script>\n",
              "    </div>\n",
              "  </div>\n",
              "  "
            ]
          },
          "metadata": {},
          "execution_count": 73
        }
      ]
    },
    {
      "cell_type": "code",
      "source": [
        "df_meteo_juin['PREDICT_A']=df_meteo_juin['PREDICT_A'].astype(int)"
      ],
      "metadata": {
        "id": "kBdfPFFmQMFs",
        "colab": {
          "base_uri": "https://localhost:8080/"
        },
        "outputId": "74957989-60a9-4cb8-b1b8-98d918cc697f"
      },
      "execution_count": null,
      "outputs": [
        {
          "output_type": "stream",
          "name": "stderr",
          "text": [
            "<ipython-input-74-05fb2a0cb400>:1: SettingWithCopyWarning: \n",
            "A value is trying to be set on a copy of a slice from a DataFrame.\n",
            "Try using .loc[row_indexer,col_indexer] = value instead\n",
            "\n",
            "See the caveats in the documentation: https://pandas.pydata.org/pandas-docs/stable/user_guide/indexing.html#returning-a-view-versus-a-copy\n",
            "  df_meteo_juin['PREDICT_A']=df_meteo_juin['PREDICT_A'].astype(int)\n"
          ]
        }
      ]
    },
    {
      "cell_type": "code",
      "source": [
        "df_meteo_juin['PREDICT_B']=df_meteo_juin['PREDICT_B'].astype(int)"
      ],
      "metadata": {
        "id": "PCHHIW4nQhcq",
        "colab": {
          "base_uri": "https://localhost:8080/"
        },
        "outputId": "ed6eb7d8-70e3-48dc-be49-0f25be8e87fd"
      },
      "execution_count": null,
      "outputs": [
        {
          "output_type": "stream",
          "name": "stderr",
          "text": [
            "<ipython-input-75-5449e1f8259c>:1: SettingWithCopyWarning: \n",
            "A value is trying to be set on a copy of a slice from a DataFrame.\n",
            "Try using .loc[row_indexer,col_indexer] = value instead\n",
            "\n",
            "See the caveats in the documentation: https://pandas.pydata.org/pandas-docs/stable/user_guide/indexing.html#returning-a-view-versus-a-copy\n",
            "  df_meteo_juin['PREDICT_B']=df_meteo_juin['PREDICT_B'].astype(int)\n"
          ]
        }
      ]
    },
    {
      "cell_type": "code",
      "source": [
        "df_meteo_juin"
      ],
      "metadata": {
        "colab": {
          "base_uri": "https://localhost:8080/",
          "height": 357
        },
        "id": "5V3M_jwrRB7D",
        "outputId": "35112523-f103-4174-d1bb-00a9b8effa4b"
      },
      "execution_count": null,
      "outputs": [
        {
          "output_type": "execute_result",
          "data": {
            "text/plain": [
              "        DATE  MAX_TEMPERATURE_C  MIN_TEMPERATURE_C  WINDSPEED_MAX_KMH  \\\n",
              "2 2021-06-23                 25                 18                 19   \n",
              "3 2021-06-24                 32                 23                 12   \n",
              "4 2021-06-25                 28                 20                 13   \n",
              "5 2021-06-26                 20                 16                 19   \n",
              "6 2021-06-27                 21                 15                 31   \n",
              "\n",
              "   PRECIP_TOTAL_DAY_MM  HUMIDITY_MAX_PERCENT  VISIBILITY_AVG_KM  \\\n",
              "2                  0.0                    79               10.0   \n",
              "3                  0.0                    76               10.0   \n",
              "4                  1.0                    82               10.0   \n",
              "5                  0.0                    88                9.0   \n",
              "6                  1.0                    89                9.0   \n",
              "\n",
              "   PRESSURE_MAX_MB  CLOUDCOVER_AVG_PERCENT  MONTH  WEEKDAY  WEEK  PREDICT_A  \\\n",
              "2             1024                    19.0      6        3    25         38   \n",
              "3             1018                     2.0      6        4    25         35   \n",
              "4             1015                    36.0      6        5    25         45   \n",
              "5             1013                    89.0      6        6    25         53   \n",
              "6             1015                    76.0      6        7    25         61   \n",
              "\n",
              "   PREDICT_B  \n",
              "2        177  \n",
              "3        211  \n",
              "4        190  \n",
              "5        125  \n",
              "6        121  "
            ],
            "text/html": [
              "\n",
              "  <div id=\"df-0553819f-f9dc-4f8e-8b10-2b289ca96392\">\n",
              "    <div class=\"colab-df-container\">\n",
              "      <div>\n",
              "<style scoped>\n",
              "    .dataframe tbody tr th:only-of-type {\n",
              "        vertical-align: middle;\n",
              "    }\n",
              "\n",
              "    .dataframe tbody tr th {\n",
              "        vertical-align: top;\n",
              "    }\n",
              "\n",
              "    .dataframe thead th {\n",
              "        text-align: right;\n",
              "    }\n",
              "</style>\n",
              "<table border=\"1\" class=\"dataframe\">\n",
              "  <thead>\n",
              "    <tr style=\"text-align: right;\">\n",
              "      <th></th>\n",
              "      <th>DATE</th>\n",
              "      <th>MAX_TEMPERATURE_C</th>\n",
              "      <th>MIN_TEMPERATURE_C</th>\n",
              "      <th>WINDSPEED_MAX_KMH</th>\n",
              "      <th>PRECIP_TOTAL_DAY_MM</th>\n",
              "      <th>HUMIDITY_MAX_PERCENT</th>\n",
              "      <th>VISIBILITY_AVG_KM</th>\n",
              "      <th>PRESSURE_MAX_MB</th>\n",
              "      <th>CLOUDCOVER_AVG_PERCENT</th>\n",
              "      <th>MONTH</th>\n",
              "      <th>WEEKDAY</th>\n",
              "      <th>WEEK</th>\n",
              "      <th>PREDICT_A</th>\n",
              "      <th>PREDICT_B</th>\n",
              "    </tr>\n",
              "  </thead>\n",
              "  <tbody>\n",
              "    <tr>\n",
              "      <th>2</th>\n",
              "      <td>2021-06-23</td>\n",
              "      <td>25</td>\n",
              "      <td>18</td>\n",
              "      <td>19</td>\n",
              "      <td>0.0</td>\n",
              "      <td>79</td>\n",
              "      <td>10.0</td>\n",
              "      <td>1024</td>\n",
              "      <td>19.0</td>\n",
              "      <td>6</td>\n",
              "      <td>3</td>\n",
              "      <td>25</td>\n",
              "      <td>38</td>\n",
              "      <td>177</td>\n",
              "    </tr>\n",
              "    <tr>\n",
              "      <th>3</th>\n",
              "      <td>2021-06-24</td>\n",
              "      <td>32</td>\n",
              "      <td>23</td>\n",
              "      <td>12</td>\n",
              "      <td>0.0</td>\n",
              "      <td>76</td>\n",
              "      <td>10.0</td>\n",
              "      <td>1018</td>\n",
              "      <td>2.0</td>\n",
              "      <td>6</td>\n",
              "      <td>4</td>\n",
              "      <td>25</td>\n",
              "      <td>35</td>\n",
              "      <td>211</td>\n",
              "    </tr>\n",
              "    <tr>\n",
              "      <th>4</th>\n",
              "      <td>2021-06-25</td>\n",
              "      <td>28</td>\n",
              "      <td>20</td>\n",
              "      <td>13</td>\n",
              "      <td>1.0</td>\n",
              "      <td>82</td>\n",
              "      <td>10.0</td>\n",
              "      <td>1015</td>\n",
              "      <td>36.0</td>\n",
              "      <td>6</td>\n",
              "      <td>5</td>\n",
              "      <td>25</td>\n",
              "      <td>45</td>\n",
              "      <td>190</td>\n",
              "    </tr>\n",
              "    <tr>\n",
              "      <th>5</th>\n",
              "      <td>2021-06-26</td>\n",
              "      <td>20</td>\n",
              "      <td>16</td>\n",
              "      <td>19</td>\n",
              "      <td>0.0</td>\n",
              "      <td>88</td>\n",
              "      <td>9.0</td>\n",
              "      <td>1013</td>\n",
              "      <td>89.0</td>\n",
              "      <td>6</td>\n",
              "      <td>6</td>\n",
              "      <td>25</td>\n",
              "      <td>53</td>\n",
              "      <td>125</td>\n",
              "    </tr>\n",
              "    <tr>\n",
              "      <th>6</th>\n",
              "      <td>2021-06-27</td>\n",
              "      <td>21</td>\n",
              "      <td>15</td>\n",
              "      <td>31</td>\n",
              "      <td>1.0</td>\n",
              "      <td>89</td>\n",
              "      <td>9.0</td>\n",
              "      <td>1015</td>\n",
              "      <td>76.0</td>\n",
              "      <td>6</td>\n",
              "      <td>7</td>\n",
              "      <td>25</td>\n",
              "      <td>61</td>\n",
              "      <td>121</td>\n",
              "    </tr>\n",
              "  </tbody>\n",
              "</table>\n",
              "</div>\n",
              "      <button class=\"colab-df-convert\" onclick=\"convertToInteractive('df-0553819f-f9dc-4f8e-8b10-2b289ca96392')\"\n",
              "              title=\"Convert this dataframe to an interactive table.\"\n",
              "              style=\"display:none;\">\n",
              "        \n",
              "  <svg xmlns=\"http://www.w3.org/2000/svg\" height=\"24px\"viewBox=\"0 0 24 24\"\n",
              "       width=\"24px\">\n",
              "    <path d=\"M0 0h24v24H0V0z\" fill=\"none\"/>\n",
              "    <path d=\"M18.56 5.44l.94 2.06.94-2.06 2.06-.94-2.06-.94-.94-2.06-.94 2.06-2.06.94zm-11 1L8.5 8.5l.94-2.06 2.06-.94-2.06-.94L8.5 2.5l-.94 2.06-2.06.94zm10 10l.94 2.06.94-2.06 2.06-.94-2.06-.94-.94-2.06-.94 2.06-2.06.94z\"/><path d=\"M17.41 7.96l-1.37-1.37c-.4-.4-.92-.59-1.43-.59-.52 0-1.04.2-1.43.59L10.3 9.45l-7.72 7.72c-.78.78-.78 2.05 0 2.83L4 21.41c.39.39.9.59 1.41.59.51 0 1.02-.2 1.41-.59l7.78-7.78 2.81-2.81c.8-.78.8-2.07 0-2.86zM5.41 20L4 18.59l7.72-7.72 1.47 1.35L5.41 20z\"/>\n",
              "  </svg>\n",
              "      </button>\n",
              "      \n",
              "  <style>\n",
              "    .colab-df-container {\n",
              "      display:flex;\n",
              "      flex-wrap:wrap;\n",
              "      gap: 12px;\n",
              "    }\n",
              "\n",
              "    .colab-df-convert {\n",
              "      background-color: #E8F0FE;\n",
              "      border: none;\n",
              "      border-radius: 50%;\n",
              "      cursor: pointer;\n",
              "      display: none;\n",
              "      fill: #1967D2;\n",
              "      height: 32px;\n",
              "      padding: 0 0 0 0;\n",
              "      width: 32px;\n",
              "    }\n",
              "\n",
              "    .colab-df-convert:hover {\n",
              "      background-color: #E2EBFA;\n",
              "      box-shadow: 0px 1px 2px rgba(60, 64, 67, 0.3), 0px 1px 3px 1px rgba(60, 64, 67, 0.15);\n",
              "      fill: #174EA6;\n",
              "    }\n",
              "\n",
              "    [theme=dark] .colab-df-convert {\n",
              "      background-color: #3B4455;\n",
              "      fill: #D2E3FC;\n",
              "    }\n",
              "\n",
              "    [theme=dark] .colab-df-convert:hover {\n",
              "      background-color: #434B5C;\n",
              "      box-shadow: 0px 1px 3px 1px rgba(0, 0, 0, 0.15);\n",
              "      filter: drop-shadow(0px 1px 2px rgba(0, 0, 0, 0.3));\n",
              "      fill: #FFFFFF;\n",
              "    }\n",
              "  </style>\n",
              "\n",
              "      <script>\n",
              "        const buttonEl =\n",
              "          document.querySelector('#df-0553819f-f9dc-4f8e-8b10-2b289ca96392 button.colab-df-convert');\n",
              "        buttonEl.style.display =\n",
              "          google.colab.kernel.accessAllowed ? 'block' : 'none';\n",
              "\n",
              "        async function convertToInteractive(key) {\n",
              "          const element = document.querySelector('#df-0553819f-f9dc-4f8e-8b10-2b289ca96392');\n",
              "          const dataTable =\n",
              "            await google.colab.kernel.invokeFunction('convertToInteractive',\n",
              "                                                     [key], {});\n",
              "          if (!dataTable) return;\n",
              "\n",
              "          const docLinkHtml = 'Like what you see? Visit the ' +\n",
              "            '<a target=\"_blank\" href=https://colab.research.google.com/notebooks/data_table.ipynb>data table notebook</a>'\n",
              "            + ' to learn more about interactive tables.';\n",
              "          element.innerHTML = '';\n",
              "          dataTable['output_type'] = 'display_data';\n",
              "          await google.colab.output.renderOutput(dataTable, element);\n",
              "          const docLink = document.createElement('div');\n",
              "          docLink.innerHTML = docLinkHtml;\n",
              "          element.appendChild(docLink);\n",
              "        }\n",
              "      </script>\n",
              "    </div>\n",
              "  </div>\n",
              "  "
            ]
          },
          "metadata": {},
          "execution_count": 76
        }
      ]
    },
    {
      "cell_type": "code",
      "source": [
        "df_meteo_juin.to_csv('df_meteo_juin.csv')"
      ],
      "metadata": {
        "id": "0kHTgMPSI1hn"
      },
      "execution_count": null,
      "outputs": []
    },
    {
      "cell_type": "code",
      "source": [
        "# stocks prediction final\n",
        "df_predict=df_meteo_juin[['DATE','PREDICT_A', 'PREDICT_B']]\n",
        "df_predict"
      ],
      "metadata": {
        "colab": {
          "base_uri": "https://localhost:8080/",
          "height": 206
        },
        "id": "WfhQ43ukRH2g",
        "outputId": "bcc80320-99ae-42c9-f60d-d7fc09f95834"
      },
      "execution_count": null,
      "outputs": [
        {
          "output_type": "execute_result",
          "data": {
            "text/plain": [
              "        DATE  PREDICT_A  PREDICT_B\n",
              "2 2021-06-23         38        177\n",
              "3 2021-06-24         35        211\n",
              "4 2021-06-25         45        190\n",
              "5 2021-06-26         53        125\n",
              "6 2021-06-27         61        121"
            ],
            "text/html": [
              "\n",
              "  <div id=\"df-1d480b0c-2346-4518-a61d-9d42e32812b9\">\n",
              "    <div class=\"colab-df-container\">\n",
              "      <div>\n",
              "<style scoped>\n",
              "    .dataframe tbody tr th:only-of-type {\n",
              "        vertical-align: middle;\n",
              "    }\n",
              "\n",
              "    .dataframe tbody tr th {\n",
              "        vertical-align: top;\n",
              "    }\n",
              "\n",
              "    .dataframe thead th {\n",
              "        text-align: right;\n",
              "    }\n",
              "</style>\n",
              "<table border=\"1\" class=\"dataframe\">\n",
              "  <thead>\n",
              "    <tr style=\"text-align: right;\">\n",
              "      <th></th>\n",
              "      <th>DATE</th>\n",
              "      <th>PREDICT_A</th>\n",
              "      <th>PREDICT_B</th>\n",
              "    </tr>\n",
              "  </thead>\n",
              "  <tbody>\n",
              "    <tr>\n",
              "      <th>2</th>\n",
              "      <td>2021-06-23</td>\n",
              "      <td>38</td>\n",
              "      <td>177</td>\n",
              "    </tr>\n",
              "    <tr>\n",
              "      <th>3</th>\n",
              "      <td>2021-06-24</td>\n",
              "      <td>35</td>\n",
              "      <td>211</td>\n",
              "    </tr>\n",
              "    <tr>\n",
              "      <th>4</th>\n",
              "      <td>2021-06-25</td>\n",
              "      <td>45</td>\n",
              "      <td>190</td>\n",
              "    </tr>\n",
              "    <tr>\n",
              "      <th>5</th>\n",
              "      <td>2021-06-26</td>\n",
              "      <td>53</td>\n",
              "      <td>125</td>\n",
              "    </tr>\n",
              "    <tr>\n",
              "      <th>6</th>\n",
              "      <td>2021-06-27</td>\n",
              "      <td>61</td>\n",
              "      <td>121</td>\n",
              "    </tr>\n",
              "  </tbody>\n",
              "</table>\n",
              "</div>\n",
              "      <button class=\"colab-df-convert\" onclick=\"convertToInteractive('df-1d480b0c-2346-4518-a61d-9d42e32812b9')\"\n",
              "              title=\"Convert this dataframe to an interactive table.\"\n",
              "              style=\"display:none;\">\n",
              "        \n",
              "  <svg xmlns=\"http://www.w3.org/2000/svg\" height=\"24px\"viewBox=\"0 0 24 24\"\n",
              "       width=\"24px\">\n",
              "    <path d=\"M0 0h24v24H0V0z\" fill=\"none\"/>\n",
              "    <path d=\"M18.56 5.44l.94 2.06.94-2.06 2.06-.94-2.06-.94-.94-2.06-.94 2.06-2.06.94zm-11 1L8.5 8.5l.94-2.06 2.06-.94-2.06-.94L8.5 2.5l-.94 2.06-2.06.94zm10 10l.94 2.06.94-2.06 2.06-.94-2.06-.94-.94-2.06-.94 2.06-2.06.94z\"/><path d=\"M17.41 7.96l-1.37-1.37c-.4-.4-.92-.59-1.43-.59-.52 0-1.04.2-1.43.59L10.3 9.45l-7.72 7.72c-.78.78-.78 2.05 0 2.83L4 21.41c.39.39.9.59 1.41.59.51 0 1.02-.2 1.41-.59l7.78-7.78 2.81-2.81c.8-.78.8-2.07 0-2.86zM5.41 20L4 18.59l7.72-7.72 1.47 1.35L5.41 20z\"/>\n",
              "  </svg>\n",
              "      </button>\n",
              "      \n",
              "  <style>\n",
              "    .colab-df-container {\n",
              "      display:flex;\n",
              "      flex-wrap:wrap;\n",
              "      gap: 12px;\n",
              "    }\n",
              "\n",
              "    .colab-df-convert {\n",
              "      background-color: #E8F0FE;\n",
              "      border: none;\n",
              "      border-radius: 50%;\n",
              "      cursor: pointer;\n",
              "      display: none;\n",
              "      fill: #1967D2;\n",
              "      height: 32px;\n",
              "      padding: 0 0 0 0;\n",
              "      width: 32px;\n",
              "    }\n",
              "\n",
              "    .colab-df-convert:hover {\n",
              "      background-color: #E2EBFA;\n",
              "      box-shadow: 0px 1px 2px rgba(60, 64, 67, 0.3), 0px 1px 3px 1px rgba(60, 64, 67, 0.15);\n",
              "      fill: #174EA6;\n",
              "    }\n",
              "\n",
              "    [theme=dark] .colab-df-convert {\n",
              "      background-color: #3B4455;\n",
              "      fill: #D2E3FC;\n",
              "    }\n",
              "\n",
              "    [theme=dark] .colab-df-convert:hover {\n",
              "      background-color: #434B5C;\n",
              "      box-shadow: 0px 1px 3px 1px rgba(0, 0, 0, 0.15);\n",
              "      filter: drop-shadow(0px 1px 2px rgba(0, 0, 0, 0.3));\n",
              "      fill: #FFFFFF;\n",
              "    }\n",
              "  </style>\n",
              "\n",
              "      <script>\n",
              "        const buttonEl =\n",
              "          document.querySelector('#df-1d480b0c-2346-4518-a61d-9d42e32812b9 button.colab-df-convert');\n",
              "        buttonEl.style.display =\n",
              "          google.colab.kernel.accessAllowed ? 'block' : 'none';\n",
              "\n",
              "        async function convertToInteractive(key) {\n",
              "          const element = document.querySelector('#df-1d480b0c-2346-4518-a61d-9d42e32812b9');\n",
              "          const dataTable =\n",
              "            await google.colab.kernel.invokeFunction('convertToInteractive',\n",
              "                                                     [key], {});\n",
              "          if (!dataTable) return;\n",
              "\n",
              "          const docLinkHtml = 'Like what you see? Visit the ' +\n",
              "            '<a target=\"_blank\" href=https://colab.research.google.com/notebooks/data_table.ipynb>data table notebook</a>'\n",
              "            + ' to learn more about interactive tables.';\n",
              "          element.innerHTML = '';\n",
              "          dataTable['output_type'] = 'display_data';\n",
              "          await google.colab.output.renderOutput(dataTable, element);\n",
              "          const docLink = document.createElement('div');\n",
              "          docLink.innerHTML = docLinkHtml;\n",
              "          element.appendChild(docLink);\n",
              "        }\n",
              "      </script>\n",
              "    </div>\n",
              "  </div>\n",
              "  "
            ]
          },
          "metadata": {},
          "execution_count": 78
        }
      ]
    },
    {
      "cell_type": "code",
      "source": [
        "df_predict.to_csv('df_predict.csv')"
      ],
      "metadata": {
        "id": "RSNBXPFyI9Oy"
      },
      "execution_count": null,
      "outputs": []
    }
  ]
}